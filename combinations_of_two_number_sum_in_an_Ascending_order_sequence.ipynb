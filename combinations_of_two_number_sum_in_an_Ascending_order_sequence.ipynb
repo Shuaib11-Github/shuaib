{
  "nbformat": 4,
  "nbformat_minor": 0,
  "metadata": {
    "colab": {
      "name": "combinations of two number sum  in an Ascending order sequence.ipynb",
      "provenance": [],
      "authorship_tag": "ABX9TyPSqTEbgkMYkBQtjVbmG50Z",
      "include_colab_link": true
    },
    "kernelspec": {
      "name": "python3",
      "display_name": "Python 3"
    }
  },
  "cells": [
    {
      "cell_type": "markdown",
      "metadata": {
        "id": "view-in-github",
        "colab_type": "text"
      },
      "source": [
        "<a href=\"https://colab.research.google.com/github/Shuaib11-Github/shuaib/blob/master/combinations_of_two_number_sum_in_an_Ascending_order_sequence.ipynb\" target=\"_parent\"><img src=\"https://colab.research.google.com/assets/colab-badge.svg\" alt=\"Open In Colab\"/></a>"
      ]
    },
    {
      "cell_type": "code",
      "metadata": {
        "colab": {
          "base_uri": "https://localhost:8080/"
        },
        "id": "8kwkbQQyMjSr",
        "outputId": "da1c3958-d223-4411-822b-8306e2a07973"
      },
      "source": [
        "# combinations of two number sum in an Ascending order sequence:\r\n",
        "def twonumsum(arr,targetsum):\r\n",
        "  arr.sort()\r\n",
        "  n = len(arr)\r\n",
        "  a = []\r\n",
        "  left = 0\r\n",
        "  right = len(arr) - 1\r\n",
        "  while left < right:\r\n",
        "    currentsum = arr[left] + arr[right]\r\n",
        "    if currentsum == targetsum:\r\n",
        "      b = [arr[left],arr[right]]\r\n",
        "      left += 1\r\n",
        "      right -= 1 \r\n",
        "      a.append(b)\r\n",
        "    elif currentsum < targetsum:\r\n",
        "      left += 1\r\n",
        "    elif currentsum > targetsum:\r\n",
        "      right -= 1\r\n",
        "    else:\r\n",
        "      return []\r\n",
        "  return a\r\n",
        "twonumsum([3,5,-4,8,11,1,-1,6,3,2,4,0],4)"
      ],
      "execution_count": 48,
      "outputs": [
        {
          "output_type": "execute_result",
          "data": {
            "text/plain": [
              "[[-4, 8], [-1, 5], [0, 4], [1, 3]]"
            ]
          },
          "metadata": {
            "tags": []
          },
          "execution_count": 48
        }
      ]
    },
    {
      "cell_type": "code",
      "metadata": {
        "colab": {
          "base_uri": "https://localhost:8080/"
        },
        "id": "7eF2HNFVMpEu",
        "outputId": "47bca245-109d-4030-ca8d-11490ee16337"
      },
      "source": [
        "c = [[1,3],[-1,5],[-4,8]]\r\n",
        "len(c)\r\n",
        "c[2:-4:-1]"
      ],
      "execution_count": 44,
      "outputs": [
        {
          "output_type": "execute_result",
          "data": {
            "text/plain": [
              "[[-4, 8], [-1, 5], [1, 3]]"
            ]
          },
          "metadata": {
            "tags": []
          },
          "execution_count": 44
        }
      ]
    },
    {
      "cell_type": "code",
      "metadata": {
        "id": "X8qjQIQZNcU5"
      },
      "source": [
        ""
      ],
      "execution_count": null,
      "outputs": []
    }
  ]
}