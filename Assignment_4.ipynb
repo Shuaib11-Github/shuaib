{
  "nbformat": 4,
  "nbformat_minor": 0,
  "metadata": {
    "colab": {
      "name": "Assignment 4.ipynb",
      "provenance": [],
      "authorship_tag": "ABX9TyM2/lYh09cK3xatMHLGfoBF",
      "include_colab_link": true
    },
    "kernelspec": {
      "name": "python3",
      "display_name": "Python 3"
    }
  },
  "cells": [
    {
      "cell_type": "markdown",
      "metadata": {
        "id": "view-in-github",
        "colab_type": "text"
      },
      "source": [
        "<a href=\"https://colab.research.google.com/github/Shuaib11-Github/shuaib/blob/master/Assignment_4.ipynb\" target=\"_parent\"><img src=\"https://colab.research.google.com/assets/colab-badge.svg\" alt=\"Open In Colab\"/></a>"
      ]
    },
    {
      "cell_type": "code",
      "metadata": {
        "colab": {
          "base_uri": "https://localhost:8080/"
        },
        "id": "iuo2updFUKbD",
        "outputId": "a41e035e-d80c-401f-9a3d-4d8115ded455"
      },
      "source": [
        "# I Method:\r\n",
        "class Triangle:\r\n",
        "\r\n",
        "  def __init__(self,a,b,c):\r\n",
        "    self.a = a\r\n",
        "    self.b = b\r\n",
        "    self.c = c\r\n",
        "\r\n",
        "class Area(Triangle):\r\n",
        "  \r\n",
        "  def area(self):\r\n",
        "    super(Triangle).__init__()\r\n",
        "    s = (self.a+self.b+self.c)/2\r\n",
        "    area_of_triangle = float((s)*(s-self.a)*(s-self.b)*(s-self.c))**0.5\r\n",
        "    return area_of_triangle\r\n",
        "\r\n",
        "t = Area(20,30,40)\r\n",
        "print('Area of triangle: {}'.format(t.area()))\r\n",
        "print('Area of triangle:',t.area())"
      ],
      "execution_count": 1,
      "outputs": [
        {
          "output_type": "stream",
          "text": [
            "Area of triangle: 290.4737509655563\n",
            "Area of triangle: 290.4737509655563\n"
          ],
          "name": "stdout"
        }
      ]
    },
    {
      "cell_type": "code",
      "metadata": {
        "colab": {
          "base_uri": "https://localhost:8080/"
        },
        "id": "YtNz2NDiUNof",
        "outputId": "9e677f64-2cf3-4a72-984f-adc5c2ebeff8"
      },
      "source": [
        "# II Method:\r\n",
        "class Triangle:\r\n",
        "\r\n",
        "  def __init__(self,a,b,c):\r\n",
        "    self.a = a\r\n",
        "    self.b = b\r\n",
        "    self.c = c\r\n",
        "\r\n",
        "class Area(Triangle):\r\n",
        "  \r\n",
        "  def area(self):\r\n",
        "    s = (self.a+self.b+self.c)/2\r\n",
        "    area_of_triangle = float((s)*(s-self.a)*(s-self.b)*(s-self.c))**0.5\r\n",
        "    return area_of_triangle\r\n",
        "\r\n",
        "t = Area(20,30,40)\r\n",
        "print('Area of triangle: {}'.format(t.area()))\r\n",
        "print('Area of triangle:',t.area())"
      ],
      "execution_count": 2,
      "outputs": [
        {
          "output_type": "stream",
          "text": [
            "Area of triangle: 290.4737509655563\n",
            "Area of triangle: 290.4737509655563\n"
          ],
          "name": "stdout"
        }
      ]
    },
    {
      "cell_type": "code",
      "metadata": {
        "colab": {
          "base_uri": "https://localhost:8080/"
        },
        "id": "PvnFSETxUOSp",
        "outputId": "729ebec6-d856-48db-a119-3e9fdaadea84"
      },
      "source": [
        "def filter_long_words(n,str):\r\n",
        "  word_len = []\r\n",
        "  txt = str.split(' ')\r\n",
        "  for x in txt:\r\n",
        "    if len(x) > n:\r\n",
        "      word_len.append(x)\r\n",
        "  return word_len\r\n",
        "result = filter_long_words(3,'Look at those big gray eyes and that beautiful red hair!')\r\n",
        "print(result)"
      ],
      "execution_count": 3,
      "outputs": [
        {
          "output_type": "stream",
          "text": [
            "['Look', 'those', 'gray', 'eyes', 'that', 'beautiful', 'hair!']\n"
          ],
          "name": "stdout"
        }
      ]
    },
    {
      "cell_type": "code",
      "metadata": {
        "colab": {
          "base_uri": "https://localhost:8080/"
        },
        "id": "2H0ganaaUQGo",
        "outputId": "ccc361be-d02f-4ecd-d60a-1f31ed43f32f"
      },
      "source": [
        "def word_num(l):\r\n",
        "  return [len(i) for i in l]\r\n",
        "word_num(['ab','cde','erty'])"
      ],
      "execution_count": 4,
      "outputs": [
        {
          "output_type": "execute_result",
          "data": {
            "text/plain": [
              "[2, 3, 4]"
            ]
          },
          "metadata": {
            "tags": []
          },
          "execution_count": 4
        }
      ]
    },
    {
      "cell_type": "code",
      "metadata": {
        "colab": {
          "base_uri": "https://localhost:8080/"
        },
        "id": "qOL0Grc3UQnS",
        "outputId": "51f920be-4e21-42dc-b09a-0f1795a86d03"
      },
      "source": [
        "def isvowel(char):\r\n",
        "  all_vowels = 'aeiouAEIOU'\r\n",
        "  return char in all_vowels\r\n",
        "print(isvowel('c'))\r\n",
        "print(isvowel('o'))\r\n",
        "print(isvowel('A'))\r\n",
        "print(isvowel('U'))"
      ],
      "execution_count": 5,
      "outputs": [
        {
          "output_type": "stream",
          "text": [
            "False\n",
            "True\n",
            "True\n",
            "True\n"
          ],
          "name": "stdout"
        }
      ]
    },
    {
      "cell_type": "code",
      "metadata": {
        "id": "0pW7-qTjUklU"
      },
      "source": [
        ""
      ],
      "execution_count": null,
      "outputs": []
    }
  ]
}