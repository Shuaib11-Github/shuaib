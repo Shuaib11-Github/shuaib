{
  "nbformat": 4,
  "nbformat_minor": 0,
  "metadata": {
    "colab": {
      "name": "Assignment 3.ipynb",
      "provenance": [],
      "authorship_tag": "ABX9TyMFXhEGKJ3RfLseedJ1xa9b",
      "include_colab_link": true
    },
    "kernelspec": {
      "name": "python3",
      "display_name": "Python 3"
    }
  },
  "cells": [
    {
      "cell_type": "markdown",
      "metadata": {
        "id": "view-in-github",
        "colab_type": "text"
      },
      "source": [
        "<a href=\"https://colab.research.google.com/github/Shuaib11-Github/shuaib/blob/master/Assignment_3.ipynb\" target=\"_parent\"><img src=\"https://colab.research.google.com/assets/colab-badge.svg\" alt=\"Open In Colab\"/></a>"
      ]
    },
    {
      "cell_type": "code",
      "metadata": {
        "id": "e6wdK31IpnjH",
        "colab": {
          "base_uri": "https://localhost:8080/"
        },
        "outputId": "f7de6160-4ee6-4b7c-ae3c-e44c4021b63f"
      },
      "source": [
        "# myreduce() function:\r\n",
        "def myreduce(num):\r\n",
        "  num_list = list(range(1,num+1))\r\n",
        "  sum_of_elements = 0\r\n",
        "  for i in num_list:\r\n",
        "    sum_of_elements += i\r\n",
        "  return num_list,sum_of_elements\r\n",
        "num = int(input('Enter the numbers: '))\r\n",
        "output_number = myreduce(num)\r\n",
        "print('First N Natural Numbers: ',output_number[0])\r\n",
        "print('Sum of first N Natural Numbers: ',output_number[1])"
      ],
      "execution_count": 1,
      "outputs": [
        {
          "output_type": "stream",
          "text": [
            "Enter the numbers: 20\n",
            "First N Natural Numbers:  [1, 2, 3, 4, 5, 6, 7, 8, 9, 10, 11, 12, 13, 14, 15, 16, 17, 18, 19, 20]\n",
            "Sum of first N Natural Numbers:  210\n"
          ],
          "name": "stdout"
        }
      ]
    },
    {
      "cell_type": "code",
      "metadata": {
        "id": "K_UqCJAyp5L8",
        "colab": {
          "base_uri": "https://localhost:8080/"
        },
        "outputId": "95ade7e5-bcad-43b1-ee83-4765e4f5c0bc"
      },
      "source": [
        "# using reduce() function:\r\n",
        "num=int(input(\"Please insert the number :\"))\r\n",
        "num_list= list(range(1,(num+1)))\r\n",
        "# Import reduce function \r\n",
        "from functools import reduce\r\n",
        "sum_of_elements = reduce((lambda x, y: x + y), num_list)\r\n",
        "\r\n",
        "print(\"List of First n Natural numbers are:\",num_list)\r\n",
        "print(\"Sum of List elements are :\",sum_of_elements)"
      ],
      "execution_count": 2,
      "outputs": [
        {
          "output_type": "stream",
          "text": [
            "Please insert the number :20\n",
            "List of First n Natural numbers are: [1, 2, 3, 4, 5, 6, 7, 8, 9, 10, 11, 12, 13, 14, 15, 16, 17, 18, 19, 20]\n",
            "Sum of List elements are : 210\n"
          ],
          "name": "stdout"
        }
      ]
    },
    {
      "cell_type": "code",
      "metadata": {
        "colab": {
          "base_uri": "https://localhost:8080/"
        },
        "id": "PGUsffjfkj2W",
        "outputId": "053ce737-b2f1-41f4-dc4f-49b87fe0354a"
      },
      "source": [
        "# myfilter() function:\r\n",
        "num = int(input('Enter the number: '))\r\n",
        "num_list = list(range(1,num+1))\r\n",
        "def filter(num):\r\n",
        "  even_num = []\r\n",
        "  odd_num = []\r\n",
        "  for i in num_list:\r\n",
        "    if i%5 == 0:\r\n",
        "      if i%2 == 0:\r\n",
        "        even_num.append(i)\r\n",
        "      else:\r\n",
        "        odd_num.append(i)\r\n",
        "  return even_num,odd_num\r\n",
        "output_num = filter(num)\r\n",
        "print('List of numbers: ',num_list)\r\n",
        "print('Even list which are multiple of 5: ',output_num[0])\r\n",
        "print('Odd list which are multiple of 5: ',output_num[1])"
      ],
      "execution_count": 4,
      "outputs": [
        {
          "output_type": "stream",
          "text": [
            "Enter the number: 25\n",
            "List of numbers:  [1, 2, 3, 4, 5, 6, 7, 8, 9, 10, 11, 12, 13, 14, 15, 16, 17, 18, 19, 20, 21, 22, 23, 24, 25]\n",
            "Even list which are multiple of 5:  [10, 20]\n",
            "Odd list which are multiple of 5:  [5, 15, 25]\n"
          ],
          "name": "stdout"
        }
      ]
    },
    {
      "cell_type": "code",
      "metadata": {
        "colab": {
          "base_uri": "https://localhost:8080/"
        },
        "id": "jxGjiwHiWaiW",
        "outputId": "30422f1c-4bf3-42e6-8516-ce741f869494"
      },
      "source": [
        "# using filter() function:\r\n",
        "print(\"Input:\")\r\n",
        "number=int(input(\"Please insert the number: \"))\r\n",
        "\r\n",
        "num_list=list(range(1,number+1))\r\n",
        "\r\n",
        "num_even_list=list(filter(lambda x: x%2==0,list(filter(lambda x: x%5==0 ,num_list))))\r\n",
        "num_odd_list= list(filter(lambda x: x%2!=0,list(filter(lambda x: x%5==0 ,num_list))))\r\n",
        "\r\n",
        "print(\"Output:\")\r\n",
        "\r\n",
        "print(\"List of numbers:\",num_list)\r\n",
        "print(\"List of Even numbers, which are multiples of 5 are:\",num_even_list)\r\n",
        "print(\"List of Odd numbers, which are multiples of 5 are:\",num_odd_list)"
      ],
      "execution_count": 3,
      "outputs": [
        {
          "output_type": "stream",
          "text": [
            "Input:\n",
            "Please insert the number: 25\n",
            "Output:\n",
            "List of numbers: [1, 2, 3, 4, 5, 6, 7, 8, 9, 10, 11, 12, 13, 14, 15, 16, 17, 18, 19, 20, 21, 22, 23, 24, 25]\n",
            "List of Even numbers, which are multiples of 5 are: [10, 20]\n",
            "List of Odd numbers, which are multiples of 5 are: [5, 15, 25]\n"
          ],
          "name": "stdout"
        }
      ]
    },
    {
      "cell_type": "code",
      "metadata": {
        "colab": {
          "base_uri": "https://localhost:8080/"
        },
        "id": "aTKLu6Map5SZ",
        "outputId": "6fd6754f-c30a-4792-e56a-2b327cc2af81"
      },
      "source": [
        "[l*i for l in 'xyz' for i in range(1,5)]"
      ],
      "execution_count": 5,
      "outputs": [
        {
          "output_type": "execute_result",
          "data": {
            "text/plain": [
              "['x', 'xx', 'xxx', 'xxxx', 'y', 'yy', 'yyy', 'yyyy', 'z', 'zz', 'zzz', 'zzzz']"
            ]
          },
          "metadata": {
            "tags": []
          },
          "execution_count": 5
        }
      ]
    },
    {
      "cell_type": "code",
      "metadata": {
        "colab": {
          "base_uri": "https://localhost:8080/"
        },
        "id": "X8hPTlzgp5sz",
        "outputId": "cd1a24db-3b52-4d4a-9794-43ef7bc6bee3"
      },
      "source": [
        "[l*i for i in range(1,5) for l in 'xyz']"
      ],
      "execution_count": 6,
      "outputs": [
        {
          "output_type": "execute_result",
          "data": {
            "text/plain": [
              "['x', 'y', 'z', 'xx', 'yy', 'zz', 'xxx', 'yyy', 'zzz', 'xxxx', 'yyyy', 'zzzz']"
            ]
          },
          "metadata": {
            "tags": []
          },
          "execution_count": 6
        }
      ]
    },
    {
      "cell_type": "code",
      "metadata": {
        "colab": {
          "base_uri": "https://localhost:8080/"
        },
        "id": "56Bn04Pcp5xT",
        "outputId": "f4631b37-9800-42dc-a9fb-2585cdde068a"
      },
      "source": [
        "# I Method:\r\n",
        "[[i+j] for j in range(1,4) for i in range(1,4)]\r\n",
        "\r\n",
        "# II Method:\r\n",
        "num = [2,3,4]\r\n",
        "[[j+n] for n in range(3) for j in num]"
      ],
      "execution_count": 7,
      "outputs": [
        {
          "output_type": "execute_result",
          "data": {
            "text/plain": [
              "[[2], [3], [4], [3], [4], [5], [4], [5], [6]]"
            ]
          },
          "metadata": {
            "tags": []
          },
          "execution_count": 7
        }
      ]
    },
    {
      "cell_type": "code",
      "metadata": {
        "colab": {
          "base_uri": "https://localhost:8080/"
        },
        "id": "sK89C_EWp58D",
        "outputId": "aca45035-ec59-475f-c626-1d506698baab"
      },
      "source": [
        "# I Method:\r\n",
        "[[j+n for n in range(4)] for j in range(2,6)]\r\n",
        "\r\n",
        "# II Method:\r\n",
        "num = [2,3,4,5]\r\n",
        "[[j+n for n in range(4)] for j in num]"
      ],
      "execution_count": 8,
      "outputs": [
        {
          "output_type": "execute_result",
          "data": {
            "text/plain": [
              "[[2, 3, 4, 5], [3, 4, 5, 6], [4, 5, 6, 7], [5, 6, 7, 8]]"
            ]
          },
          "metadata": {
            "tags": []
          },
          "execution_count": 8
        }
      ]
    },
    {
      "cell_type": "code",
      "metadata": {
        "colab": {
          "base_uri": "https://localhost:8080/"
        },
        "id": "rLGXIikTqUpj",
        "outputId": "099b1a85-330d-4243-c9ae-9181ed2fe643"
      },
      "source": [
        "# I Method:\r\n",
        "[(j,i) for i in range(1,4) for j in range(1,4)]\r\n",
        "\r\n",
        "# II Method:\r\n",
        "num = [1,2,3]\r\n",
        "[(j,i) for i in num for j in num]"
      ],
      "execution_count": 9,
      "outputs": [
        {
          "output_type": "execute_result",
          "data": {
            "text/plain": [
              "[(1, 1), (2, 1), (3, 1), (1, 2), (2, 2), (3, 2), (1, 3), (2, 3), (3, 3)]"
            ]
          },
          "metadata": {
            "tags": []
          },
          "execution_count": 9
        }
      ]
    },
    {
      "cell_type": "code",
      "metadata": {
        "id": "aNPMjUsMqXw0"
      },
      "source": [
        ""
      ],
      "execution_count": null,
      "outputs": []
    }
  ]
}