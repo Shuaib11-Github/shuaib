{
  "nbformat": 4,
  "nbformat_minor": 0,
  "metadata": {
    "colab": {
      "name": "Assignment 3.ipynb",
      "provenance": [],
      "authorship_tag": "ABX9TyO5PilSUVebeIHcXn2xZcLn",
      "include_colab_link": true
    },
    "kernelspec": {
      "name": "python3",
      "display_name": "Python 3"
    }
  },
  "cells": [
    {
      "cell_type": "markdown",
      "metadata": {
        "id": "view-in-github",
        "colab_type": "text"
      },
      "source": [
        "<a href=\"https://colab.research.google.com/github/Shuaib11-Github/shuaib/blob/master/Assignment_3.ipynb\" target=\"_parent\"><img src=\"https://colab.research.google.com/assets/colab-badge.svg\" alt=\"Open In Colab\"/></a>"
      ]
    },
    {
      "cell_type": "code",
      "metadata": {
        "id": "e6wdK31IpnjH",
        "colab": {
          "base_uri": "https://localhost:8080/"
        },
        "outputId": "3b8b7f01-eac0-472c-f098-70c595070e73"
      },
      "source": [
        "# myreduce() function:\r\n",
        "def myreduce(num):\r\n",
        "  num_list = list(range(1,num+1))\r\n",
        "  sum_of_elements = 0\r\n",
        "  for i in num_list:\r\n",
        "    sum_of_elements += i\r\n",
        "  return num_list,sum_of_elements\r\n",
        "num = int(input('Enter the numbers: '))\r\n",
        "output_number = myreduce(num)\r\n",
        "print('First N Natural Numbers: ',output_number[0])\r\n",
        "print('Sum of first N Natural Numbers: ',output_number[1])"
      ],
      "execution_count": 1,
      "outputs": [
        {
          "output_type": "stream",
          "text": [
            "Enter the numbers: 20\n",
            "First N Natural Numbers:  [1, 2, 3, 4, 5, 6, 7, 8, 9, 10, 11, 12, 13, 14, 15, 16, 17, 18, 19, 20]\n",
            "Sum of first N Natural Numbers:  210\n"
          ],
          "name": "stdout"
        }
      ]
    },
    {
      "cell_type": "code",
      "metadata": {
        "id": "K_UqCJAyp5L8",
        "colab": {
          "base_uri": "https://localhost:8080/"
        },
        "outputId": "defe5838-5062-48c6-f7bc-b0e6d058d5ca"
      },
      "source": [
        "# using reduce() function:\r\n",
        "num=int(input(\"Please insert the number :\"))\r\n",
        "num_list= list(range(1,(num+1)))\r\n",
        "# Import reduce function \r\n",
        "from functools import reduce\r\n",
        "sum_of_elements = reduce((lambda x, y: x + y), num_list)\r\n",
        "\r\n",
        "print(\"List of First n Natural numbers are:\",num_list)\r\n",
        "print(\"Sum of List elements are :\",sum_of_elements)"
      ],
      "execution_count": 2,
      "outputs": [
        {
          "output_type": "stream",
          "text": [
            "Please insert the number :20\n",
            "List of First n Natural numbers are: [1, 2, 3, 4, 5, 6, 7, 8, 9, 10, 11, 12, 13, 14, 15, 16, 17, 18, 19, 20]\n",
            "Sum of List elements are : 210\n"
          ],
          "name": "stdout"
        }
      ]
    },
    {
      "cell_type": "code",
      "metadata": {
        "colab": {
          "base_uri": "https://localhost:8080/"
        },
        "id": "PGUsffjfkj2W",
        "outputId": "6244ccb4-0f7a-419c-8d1f-f5ea5339f51a"
      },
      "source": [
        "# myfilter() function:\r\n",
        "num = int(input('Enter the number: '))\r\n",
        "num_list = list(range(1,num+1))\r\n",
        "def myfilter(num):\r\n",
        "  even_num = []\r\n",
        "  odd_num = []\r\n",
        "  for i in num_list:\r\n",
        "    if i%5 == 0:\r\n",
        "      if i%2 == 0:\r\n",
        "        even_num.append(i)\r\n",
        "      else:\r\n",
        "        odd_num.append(i)\r\n",
        "  return even_num,odd_num\r\n",
        "output_num = myfilter(num)\r\n",
        "print('List of numbers: ',num_list)\r\n",
        "print('Even list which are multiple of 5: ',output_num[0])\r\n",
        "print('Odd list which are multiple of 5: ',output_num[1])"
      ],
      "execution_count": 3,
      "outputs": [
        {
          "output_type": "stream",
          "text": [
            "Enter the number: 25\n",
            "List of numbers:  [1, 2, 3, 4, 5, 6, 7, 8, 9, 10, 11, 12, 13, 14, 15, 16, 17, 18, 19, 20, 21, 22, 23, 24, 25]\n",
            "Even list which are multiple of 5:  [10, 20]\n",
            "Odd list which are multiple of 5:  [5, 15, 25]\n"
          ],
          "name": "stdout"
        }
      ]
    },
    {
      "cell_type": "code",
      "metadata": {
        "colab": {
          "base_uri": "https://localhost:8080/"
        },
        "id": "jxGjiwHiWaiW",
        "outputId": "045cab55-c216-4d43-cf99-a2fc85340cc9"
      },
      "source": [
        "# using filter() function:\r\n",
        "number=int(input(\"Please insert the number: \"))\r\n",
        "\r\n",
        "num_list=list(range(1,number+1))\r\n",
        "\r\n",
        "num_even_list=list(filter(lambda x: x%2==0,list(filter(lambda x: x%5==0 ,num_list))))\r\n",
        "num_odd_list= list(filter(lambda x: x%2!=0,list(filter(lambda x: x%5==0 ,num_list))))\r\n",
        "\r\n",
        "print(\"List of numbers:\",num_list)\r\n",
        "print(\"List of Even numbers, which are multiples of 5 are:\",num_even_list)\r\n",
        "print(\"List of Odd numbers, which are multiples of 5 are:\",num_odd_list)"
      ],
      "execution_count": 4,
      "outputs": [
        {
          "output_type": "stream",
          "text": [
            "Please insert the number: 25\n",
            "List of numbers: [1, 2, 3, 4, 5, 6, 7, 8, 9, 10, 11, 12, 13, 14, 15, 16, 17, 18, 19, 20, 21, 22, 23, 24, 25]\n",
            "List of Even numbers, which are multiples of 5 are: [10, 20]\n",
            "List of Odd numbers, which are multiples of 5 are: [5, 15, 25]\n"
          ],
          "name": "stdout"
        }
      ]
    },
    {
      "cell_type": "code",
      "metadata": {
        "colab": {
          "base_uri": "https://localhost:8080/"
        },
        "id": "aTKLu6Map5SZ",
        "outputId": "ff5a1a11-e3d9-4ada-98da-c91ea3d8376e"
      },
      "source": [
        "[l*i for l in 'xyz' for i in range(1,5)]"
      ],
      "execution_count": 5,
      "outputs": [
        {
          "output_type": "execute_result",
          "data": {
            "text/plain": [
              "['x', 'xx', 'xxx', 'xxxx', 'y', 'yy', 'yyy', 'yyyy', 'z', 'zz', 'zzz', 'zzzz']"
            ]
          },
          "metadata": {
            "tags": []
          },
          "execution_count": 5
        }
      ]
    },
    {
      "cell_type": "code",
      "metadata": {
        "colab": {
          "base_uri": "https://localhost:8080/"
        },
        "id": "X8hPTlzgp5sz",
        "outputId": "dd415be1-d696-4cd8-8c51-5233277ba090"
      },
      "source": [
        "[l*i for i in range(1,5) for l in 'xyz']"
      ],
      "execution_count": 6,
      "outputs": [
        {
          "output_type": "execute_result",
          "data": {
            "text/plain": [
              "['x', 'y', 'z', 'xx', 'yy', 'zz', 'xxx', 'yyy', 'zzz', 'xxxx', 'yyyy', 'zzzz']"
            ]
          },
          "metadata": {
            "tags": []
          },
          "execution_count": 6
        }
      ]
    },
    {
      "cell_type": "code",
      "metadata": {
        "colab": {
          "base_uri": "https://localhost:8080/"
        },
        "id": "56Bn04Pcp5xT",
        "outputId": "7cd69bc8-5192-4f7e-8cab-ca27fc5f227e"
      },
      "source": [
        "# I Method:\r\n",
        "[[i+j] for j in range(1,4) for i in range(1,4)]\r\n",
        "\r\n",
        "# II Method:\r\n",
        "num = [2,3,4]\r\n",
        "[[j+n] for n in range(3) for j in num]"
      ],
      "execution_count": 7,
      "outputs": [
        {
          "output_type": "execute_result",
          "data": {
            "text/plain": [
              "[[2], [3], [4], [3], [4], [5], [4], [5], [6]]"
            ]
          },
          "metadata": {
            "tags": []
          },
          "execution_count": 7
        }
      ]
    },
    {
      "cell_type": "code",
      "metadata": {
        "colab": {
          "base_uri": "https://localhost:8080/"
        },
        "id": "sK89C_EWp58D",
        "outputId": "e2aa9cba-2258-42c6-fc03-1e491f06dd70"
      },
      "source": [
        "# I Method:\r\n",
        "[[j+n for n in range(4)] for j in range(2,6)]\r\n",
        "\r\n",
        "# II Method:\r\n",
        "num = [2,3,4,5]\r\n",
        "[[j+n for n in range(4)] for j in num]"
      ],
      "execution_count": 8,
      "outputs": [
        {
          "output_type": "execute_result",
          "data": {
            "text/plain": [
              "[[2, 3, 4, 5], [3, 4, 5, 6], [4, 5, 6, 7], [5, 6, 7, 8]]"
            ]
          },
          "metadata": {
            "tags": []
          },
          "execution_count": 8
        }
      ]
    },
    {
      "cell_type": "code",
      "metadata": {
        "colab": {
          "base_uri": "https://localhost:8080/"
        },
        "id": "rLGXIikTqUpj",
        "outputId": "feec615e-c87d-470d-b762-551f449bf031"
      },
      "source": [
        "# I Method:\r\n",
        "[(j,i) for i in range(1,4) for j in range(1,4)]\r\n",
        "\r\n",
        "# II Method:\r\n",
        "num = [1,2,3]\r\n",
        "[(j,i) for i in num for j in num]"
      ],
      "execution_count": 9,
      "outputs": [
        {
          "output_type": "execute_result",
          "data": {
            "text/plain": [
              "[(1, 1), (2, 1), (3, 1), (1, 2), (2, 2), (3, 2), (1, 3), (2, 3), (3, 3)]"
            ]
          },
          "metadata": {
            "tags": []
          },
          "execution_count": 9
        }
      ]
    },
    {
      "cell_type": "code",
      "metadata": {
        "id": "aNPMjUsMqXw0"
      },
      "source": [
        ""
      ],
      "execution_count": null,
      "outputs": []
    }
  ]
}