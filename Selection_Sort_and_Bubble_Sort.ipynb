{
  "nbformat": 4,
  "nbformat_minor": 0,
  "metadata": {
    "colab": {
      "name": "Selection Sort and Bubble Sort.ipynb",
      "provenance": [],
      "authorship_tag": "ABX9TyMe1J337QG8hA7+qotx6mbI",
      "include_colab_link": true
    },
    "kernelspec": {
      "name": "python3",
      "display_name": "Python 3"
    }
  },
  "cells": [
    {
      "cell_type": "markdown",
      "metadata": {
        "id": "view-in-github",
        "colab_type": "text"
      },
      "source": [
        "<a href=\"https://colab.research.google.com/github/Shuaib11-Github/shuaib/blob/master/Selection_Sort_and_Bubble_Sort.ipynb\" target=\"_parent\"><img src=\"https://colab.research.google.com/assets/colab-badge.svg\" alt=\"Open In Colab\"/></a>"
      ]
    },
    {
      "cell_type": "code",
      "metadata": {
        "colab": {
          "base_uri": "https://localhost:8080/"
        },
        "id": "jDB0zxEa2KdU",
        "outputId": "f300674b-7911-48fc-8b80-f24fce536ebc"
      },
      "source": [
        "# O(n^2) Time | O(1) Space:\r\n",
        "\r\n",
        "from datetime import datetime\r\n",
        "start_time = datetime.now()\r\n",
        "\r\n",
        "def SelectionSort(arr):\r\n",
        "  currentidx = 0\r\n",
        "  while currentidx < len(arr) - 1:\r\n",
        "    smallestidx = currentidx\r\n",
        "    for i in range(currentidx + 1,len(arr)):\r\n",
        "      if arr[smallestidx] >  arr[i]:\r\n",
        "        smallestidx = i\r\n",
        "    swap(currentidx,smallestidx,arr)\r\n",
        "    currentidx += 1\r\n",
        "  return arr\r\n",
        "\r\n",
        "def swap(i,j,arr):\r\n",
        "  arr[i],arr[j] = arr[j],arr[i]\r\n",
        "\r\n",
        "print(SelectionSort([8,5,2,9,6,3,1]))\r\n",
        "\r\n",
        "end_time = datetime.now()\r\n",
        "print('Duration: {}'.format((end_time - start_time).total_seconds()))"
      ],
      "execution_count": 67,
      "outputs": [
        {
          "output_type": "stream",
          "text": [
            "[1, 2, 3, 5, 6, 8, 9]\n",
            "Duration: 0.002261\n"
          ],
          "name": "stdout"
        }
      ]
    },
    {
      "cell_type": "code",
      "metadata": {
        "id": "3mNrmUJuG4i3",
        "colab": {
          "base_uri": "https://localhost:8080/"
        },
        "outputId": "b998a8bf-e378-4e5c-9bef-58c0a37fdca7"
      },
      "source": [
        "from datetime import datetime\r\n",
        "start_time = datetime.now()\r\n",
        "\r\n",
        "# do your work here\r\n",
        "\r\n",
        "def SelectionSort(arr):\r\n",
        "  currentidx = 0\r\n",
        "  while currentidx < len(arr) - 1:\r\n",
        "    smallestidx = currentidx\r\n",
        "    for i in range(currentidx + 1,len(arr)):\r\n",
        "      if arr[smallestidx] >  arr[i]:\r\n",
        "        smallestidx = i\r\n",
        "    swap(currentidx,smallestidx,arr)\r\n",
        "    currentidx += 1\r\n",
        "  return arr\r\n",
        "\r\n",
        "def swap(i,j,arr):\r\n",
        "  arr[i],arr[j] = arr[j],arr[i]\r\n",
        "\r\n",
        "print(SelectionSort([8,5,2,9,6,3,1,4,1]))\r\n",
        "\r\n",
        "end_time = datetime.now()\r\n",
        "print('Duration: {}'.format((end_time - start_time).total_seconds()))"
      ],
      "execution_count": 68,
      "outputs": [
        {
          "output_type": "stream",
          "text": [
            "[1, 1, 2, 3, 4, 5, 6, 8, 9]\n",
            "Duration: 0.000579\n"
          ],
          "name": "stdout"
        }
      ]
    },
    {
      "cell_type": "code",
      "metadata": {
        "colab": {
          "base_uri": "https://localhost:8080/"
        },
        "id": "V9WjpDKgCXJQ",
        "outputId": "9aa5df0c-9788-4e73-e4fe-f6675e5bc9df"
      },
      "source": [
        "from datetime import datetime\r\n",
        "start_time = datetime.now()\r\n",
        "\r\n",
        "# do your work here\r\n",
        "\r\n",
        "def SelectionSort(arr):\r\n",
        "  currentidx = 0\r\n",
        "  while currentidx < len(arr) - 1:\r\n",
        "    smallestidx = currentidx\r\n",
        "    for i in range(currentidx + 1,len(arr)):\r\n",
        "      if arr[smallestidx] >  arr[i]:\r\n",
        "        smallestidx = i\r\n",
        "      \r\n",
        "    arr[currentidx],arr[smallestidx] = arr[smallestidx],arr[currentidx]\r\n",
        "    currentidx += 1\r\n",
        "  return arr\r\n",
        "  \r\n",
        "print(SelectionSort([8,5,2,5,9,6,3,4,1]))\r\n",
        "\r\n",
        "end_time = datetime.now()\r\n",
        "print('Duration: {}'.format((end_time - start_time).total_seconds()))"
      ],
      "execution_count": 69,
      "outputs": [
        {
          "output_type": "stream",
          "text": [
            "[1, 2, 3, 4, 5, 5, 6, 8, 9]\n",
            "Duration: 0.000278\n"
          ],
          "name": "stdout"
        }
      ]
    },
    {
      "cell_type": "code",
      "metadata": {
        "colab": {
          "base_uri": "https://localhost:8080/"
        },
        "id": "S-AIk_Lm0h66",
        "outputId": "210a90d4-b82e-48ab-b00e-35dedad921be"
      },
      "source": [
        "from datetime import datetime\r\n",
        "start_time = datetime.now()\r\n",
        "\r\n",
        "def sort1(arr):\r\n",
        "  count = 0\r\n",
        "  for i in range(len(arr) - count):\r\n",
        "    for j in range(i+1,len(arr)):\r\n",
        "      if arr[i] > arr[j]:\r\n",
        "        arr[i],arr[j] = arr[j],arr[i]\r\n",
        "      j += 1\r\n",
        "    count += 1\r\n",
        "  return arr\r\n",
        "\r\n",
        "#print(sort1([8,5,2,5,6,9,3]))\r\n",
        "print(sort1([2,3,5,5,6,8,9,4,1]))\r\n",
        "\r\n",
        "end_time = datetime.now()\r\n",
        "print('Duration: {}'.format((end_time - start_time).total_seconds()))"
      ],
      "execution_count": 70,
      "outputs": [
        {
          "output_type": "stream",
          "text": [
            "[1, 2, 3, 4, 5, 5, 6, 8, 9]\n",
            "Duration: 0.001716\n"
          ],
          "name": "stdout"
        }
      ]
    },
    {
      "cell_type": "code",
      "metadata": {
        "colab": {
          "base_uri": "https://localhost:8080/"
        },
        "id": "vWdJKM2Q2Gsi",
        "outputId": "53b174ef-024d-4465-e702-ab0fe62b433d"
      },
      "source": [
        "# O(n^2) Time | O(1) Space:\r\n",
        "\r\n",
        "from datetime import datetime\r\n",
        "start_time = datetime.now()\r\n",
        "\r\n",
        "def bubblesort(arr):\r\n",
        "  isSorted = False\r\n",
        "  count = 0\r\n",
        "  while not isSorted:\r\n",
        "    isSorted = True\r\n",
        "    for i in range(len(arr) - 1 - count):\r\n",
        "      if arr[i] >arr[i+1]:\r\n",
        "        arr[i],arr[i+1] = arr[i+1],arr[i]\r\n",
        "        isSorted = False\r\n",
        "    count += 1\r\n",
        "  return arr\r\n",
        "\r\n",
        "print(bubblesort([8,5,2,5,9,6,3,4,1]))\r\n",
        "\r\n",
        "end_time = datetime.now()\r\n",
        "print('Duration: {}'.format((end_time - start_time).total_seconds()))"
      ],
      "execution_count": 71,
      "outputs": [
        {
          "output_type": "stream",
          "text": [
            "[1, 2, 3, 4, 5, 5, 6, 8, 9]\n",
            "Duration: 0.00028\n"
          ],
          "name": "stdout"
        }
      ]
    },
    {
      "cell_type": "code",
      "metadata": {
        "colab": {
          "base_uri": "https://localhost:8080/"
        },
        "id": "uP0vAzW8_9lh",
        "outputId": "e7c3d426-0d50-4d0d-d707-9680eccf7a77"
      },
      "source": [
        "from datetime import datetime\r\n",
        "now = datetime.now()\r\n",
        "...\r\n",
        "later = datetime.now()\r\n",
        "difference = (later - now).total_seconds()\r\n",
        "print(difference)"
      ],
      "execution_count": 72,
      "outputs": [
        {
          "output_type": "stream",
          "text": [
            "3.8e-05\n"
          ],
          "name": "stdout"
        }
      ]
    },
    {
      "cell_type": "code",
      "metadata": {
        "id": "SralbnXYAUGN"
      },
      "source": [
        ""
      ],
      "execution_count": null,
      "outputs": []
    }
  ]
}