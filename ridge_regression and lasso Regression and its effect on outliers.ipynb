{
  "nbformat": 4,
  "nbformat_minor": 0,
  "metadata": {
    "kernelspec": {
      "display_name": "Python 3",
      "language": "python",
      "name": "python3"
    },
    "language_info": {
      "codemirror_mode": {
        "name": "ipython",
        "version": 3
      },
      "file_extension": ".py",
      "mimetype": "text/x-python",
      "name": "python",
      "nbconvert_exporter": "python",
      "pygments_lexer": "ipython3",
      "version": "3.6.4"
    },
    "colab": {
      "name": "ridge_regression.ipynb",
      "provenance": [],
      "include_colab_link": true
    }
  },
  "cells": [
    {
      "cell_type": "markdown",
      "metadata": {
        "id": "view-in-github",
        "colab_type": "text"
      },
      "source": [
        "<a href=\"https://colab.research.google.com/github/Shuaib11-Github/shuaib/blob/master/ridge_regression%20and%20lasso%20Regression%20and%20its%20effect%20on%20outliers.ipynb\" target=\"_parent\"><img src=\"https://colab.research.google.com/assets/colab-badge.svg\" alt=\"Open In Colab\"/></a>"
      ]
    },
    {
      "cell_type": "markdown",
      "metadata": {
        "id": "glZcyx5Kg0ju"
      },
      "source": [
        "### Ridge regression without outlier."
      ]
    },
    {
      "cell_type": "code",
      "metadata": {
        "id": "2O4Ng0Ona-XG",
        "outputId": "6b2ad50f-8fa3-480f-87bf-f62de4dfef20",
        "colab": {
          "base_uri": "https://localhost:8080/",
          "height": 279
        }
      },
      "source": [
        "import pandas as pd\n",
        "import numpy as np\n",
        "import matplotlib.pyplot as plt\n",
        "\n",
        "train = [ [4.0,50],[4.5,55],[4.7,60],[5.0,70]]\n",
        "test = [[5.5,68], [5.7,65], [5.9,69], [6.2,70], [7.0,73]]\n",
        "X_train = [4.0,4.5,4.7,5.0]\n",
        "y_train = [50,55,60,70]\n",
        "X_test = [5.5,5.7,5.9,6.2,7.0]\n",
        "y_test = [68,65,69,70,73]\n",
        "plt.scatter(np.array(X_train),y_train,color='blue')\n",
        "plt.scatter(np.array(X_test),y_test,color='red')\n",
        "plt.plot([min(X_train), max(X_train)], [min(y_train), max(y_train)], color='red') # predicted\n",
        "plt.xlabel('Height in ft')\n",
        "plt.ylabel('Weight in kgs')\n",
        "plt.show()"
      ],
      "execution_count": 13,
      "outputs": [
        {
          "output_type": "display_data",
          "data": {
            "image/png": "[encoded data removed]",
            "text/plain": [
              "<Figure size 432x288 with 1 Axes>"
            ]
          },
          "metadata": {
            "tags": [],
            "needs_background": "light"
          }
        }
      ]
    },
    {
      "cell_type": "code",
      "metadata": {
        "id": "Y7qCwZpFa-XX",
        "outputId": "f6e5c8d8-fd49-458d-f067-57641f271449",
        "colab": {
          "base_uri": "https://localhost:8080/",
          "height": 269
        }
      },
      "source": [
        "X_train = np.array(X_train).reshape(-1, 1)\n",
        "X_train\n",
        "from sklearn.linear_model import LinearRegression\n",
        "from sklearn.linear_model import Ridge\n",
        "model_ridge = Ridge(alpha=1)\n",
        "model_ridge.fit(X_train,y_train)\n",
        "model_lnr = LinearRegression()\n",
        "model_lnr.fit(X_train,y_train)\n",
        "\n",
        "x_gen = np.linspace(3,7,100)\n",
        "x_gen = x_gen.reshape(-1,1)\n",
        "y_rid= model_ridge.predict(x_gen)\n",
        "y_lnr = model_lnr.predict(x_gen)\n",
        "\n",
        "plt.scatter(np.array(X_train),y_train,color='blue')\n",
        "plt.scatter(np.array(X_test),y_test,color='red')\n",
        "plt.scatter(x_gen,y_lnr,s=4,color='orange')\n",
        "plt.scatter(x_gen,y_rid,s=4,color='green')\n",
        "plt.show()"
      ],
      "execution_count": 12,
      "outputs": [
        {
          "output_type": "display_data",
          "data": {
            "image/png": "[encoded data removed]",
            "text/plain": [
              "<Figure size 432x288 with 1 Axes>"
            ]
          },
          "metadata": {
            "tags": [],
            "needs_background": "light"
          }
        }
      ]
    },
    {
      "cell_type": "code",
      "metadata": {
        "id": "ySWfPo2Rdd4y"
      },
      "source": [
        ""
      ],
      "execution_count": 28,
      "outputs": []
    },
    {
      "cell_type": "markdown",
      "metadata": {
        "id": "jYiuG-PLgoHG"
      },
      "source": [
        "### Ridge regression with introduction of outlier and its effect."
      ]
    },
    {
      "cell_type": "code",
      "metadata": {
        "id": "R8C0rOxGgUth",
        "outputId": "7a8c742c-61ea-427d-f99c-a09a3b07de02",
        "colab": {
          "base_uri": "https://localhost:8080/",
          "height": 279
        }
      },
      "source": [
        "import pandas as pd\r\n",
        "import numpy as np\r\n",
        "import matplotlib.pyplot as plt\r\n",
        "\r\n",
        "train = [ [4.0,50],[4.5,55],[4.7,60],[5.0,70], [7,80], [5.5, 100]]\r\n",
        "test = [[5.5,68], [5.7,65], [5.9,69], [6.2,70], [7.0,73]]\r\n",
        "X_train = [4.0,4.5,4.7,5.0,7, 5.5]\r\n",
        "y_train = [50,55,60,70,80,100]\r\n",
        "X_test = [5.5,5.7,5.9,6.2,7.0]\r\n",
        "y_test = [68,65,69,70,73]\r\n",
        "plt.scatter(np.array(X_train),y_train,color='blue')\r\n",
        "plt.scatter(np.array(X_test),y_test,color='red')\r\n",
        "plt.plot([min(X_train), max(X_train)], [min(y_train), max(y_train)], color='red') # predicted\r\n",
        "plt.xlabel('Height in ft')\r\n",
        "plt.ylabel('Weight in kgs')\r\n",
        "plt.show()"
      ],
      "execution_count": 16,
      "outputs": [
        {
          "output_type": "display_data",
          "data": {
            "image/png": "[encoded data removed]",
            "text/plain": [
              "<Figure size 432x288 with 1 Axes>"
            ]
          },
          "metadata": {
            "tags": [],
            "needs_background": "light"
          }
        }
      ]
    },
    {
      "cell_type": "code",
      "metadata": {
        "id": "985YQOSOgUvI",
        "outputId": "4aa310bb-4cbe-4e5a-d59b-595ed4e55111",
        "colab": {
          "base_uri": "https://localhost:8080/",
          "height": 265
        }
      },
      "source": [
        "X_train = np.array(X_train).reshape(-1, 1)\r\n",
        "X_train\r\n",
        "from sklearn.linear_model import LinearRegression\r\n",
        "from sklearn.linear_model import Ridge\r\n",
        "model_ridge = Ridge(alpha=1)\r\n",
        "model_ridge.fit(X_train,y_train)\r\n",
        "model_lnr = LinearRegression()\r\n",
        "model_lnr.fit(X_train,y_train)\r\n",
        "\r\n",
        "x_gen = np.linspace(3,7,100)\r\n",
        "x_gen = x_gen.reshape(-1,1)\r\n",
        "y_rid= model_ridge.predict(x_gen)\r\n",
        "y_lnr = model_lnr.predict(x_gen)\r\n",
        "\r\n",
        "plt.scatter(np.array(X_train),y_train,color='blue')\r\n",
        "plt.scatter(np.array(X_test),y_test,color='red')\r\n",
        "plt.scatter(x_gen,y_lnr,s=4,color='orange')\r\n",
        "plt.scatter(x_gen,y_rid,s=4,color='green')\r\n",
        "plt.show()"
      ],
      "execution_count": 32,
      "outputs": [
        {
          "output_type": "display_data",
          "data": {
            "image/png": "[encoded data removed]",
            "text/plain": [
              "<Figure size 432x288 with 1 Axes>"
            ]
          },
          "metadata": {
            "tags": [],
            "needs_background": "light"
          }
        }
      ]
    },
    {
      "cell_type": "code",
      "metadata": {
        "id": "nySgAzZJhYDY"
      },
      "source": [
        ""
      ],
      "execution_count": null,
      "outputs": []
    },
    {
      "cell_type": "markdown",
      "metadata": {
        "id": "wJz6nqESimUA"
      },
      "source": [
        "### Lasso regression without outlier."
      ]
    },
    {
      "cell_type": "code",
      "metadata": {
        "id": "_9oLzo41gUy0",
        "outputId": "c6b74122-116c-4c98-c965-00d2f5f06963",
        "colab": {
          "base_uri": "https://localhost:8080/",
          "height": 279
        }
      },
      "source": [
        "import pandas as pd\r\n",
        "import numpy as np\r\n",
        "import matplotlib.pyplot as plt\r\n",
        "\r\n",
        "train = [ [4.0,50],[4.5,55],[4.7,60],[5.0,70]]\r\n",
        "test = [[5.5,68], [5.7,65], [5.9,69], [6.2,70], [7.0,73]]\r\n",
        "X_train = [4.0,4.5,4.7,5.0]\r\n",
        "y_train = [50,55,60,70]\r\n",
        "X_test = [5.5,5.7,5.9,6.2,7.0]\r\n",
        "y_test = [68,65,69,70,73]\r\n",
        "plt.scatter(np.array(X_train),y_train,color='blue')\r\n",
        "plt.scatter(np.array(X_test),y_test,color='red')\r\n",
        "plt.xlabel('Height in ft')\r\n",
        "plt.ylabel('Weight in kgs')\r\n",
        "plt.show()"
      ],
      "execution_count": 33,
      "outputs": [
        {
          "output_type": "display_data",
          "data": {
            "image/png": "[encoded data removed]",
            "text/plain": [
              "<Figure size 432x288 with 1 Axes>"
            ]
          },
          "metadata": {
            "tags": [],
            "needs_background": "light"
          }
        }
      ]
    },
    {
      "cell_type": "code",
      "metadata": {
        "id": "H4LY7IA1hdAT",
        "outputId": "6b6ab696-03d7-4fdf-d712-ba18c1ab257d",
        "colab": {
          "base_uri": "https://localhost:8080/",
          "height": 269
        }
      },
      "source": [
        "X_train = np.array(X_train).reshape(-1, 1)\r\n",
        "X_train\r\n",
        "from sklearn.linear_model import LinearRegression\r\n",
        "from sklearn.linear_model import Lasso\r\n",
        "model_lasso = Lasso(alpha=1)\r\n",
        "model_lasso.fit(X_train,y_train)\r\n",
        "model_lnr = LinearRegression()\r\n",
        "model_lnr.fit(X_train,y_train)\r\n",
        "\r\n",
        "x_gen = np.linspace(3,7,100)\r\n",
        "x_gen = x_gen.reshape(-1,1)\r\n",
        "y_las= model_lasso.predict(x_gen)\r\n",
        "y_lnr = model_lnr.predict(x_gen)\r\n",
        "\r\n",
        "plt.scatter(np.array(X_train),y_train,color='blue')\r\n",
        "plt.scatter(np.array(X_test),y_test,color='red')\r\n",
        "plt.scatter(x_gen,y_lnr,s=4,color='blue')\r\n",
        "plt.scatter(x_gen,y_las,s=4,color='green')\r\n",
        "plt.show()"
      ],
      "execution_count": 34,
      "outputs": [
        {
          "output_type": "display_data",
          "data": {
            "image/png": "[encoded data removed]",
            "text/plain": [
              "<Figure size 432x288 with 1 Axes>"
            ]
          },
          "metadata": {
            "tags": [],
            "needs_background": "light"
          }
        }
      ]
    },
    {
      "cell_type": "code",
      "metadata": {
        "id": "4jpFJxMKiGFc"
      },
      "source": [
        ""
      ],
      "execution_count": null,
      "outputs": []
    },
    {
      "cell_type": "markdown",
      "metadata": {
        "id": "xrD8yxaHixfx"
      },
      "source": [
        "### Lasso regression with introduction of outlier and its effect."
      ]
    },
    {
      "cell_type": "code",
      "metadata": {
        "id": "hwmPyqG6h4pu",
        "outputId": "a23d0084-3933-4c70-fe58-83f5f284ba71",
        "colab": {
          "base_uri": "https://localhost:8080/",
          "height": 279
        }
      },
      "source": [
        "import pandas as pd\r\n",
        "import numpy as np\r\n",
        "import matplotlib.pyplot as plt\r\n",
        "\r\n",
        "train = [ [4.0,50],[4.5,55],[4.7,60],[5.0,70], [6.0,70], [7,80]]\r\n",
        "test = [[5.5,68], [5.7,65], [5.9,69], [6.2,70], [7.0,73]]\r\n",
        "X_train = [4.0,4.5,4.7,5.0, 6.0, 7]\r\n",
        "y_train = [50,55,60,70,70, 80]\r\n",
        "X_test = [5.5,5.7,5.9,6.2,7.0]\r\n",
        "y_test = [68,65,69,70,73]\r\n",
        "plt.scatter(np.array(X_train),y_train,color='blue')\r\n",
        "plt.scatter(np.array(X_test),y_test,color='red')\r\n",
        "plt.xlabel('Height in ft')\r\n",
        "plt.ylabel('Weight in kgs')\r\n",
        "plt.show()"
      ],
      "execution_count": 35,
      "outputs": [
        {
          "output_type": "display_data",
          "data": {
            "image/png": "[encoded data removed]",
            "text/plain": [
              "<Figure size 432x288 with 1 Axes>"
            ]
          },
          "metadata": {
            "tags": [],
            "needs_background": "light"
          }
        }
      ]
    },
    {
      "cell_type": "code",
      "metadata": {
        "id": "hJgpoxuXiKnB",
        "outputId": "b89f5132-cb41-4c27-fc81-12875848b1a0",
        "colab": {
          "base_uri": "https://localhost:8080/",
          "height": 265
        }
      },
      "source": [
        "X_train = np.array(X_train).reshape(-1, 1)\r\n",
        "X_train\r\n",
        "from sklearn.linear_model import LinearRegression\r\n",
        "from sklearn.linear_model import Lasso\r\n",
        "model_lasso = Lasso(alpha=1)\r\n",
        "model_lasso.fit(X_train,y_train)\r\n",
        "model_lnr = LinearRegression()\r\n",
        "model_lnr.fit(X_train,y_train)\r\n",
        "\r\n",
        "x_gen = np.linspace(3,7,100)\r\n",
        "x_gen = x_gen.reshape(-1,1)\r\n",
        "y_las= model_lasso.predict(x_gen)\r\n",
        "y_lnr = model_lnr.predict(x_gen)\r\n",
        "\r\n",
        "plt.scatter(np.array(X_train),y_train,color='blue')\r\n",
        "plt.scatter(np.array(X_test),y_test,color='red')\r\n",
        "plt.scatter(x_gen,y_lnr,s=4,color='blue')\r\n",
        "plt.scatter(x_gen,y_las,s=4,color='green')\r\n",
        "plt.show()"
      ],
      "execution_count": 36,
      "outputs": [
        {
          "output_type": "display_data",
          "data": {
            "image/png": "[encoded data removed]",
            "text/plain": [
              "<Figure size 432x288 with 1 Axes>"
            ]
          },
          "metadata": {
            "tags": [],
            "needs_background": "light"
          }
        }
      ]
    },
    {
      "cell_type": "code",
      "metadata": {
        "id": "q7SnLIXxiLTv"
      },
      "source": [
        ""
      ],
      "execution_count": null,
      "outputs": []
    }
  ]
}