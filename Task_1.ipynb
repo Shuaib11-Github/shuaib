{
  "nbformat": 4,
  "nbformat_minor": 0,
  "metadata": {
    "colab": {
      "name": "Task 1.ipynb",
      "provenance": [],
      "authorship_tag": "ABX9TyPXkOy6VD5SmEQus7v+qP0w",
      "include_colab_link": true
    },
    "kernelspec": {
      "name": "python3",
      "display_name": "Python 3"
    },
    "language_info": {
      "name": "python"
    }
  },
  "cells": [
    {
      "cell_type": "markdown",
      "metadata": {
        "id": "view-in-github",
        "colab_type": "text"
      },
      "source": [
        "<a href=\"https://colab.research.google.com/github/Shuaib11-Github/shuaib/blob/master/Task_1.ipynb\" target=\"_parent\"><img src=\"https://colab.research.google.com/assets/colab-badge.svg\" alt=\"Open In Colab\"/></a>"
      ]
    },
    {
      "cell_type": "code",
      "metadata": {
        "colab": {
          "base_uri": "https://localhost:8080/"
        },
        "id": "pUwQhUosFEuA",
        "outputId": "fc92173a-62af-42c8-89c8-16ea1dd32ea1"
      },
      "source": [
        "Colors = [\"Yellow\",\"Green\",\"White\",\"Black\"]\n",
        "\n",
        "Fruits = [\"Apple\",\"Papaya\",\"Mango\",\"Orange\"]\n",
        "\n",
        "Animals = [\"Tiger\",\"Lion\",\"Deer\",\"Zebra\"]\n",
        "\n",
        "a = input(\"Enter the Color/Fruit/Animal: \")\n",
        "if a in Colors:\n",
        "  print(\"It's a Color\")\n",
        "elif a in Fruits:\n",
        "  print(\"It's a Fruit\")\n",
        "elif a in Animals:\n",
        "  print(\"It's an animal\")\n",
        "else:\n",
        "  print(\"Deosn't Belong to any Category\")"
      ],
      "execution_count": 1,
      "outputs": [
        {
          "output_type": "stream",
          "text": [
            "Enter the Color/Fruit/Animal: Deer\n",
            "It's an animal\n"
          ],
          "name": "stdout"
        }
      ]
    },
    {
      "cell_type": "code",
      "metadata": {
        "colab": {
          "base_uri": "https://localhost:8080/"
        },
        "id": "5Hz_X6BUJSRp",
        "outputId": "5c00223e-bf2b-42fa-fb08-d17c8f4cad07"
      },
      "source": [
        "Cities = [\"Bangalore\", \"Mumbai\", \"Chennai\", \"Hyderabad\", \"Kolkata\", \"Jaipur\", \"Allahabad\", \"Bhopal\"]\n",
        "Colors = [\"Yellow\",\"Green\",\"White\",\"Black\"]\n",
        "a = input(\"Enter city 1: \")\n",
        "b = input(\"Enter city 2: \")\n",
        "if a and b in Cities:\n",
        "  print(\"Both are cities\")\n",
        "else:\n",
        "  print(\"They don't belong to same category\")"
      ],
      "execution_count": 2,
      "outputs": [
        {
          "output_type": "stream",
          "text": [
            "Enter city 1: Bangalore\n",
            "Enter city 2: Hyderabad\n",
            "Both are cities\n"
          ],
          "name": "stdout"
        }
      ]
    },
    {
      "cell_type": "code",
      "metadata": {
        "colab": {
          "base_uri": "https://localhost:8080/"
        },
        "id": "ybDjrJyDLnLC",
        "outputId": "1bb1f089-8999-48d7-ba16-e3f2e34afb60"
      },
      "source": [
        "marks = int(input(\"Enter your marks: \"))\n",
        "if marks < 40:\n",
        "  print(\"Your score is low\")\n",
        "elif 40 <= marks < 60:\n",
        "  print(\"Your score is normal\")\n",
        "else:\n",
        "  print(\" Your score is good\")"
      ],
      "execution_count": 3,
      "outputs": [
        {
          "output_type": "stream",
          "text": [
            "Enter your marks: 56\n",
            "Your score is normal\n"
          ],
          "name": "stdout"
        }
      ]
    },
    {
      "cell_type": "code",
      "metadata": {
        "colab": {
          "base_uri": "https://localhost:8080/"
        },
        "id": "WnAm8QnYMnWc",
        "outputId": "ef49c3e7-1cb2-4e14-fae4-aff99eb8b6af"
      },
      "source": [
        "result = [\"Pass\",\"Fail\",\"Fail\",\"Pass\",\"Fail\",\"Pass\",\"Pass\",\"Fail\",\"Fail\",\"Fail\"]\n",
        "p = 0\n",
        "for i in result:\n",
        "  if i == \"Pass\":\n",
        "    p += 1\n",
        "  else:\n",
        "    continue\n",
        "result_of_pass = p\n",
        "result_of_pass"
      ],
      "execution_count": 4,
      "outputs": [
        {
          "output_type": "execute_result",
          "data": {
            "text/plain": [
              "4"
            ]
          },
          "metadata": {
            "tags": []
          },
          "execution_count": 4
        }
      ]
    },
    {
      "cell_type": "code",
      "metadata": {
        "colab": {
          "base_uri": "https://localhost:8080/"
        },
        "id": "GX7EuoEBu8Tp",
        "outputId": "64684db1-8421-4e6a-e27f-eced70a18200"
      },
      "source": [
        "for i in range(6):\n",
        "  print('* ' * i, sep = ' ')\n",
        "  print(' ')\n",
        "for j in range(4, 0, -1):\n",
        "  print('* ' * j, sep = ' ')\n",
        "  print(' ')"
      ],
      "execution_count": 5,
      "outputs": [
        {
          "output_type": "stream",
          "text": [
            "\n",
            " \n",
            "* \n",
            " \n",
            "* * \n",
            " \n",
            "* * * \n",
            " \n",
            "* * * * \n",
            " \n",
            "* * * * * \n",
            " \n",
            "* * * * \n",
            " \n",
            "* * * \n",
            " \n",
            "* * \n",
            " \n",
            "* \n",
            " \n"
          ],
          "name": "stdout"
        }
      ]
    },
    {
      "cell_type": "code",
      "metadata": {
        "colab": {
          "base_uri": "https://localhost:8080/"
        },
        "id": "qaXYJTc5w6lG",
        "outputId": "c813fe8c-60fb-4ae5-8fe4-1d23f9c8c811"
      },
      "source": [
        "for i in range(1, 6):\n",
        "  if i == 3:\n",
        "    user = input('Are you tired yes/no: ')\n",
        "    if user == 'yes':\n",
        "      print(\"you didn't finish the race\")\n",
        "      break\n",
        "    elif user == 'no':\n",
        "      continue\n",
        "    else:\n",
        "      break\n",
        "  else:\n",
        "    user = input('Are you tired yes/no: ')\n",
        "    if user == 'yes':\n",
        "      print(\"you didn't finish the race\")\n",
        "      break\n",
        "    elif user == 'no':\n",
        "      continue\n",
        "    else:\n",
        "      break\n",
        "else:\n",
        "  print('congratulations')"
      ],
      "execution_count": 14,
      "outputs": [
        {
          "output_type": "stream",
          "text": [
            "Are you tired yes/no: no\n",
            "Are you tired yes/no: no\n",
            "Are you tired yes/no: no\n",
            "Are you tired yes/no: no\n",
            "Are you tired yes/no: yes\n",
            "you didn't finish the race\n"
          ],
          "name": "stdout"
        }
      ]
    },
    {
      "cell_type": "code",
      "metadata": {
        "colab": {
          "base_uri": "https://localhost:8080/"
        },
        "id": "A2APPm1eyP9P",
        "outputId": "f0146f05-9c3e-4633-b352-085257c83c78"
      },
      "source": [
        "num = []\n",
        "for i in range(1500, 2701):\n",
        "  if (i % 7 == 0) and (i % 5 == 0):\n",
        "    num.append(str(i))\n",
        "print(','.join(num))"
      ],
      "execution_count": 7,
      "outputs": [
        {
          "output_type": "stream",
          "text": [
            "1505,1540,1575,1610,1645,1680,1715,1750,1785,1820,1855,1890,1925,1960,1995,2030,2065,2100,2135,2170,2205,2240,2275,2310,2345,2380,2415,2450,2485,2520,2555,2590,2625,2660,2695\n"
          ],
          "name": "stdout"
        }
      ]
    },
    {
      "cell_type": "code",
      "metadata": {
        "colab": {
          "base_uri": "https://localhost:8080/"
        },
        "id": "nuIYAEb6yQBu",
        "outputId": "e6859893-20a1-4de9-d4ec-23e46f9a0374"
      },
      "source": [
        "for i in range(10, 20):\n",
        "  if i % 2 == 0 :\n",
        "    continue\n",
        "  else:\n",
        "    print(i*i, end = ' ')\n"
      ],
      "execution_count": 8,
      "outputs": [
        {
          "output_type": "stream",
          "text": [
            "121 169 225 289 361 "
          ],
          "name": "stdout"
        }
      ]
    },
    {
      "cell_type": "code",
      "metadata": {
        "colab": {
          "base_uri": "https://localhost:8080/"
        },
        "id": "vNh7Tnct5eT3",
        "outputId": "6e2940bd-2e56-4da1-884e-5999145550a8"
      },
      "source": [
        "marks_list = [65, 75, 2100, 95, 83]\n",
        "user = int(input('Enter the marks: '))\n",
        "for i in range(len(marks_list)):\n",
        "  j = marks_list[i]\n",
        "  if user == j:\n",
        "    print('test {}'.format(i+1))\n",
        "    break\n",
        "else:\n",
        "  print(user)"
      ],
      "execution_count": 9,
      "outputs": [
        {
          "output_type": "stream",
          "text": [
            "Enter the marks: 83\n",
            "test 5\n"
          ],
          "name": "stdout"
        }
      ]
    },
    {
      "cell_type": "code",
      "metadata": {
        "id": "EPPKyRCc6Wom"
      },
      "source": [
        ""
      ],
      "execution_count": 9,
      "outputs": []
    }
  ]
}