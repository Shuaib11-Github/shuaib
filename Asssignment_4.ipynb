{
  "nbformat": 4,
  "nbformat_minor": 0,
  "metadata": {
    "colab": {
      "name": "Asssignment 4.ipynb",
      "provenance": [],
      "authorship_tag": "ABX9TyOAm8L7VA9Uuafu6uptuIdE",
      "include_colab_link": true
    },
    "kernelspec": {
      "name": "python3",
      "display_name": "Python 3"
    }
  },
  "cells": [
    {
      "cell_type": "markdown",
      "metadata": {
        "id": "view-in-github",
        "colab_type": "text"
      },
      "source": [
        "<a href=\"https://colab.research.google.com/github/Shuaib11-Github/shuaib/blob/master/Asssignment_4.ipynb\" target=\"_parent\"><img src=\"https://colab.research.google.com/assets/colab-badge.svg\" alt=\"Open In Colab\"/></a>"
      ]
    },
    {
      "cell_type": "code",
      "metadata": {
        "colab": {
          "base_uri": "https://localhost:8080/"
        },
        "id": "5kCj46FEmAkj",
        "outputId": "934ecab8-76da-497c-d492-2822b8f4c9fa"
      },
      "source": [
        "class Triangle:\r\n",
        "\r\n",
        "  def __init__(self,a,b,c):\r\n",
        "    self.a = a\r\n",
        "    self.b = b\r\n",
        "    self.c = c\r\n",
        "\r\n",
        "class Area(Triangle):\r\n",
        "  \r\n",
        "  def area(self):\r\n",
        "    s = (self.a+self.b+self.c)/2\r\n",
        "    area_of_triangle = float((s)*(s-self.a)*(s-self.b)*(s-self.c))**0.5\r\n",
        "    return area_of_triangle\r\n",
        "\r\n",
        "t = Area(20,30,40)\r\n",
        "print('Area of triangle: {}'.format(t.area()))\r\n",
        "print('Area of triangle:',t.area())"
      ],
      "execution_count": 1,
      "outputs": [
        {
          "output_type": "stream",
          "text": [
            "Area of triangle: 290.4737509655563\n",
            "Area of triangle: 290.4737509655563\n"
          ],
          "name": "stdout"
        }
      ]
    },
    {
      "cell_type": "code",
      "metadata": {
        "colab": {
          "base_uri": "https://localhost:8080/"
        },
        "id": "93N_P2NfmkRp",
        "outputId": "5ca237c4-0ef3-4241-97a9-ece8ea4799d9"
      },
      "source": [
        "def filter_long_words(n,str):\r\n",
        "  word_len = []\r\n",
        "  txt = str.split(' ')\r\n",
        "  for x in txt:\r\n",
        "    if len(x) > n:\r\n",
        "      word_len.append(x)\r\n",
        "  return word_len\r\n",
        "result = filter_long_words(3,'The quick brown fox jumps over the lazy dog')\r\n",
        "print(result)"
      ],
      "execution_count": 2,
      "outputs": [
        {
          "output_type": "stream",
          "text": [
            "['quick', 'brown', 'jumps', 'over', 'lazy']\n"
          ],
          "name": "stdout"
        }
      ]
    },
    {
      "cell_type": "code",
      "metadata": {
        "colab": {
          "base_uri": "https://localhost:8080/"
        },
        "id": "lgREa8uUmRUr",
        "outputId": "bf4d9fde-8431-4004-8e7a-2f04af866be2"
      },
      "source": [
        "def word_num(l):\r\n",
        "  return [len(i) for i in l]\r\n",
        "word_num(['ab','cde','erty'])"
      ],
      "execution_count": 3,
      "outputs": [
        {
          "output_type": "execute_result",
          "data": {
            "text/plain": [
              "[2, 3, 4]"
            ]
          },
          "metadata": {
            "tags": []
          },
          "execution_count": 3
        }
      ]
    },
    {
      "cell_type": "code",
      "metadata": {
        "colab": {
          "base_uri": "https://localhost:8080/"
        },
        "id": "gYypgswNmu1J",
        "outputId": "28b18df4-1825-4ace-a82f-0a0df787af72"
      },
      "source": [
        "def isvowel(char):\r\n",
        "  all_vowels = 'aeiouAEIOU'\r\n",
        "  return char in all_vowels\r\n",
        "print(isvowel('c'))\r\n",
        "print(isvowel('o'))\r\n",
        "print(isvowel('A'))\r\n",
        "print(isvowel('U'))"
      ],
      "execution_count": 4,
      "outputs": [
        {
          "output_type": "stream",
          "text": [
            "False\n",
            "True\n",
            "True\n",
            "True\n"
          ],
          "name": "stdout"
        }
      ]
    },
    {
      "cell_type": "code",
      "metadata": {
        "id": "pY5gYcVZm9wH"
      },
      "source": [
        ""
      ],
      "execution_count": 4,
      "outputs": []
    }
  ]
}