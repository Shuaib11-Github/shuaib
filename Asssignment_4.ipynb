{
  "nbformat": 4,
  "nbformat_minor": 0,
  "metadata": {
    "colab": {
      "name": "Asssignment 4.ipynb",
      "provenance": [],
      "authorship_tag": "ABX9TyM2/lYh09cK3xatMHLGfoBF",
      "include_colab_link": true
    },
    "kernelspec": {
      "name": "python3",
      "display_name": "Python 3"
    }
  },
  "cells": [
    {
      "cell_type": "markdown",
      "metadata": {
        "id": "view-in-github",
        "colab_type": "text"
      },
      "source": [
        "<a href=\"https://colab.research.google.com/github/Shuaib11-Github/shuaib/blob/master/Asssignment_4.ipynb\" target=\"_parent\"><img src=\"https://colab.research.google.com/assets/colab-badge.svg\" alt=\"Open In Colab\"/></a>"
      ]
    },
    {
      "cell_type": "code",
      "metadata": {
        "colab": {
          "base_uri": "https://localhost:8080/"
        },
        "id": "5kCj46FEmAkj",
        "outputId": "cf4624d0-c945-47e1-fabf-22ea3518edd9"
      },
      "source": [
        "# I Method:\r\n",
        "class Triangle:\r\n",
        "\r\n",
        "  def __init__(self,a,b,c):\r\n",
        "    self.a = a\r\n",
        "    self.b = b\r\n",
        "    self.c = c\r\n",
        "\r\n",
        "class Area(Triangle):\r\n",
        "  \r\n",
        "  def area(self):\r\n",
        "    super(Triangle).__init__()\r\n",
        "    s = (self.a+self.b+self.c)/2\r\n",
        "    area_of_triangle = float((s)*(s-self.a)*(s-self.b)*(s-self.c))**0.5\r\n",
        "    return area_of_triangle\r\n",
        "\r\n",
        "t = Area(20,30,40)\r\n",
        "print('Area of triangle: {}'.format(t.area()))\r\n",
        "print('Area of triangle:',t.area())"
      ],
      "execution_count": 1,
      "outputs": [
        {
          "output_type": "stream",
          "text": [
            "Area of triangle: 290.4737509655563\n",
            "Area of triangle: 290.4737509655563\n"
          ],
          "name": "stdout"
        }
      ]
    },
    {
      "cell_type": "code",
      "metadata": {
        "id": "Es4zZHAN4neu",
        "outputId": "2d17c28f-a93f-4748-ce4b-677827fdea34",
        "colab": {
          "base_uri": "https://localhost:8080/"
        }
      },
      "source": [
        "# II Method:\r\n",
        "class Triangle:\r\n",
        "\r\n",
        "  def __init__(self,a,b,c):\r\n",
        "    self.a = a\r\n",
        "    self.b = b\r\n",
        "    self.c = c\r\n",
        "\r\n",
        "class Area(Triangle):\r\n",
        "  \r\n",
        "  def area(self):\r\n",
        "    s = (self.a+self.b+self.c)/2\r\n",
        "    area_of_triangle = float((s)*(s-self.a)*(s-self.b)*(s-self.c))**0.5\r\n",
        "    return area_of_triangle\r\n",
        "\r\n",
        "t = Area(20,30,40)\r\n",
        "print('Area of triangle: {}'.format(t.area()))\r\n",
        "print('Area of triangle:',t.area())"
      ],
      "execution_count": 2,
      "outputs": [
        {
          "output_type": "stream",
          "text": [
            "Area of triangle: 290.4737509655563\n",
            "Area of triangle: 290.4737509655563\n"
          ],
          "name": "stdout"
        }
      ]
    },
    {
      "cell_type": "code",
      "metadata": {
        "colab": {
          "base_uri": "https://localhost:8080/"
        },
        "id": "93N_P2NfmkRp",
        "outputId": "44898f9b-c906-4f32-f379-f978f3563468"
      },
      "source": [
        "def filter_long_words(n,str):\r\n",
        "  word_len = []\r\n",
        "  txt = str.split(' ')\r\n",
        "  for x in txt:\r\n",
        "    if len(x) > n:\r\n",
        "      word_len.append(x)\r\n",
        "  return word_len\r\n",
        "result = filter_long_words(3,'Look at those big gray eyes and that beautiful red hair!')\r\n",
        "print(result)"
      ],
      "execution_count": 3,
      "outputs": [
        {
          "output_type": "stream",
          "text": [
            "['Look', 'those', 'gray', 'eyes', 'that', 'beautiful', 'hair!']\n"
          ],
          "name": "stdout"
        }
      ]
    },
    {
      "cell_type": "code",
      "metadata": {
        "colab": {
          "base_uri": "https://localhost:8080/"
        },
        "id": "lgREa8uUmRUr",
        "outputId": "29a01a30-7fe3-4d5d-8784-0b2f1070bd39"
      },
      "source": [
        "def word_num(l):\r\n",
        "  return [len(i) for i in l]\r\n",
        "word_num(['ab','cde','erty'])"
      ],
      "execution_count": 4,
      "outputs": [
        {
          "output_type": "execute_result",
          "data": {
            "text/plain": [
              "[2, 3, 4]"
            ]
          },
          "metadata": {
            "tags": []
          },
          "execution_count": 4
        }
      ]
    },
    {
      "cell_type": "code",
      "metadata": {
        "colab": {
          "base_uri": "https://localhost:8080/"
        },
        "id": "gYypgswNmu1J",
        "outputId": "8c240210-6c88-46f6-e7d3-72f31b99d766"
      },
      "source": [
        "def isvowel(char):\r\n",
        "  all_vowels = 'aeiouAEIOU'\r\n",
        "  return char in all_vowels\r\n",
        "print(isvowel('c'))\r\n",
        "print(isvowel('o'))\r\n",
        "print(isvowel('A'))\r\n",
        "print(isvowel('U'))"
      ],
      "execution_count": 5,
      "outputs": [
        {
          "output_type": "stream",
          "text": [
            "False\n",
            "True\n",
            "True\n",
            "True\n"
          ],
          "name": "stdout"
        }
      ]
    },
    {
      "cell_type": "code",
      "metadata": {
        "id": "pY5gYcVZm9wH"
      },
      "source": [
        ""
      ],
      "execution_count": null,
      "outputs": []
    }
  ]
}