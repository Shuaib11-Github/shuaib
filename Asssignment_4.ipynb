{
  "nbformat": 4,
  "nbformat_minor": 0,
  "metadata": {
    "colab": {
      "name": "Asssignment 4.ipynb",
      "provenance": [],
      "authorship_tag": "ABX9TyP58bRByppIhJVo6IKE6G/P",
      "include_colab_link": true
    },
    "kernelspec": {
      "name": "python3",
      "display_name": "Python 3"
    }
  },
  "cells": [
    {
      "cell_type": "markdown",
      "metadata": {
        "id": "view-in-github",
        "colab_type": "text"
      },
      "source": [
        "<a href=\"https://colab.research.google.com/github/Shuaib11-Github/shuaib/blob/master/Asssignment_4.ipynb\" target=\"_parent\"><img src=\"https://colab.research.google.com/assets/colab-badge.svg\" alt=\"Open In Colab\"/></a>"
      ]
    },
    {
      "cell_type": "code",
      "metadata": {
        "colab": {
          "base_uri": "https://localhost:8080/"
        },
        "id": "5kCj46FEmAkj",
        "outputId": "6e1a8136-f17e-4ac3-8a43-2c8a3cd2b00f"
      },
      "source": [
        "class Triangle:\r\n",
        "\r\n",
        "  def __init__(self,a,b,c):\r\n",
        "    self.a = a\r\n",
        "    self.b = b\r\n",
        "    self.c = c\r\n",
        "\r\n",
        "class Area(Triangle):\r\n",
        "  \r\n",
        "  def area(self):\r\n",
        "    s = (self.a+self.b+self.c)/2\r\n",
        "    area_of_triangle = float((s)*(s-self.a)*(s-self.b)*(s-self.c))**0.5\r\n",
        "    return area_of_triangle\r\n",
        "\r\n",
        "t = Area(20,30,40)\r\n",
        "print('Area of triangle: {}'.format(t.area()))\r\n",
        "print('Area of triangle:',t.area())"
      ],
      "execution_count": 1,
      "outputs": [
        {
          "output_type": "stream",
          "text": [
            "Area of triangle: 290.4737509655563\n",
            "Area of triangle: 290.4737509655563\n"
          ],
          "name": "stdout"
        }
      ]
    },
    {
      "cell_type": "code",
      "metadata": {
        "colab": {
          "base_uri": "https://localhost:8080/"
        },
        "id": "93N_P2NfmkRp",
        "outputId": "b3540ae5-868b-48fe-9d37-bd9b632e39f8"
      },
      "source": [
        "def filter_long_words(n,str):\r\n",
        "  word_len = []\r\n",
        "  txt = str.split(' ')\r\n",
        "  for x in txt:\r\n",
        "    if len(x) > n:\r\n",
        "      word_len.append(x)\r\n",
        "  return word_len\r\n",
        "result = filter_long_words(3,'Look at those big gray eyes and that beautiful red hair!')\r\n",
        "print(result)"
      ],
      "execution_count": 2,
      "outputs": [
        {
          "output_type": "stream",
          "text": [
            "['Look', 'those', 'gray', 'eyes', 'that', 'beautiful', 'hair!']\n"
          ],
          "name": "stdout"
        }
      ]
    },
    {
      "cell_type": "code",
      "metadata": {
        "colab": {
          "base_uri": "https://localhost:8080/"
        },
        "id": "lgREa8uUmRUr",
        "outputId": "dd01a6f8-60f7-4814-978c-acdaa5f2535a"
      },
      "source": [
        "def word_num(l):\r\n",
        "  return [len(i) for i in l]\r\n",
        "word_num(['ab','cde','erty'])"
      ],
      "execution_count": 3,
      "outputs": [
        {
          "output_type": "execute_result",
          "data": {
            "text/plain": [
              "[2, 3, 4]"
            ]
          },
          "metadata": {
            "tags": []
          },
          "execution_count": 3
        }
      ]
    },
    {
      "cell_type": "code",
      "metadata": {
        "colab": {
          "base_uri": "https://localhost:8080/"
        },
        "id": "gYypgswNmu1J",
        "outputId": "5204df37-16a7-487a-b33b-02e6f6df6245"
      },
      "source": [
        "def isvowel(char):\r\n",
        "  all_vowels = 'aeiouAEIOU'\r\n",
        "  return char in all_vowels\r\n",
        "print(isvowel('c'))\r\n",
        "print(isvowel('o'))\r\n",
        "print(isvowel('A'))\r\n",
        "print(isvowel('U'))"
      ],
      "execution_count": 4,
      "outputs": [
        {
          "output_type": "stream",
          "text": [
            "False\n",
            "True\n",
            "True\n",
            "True\n"
          ],
          "name": "stdout"
        }
      ]
    },
    {
      "cell_type": "code",
      "metadata": {
        "id": "pY5gYcVZm9wH"
      },
      "source": [
        ""
      ],
      "execution_count": 4,
      "outputs": []
    }
  ]
}