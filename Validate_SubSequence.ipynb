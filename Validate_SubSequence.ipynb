{
  "nbformat": 4,
  "nbformat_minor": 0,
  "metadata": {
    "colab": {
      "name": "Validate SubSequence.ipynb",
      "provenance": [],
      "authorship_tag": "ABX9TyMmkfFZ3fhlx79RVmnTNj8E",
      "include_colab_link": true
    },
    "kernelspec": {
      "name": "python3",
      "display_name": "Python 3"
    }
  },
  "cells": [
    {
      "cell_type": "markdown",
      "metadata": {
        "id": "view-in-github",
        "colab_type": "text"
      },
      "source": [
        "<a href=\"https://colab.research.google.com/github/Shuaib11-Github/shuaib/blob/master/Validate_SubSequence.ipynb\" target=\"_parent\"><img src=\"https://colab.research.google.com/assets/colab-badge.svg\" alt=\"Open In Colab\"/></a>"
      ]
    },
    {
      "cell_type": "code",
      "metadata": {
        "colab": {
          "base_uri": "https://localhost:8080/"
        },
        "id": "jr1-IO6QlNy8",
        "outputId": "d7d85936-5e55-4fc6-e6e6-91940474b9fa"
      },
      "source": [
        "# Validate SubSequence using while loop:\r\n",
        "def validateSubsequence(arr,seq):\r\n",
        "  arridx = 0\r\n",
        "  seqidx = 0\r\n",
        "  while arridx < len(arr) and seqidx < len(seq):\r\n",
        "    if arr[arridx] == seq[seqidx]:\r\n",
        "      seqidx += 1\r\n",
        "    arridx += 1\r\n",
        "  return seqidx == len(seq)\r\n",
        "validateSubsequence([5,1,22,25,6,-1,8,10],[1,6,-1,10])"
      ],
      "execution_count": 1,
      "outputs": [
        {
          "output_type": "execute_result",
          "data": {
            "text/plain": [
              "True"
            ]
          },
          "metadata": {
            "tags": []
          },
          "execution_count": 1
        }
      ]
    },
    {
      "cell_type": "code",
      "metadata": {
        "colab": {
          "base_uri": "https://localhost:8080/"
        },
        "id": "6rL_JR4nlSZl",
        "outputId": "2fd9c058-0153-41fa-8a5c-81ba95e5aa43"
      },
      "source": [
        "# Validate SubSequence using for loop:\r\n",
        "def validateSubsequence(arr,seq):\r\n",
        "  seqidx = 0\r\n",
        "  for value in arr:\r\n",
        "    if seqidx == len(seq):\r\n",
        "      break\r\n",
        "    if value == seq[seqidx]:\r\n",
        "      seqidx += 1\r\n",
        "  return seqidx == len(seq)\r\n",
        "validateSubsequence([5,1,22,25,6,-1,8,10],[1,6,-1,10])"
      ],
      "execution_count": 2,
      "outputs": [
        {
          "output_type": "execute_result",
          "data": {
            "text/plain": [
              "True"
            ]
          },
          "metadata": {
            "tags": []
          },
          "execution_count": 2
        }
      ]
    },
    {
      "cell_type": "code",
      "metadata": {
        "id": "hw7ywt8Ala-T"
      },
      "source": [
        ""
      ],
      "execution_count": null,
      "outputs": []
    }
  ]
}