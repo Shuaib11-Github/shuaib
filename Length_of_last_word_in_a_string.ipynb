{
  "nbformat": 4,
  "nbformat_minor": 0,
  "metadata": {
    "colab": {
      "name": "Length of last word in a string.ipynb",
      "provenance": [],
      "authorship_tag": "ABX9TyMR2koBDypoFSU/JnF9xOUf",
      "include_colab_link": true
    },
    "kernelspec": {
      "name": "python3",
      "display_name": "Python 3"
    }
  },
  "cells": [
    {
      "cell_type": "markdown",
      "metadata": {
        "id": "view-in-github",
        "colab_type": "text"
      },
      "source": [
        "<a href=\"https://colab.research.google.com/github/Shuaib11-Github/shuaib/blob/master/Length_of_last_word_in_a_string.ipynb\" target=\"_parent\"><img src=\"https://colab.research.google.com/assets/colab-badge.svg\" alt=\"Open In Colab\"/></a>"
      ]
    },
    {
      "cell_type": "code",
      "metadata": {
        "colab": {
          "base_uri": "https://localhost:8080/"
        },
        "id": "qrpD33mRnzOS",
        "outputId": "29f28925-e972-41f6-a0b3-33aecfa71db8"
      },
      "source": [
        "# Length of last word in a string from start of a string:\r\n",
        "def lengthoflastword(s):\r\n",
        "  count = 0\r\n",
        "  i = 0\r\n",
        "  n = len(s)\r\n",
        "  while (i<n):\r\n",
        "    if s[i]!=' ':\r\n",
        "      count += 1\r\n",
        "      i += 1\r\n",
        "    else:\r\n",
        "      while (i<n and s[i]==' '):\r\n",
        "        i += 1 \r\n",
        "        if (i==n):\r\n",
        "          return count\r\n",
        "        else:\r\n",
        "          count = 0\r\n",
        "  return count\r\n",
        "lengthoflastword('Hello World')"
      ],
      "execution_count": 1,
      "outputs": [
        {
          "output_type": "execute_result",
          "data": {
            "text/plain": [
              "5"
            ]
          },
          "metadata": {
            "tags": []
          },
          "execution_count": 1
        }
      ]
    },
    {
      "cell_type": "code",
      "metadata": {
        "colab": {
          "base_uri": "https://localhost:8080/"
        },
        "id": "UsGqHYDyoD2h",
        "outputId": "0a04e320-e788-4531-8eb7-0a76e06c740c"
      },
      "source": [
        "# Length of last word by reversing a string:\r\n",
        "def length_of_last_word(s):\r\n",
        "  s1 = s[::-1]\r\n",
        "  n = len(s1)\r\n",
        "  i = 0\r\n",
        "  count = 0\r\n",
        "  while i<n:\r\n",
        "    if s1[i]==' ':\r\n",
        "      break\r\n",
        "    else:\r\n",
        "      i += 1\r\n",
        "      count += 1\r\n",
        "  return count\r\n",
        "length_of_last_word('Hello World')"
      ],
      "execution_count": 2,
      "outputs": [
        {
          "output_type": "execute_result",
          "data": {
            "text/plain": [
              "5"
            ]
          },
          "metadata": {
            "tags": []
          },
          "execution_count": 2
        }
      ]
    },
    {
      "cell_type": "code",
      "metadata": {
        "id": "8sg-TXcIoIls"
      },
      "source": [
        ""
      ],
      "execution_count": null,
      "outputs": []
    }
  ]
}