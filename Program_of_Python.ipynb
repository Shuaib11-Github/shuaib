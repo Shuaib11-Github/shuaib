{
  "nbformat": 4,
  "nbformat_minor": 0,
  "metadata": {
    "colab": {
      "name": "Program of Python.ipynb",
      "provenance": [],
      "authorship_tag": "ABX9TyNZqvO0LHrw+sA2gUloK8L8",
      "include_colab_link": true
    },
    "kernelspec": {
      "name": "python3",
      "display_name": "Python 3"
    },
    "language_info": {
      "name": "python"
    }
  },
  "cells": [
    {
      "cell_type": "markdown",
      "metadata": {
        "id": "view-in-github",
        "colab_type": "text"
      },
      "source": [
        "<a href=\"https://colab.research.google.com/github/Shuaib11-Github/shuaib/blob/master/Program_of_Python.ipynb\" target=\"_parent\"><img src=\"https://colab.research.google.com/assets/colab-badge.svg\" alt=\"Open In Colab\"/></a>"
      ]
    },
    {
      "cell_type": "markdown",
      "metadata": {
        "id": "k-KWEaa1gt9n"
      },
      "source": [
        "Type of each variables in a single line"
      ]
    },
    {
      "cell_type": "code",
      "metadata": {
        "colab": {
          "base_uri": "https://localhost:8080/"
        },
        "id": "5ik3D1dOgjvF",
        "outputId": "a1e7977d-7602-4af4-b373-00e4cb74bdbf"
      },
      "source": [
        "a,b,c = 1,'string',3.14\n",
        "print(a),print(b),print(c)\n",
        "print(type(a)),print(type(b)),print(type(c))"
      ],
      "execution_count": null,
      "outputs": [
        {
          "output_type": "stream",
          "text": [
            "1\n",
            "string\n",
            "3.14\n",
            "<class 'int'>\n",
            "<class 'str'>\n",
            "<class 'float'>\n"
          ],
          "name": "stdout"
        },
        {
          "output_type": "execute_result",
          "data": {
            "text/plain": [
              "(None, None, None)"
            ]
          },
          "metadata": {
            "tags": []
          },
          "execution_count": 2
        }
      ]
    },
    {
      "cell_type": "markdown",
      "metadata": {
        "id": "iP6TkzM9hBLL"
      },
      "source": [
        "swap of variables"
      ]
    },
    {
      "cell_type": "code",
      "metadata": {
        "colab": {
          "base_uri": "https://localhost:8080/"
        },
        "id": "j-g07MKngluc",
        "outputId": "34c2f996-4d2e-48f4-f8e9-d03159b281e2"
      },
      "source": [
        "a,b = 10,20\n",
        "b,a = a,b\n",
        "print(b),print(a)"
      ],
      "execution_count": null,
      "outputs": [
        {
          "output_type": "stream",
          "text": [
            "10\n",
            "20\n"
          ],
          "name": "stdout"
        },
        {
          "output_type": "execute_result",
          "data": {
            "text/plain": [
              "(None, None)"
            ]
          },
          "metadata": {
            "tags": []
          },
          "execution_count": 3
        }
      ]
    },
    {
      "cell_type": "markdown",
      "metadata": {
        "id": "UFQJ9GXTgoON"
      },
      "source": [
        " len of string without using inbuilt function"
      ]
    },
    {
      "cell_type": "code",
      "metadata": {
        "colab": {
          "base_uri": "https://localhost:8080/"
        },
        "id": "3NnSMElxgmQR",
        "outputId": "4cec7f19-9ac6-46e1-cde1-78d04e1d7d60"
      },
      "source": [
        "a = 'String'\n",
        "count = 0\n",
        "for i in a:\n",
        "    count += 1\n",
        "print(count)"
      ],
      "execution_count": null,
      "outputs": [
        {
          "output_type": "stream",
          "text": [
            "6\n"
          ],
          "name": "stdout"
        }
      ]
    },
    {
      "cell_type": "code",
      "metadata": {
        "id": "Bik_tTu3gmSm"
      },
      "source": [
        ""
      ],
      "execution_count": null,
      "outputs": []
    },
    {
      "cell_type": "code",
      "metadata": {
        "colab": {
          "base_uri": "https://localhost:8080/"
        },
        "id": "mN-Y5qe2gmVl",
        "outputId": "a9ce9721-c2c6-46d5-e2dd-db75e761a75d"
      },
      "source": [
        "def school():\n",
        "  name = 'John'\n",
        "  print('His name in school is',name)\n",
        "  \n",
        "\n",
        "def college():\n",
        "  name = 'Max'\n",
        "  print('His name in college is',name)\n",
        "  school()\n",
        "\n",
        "def work():\n",
        "  name = 'Peter'\n",
        "  print('His name in work location',name)\n",
        "  college()\n",
        "\n",
        "work()"
      ],
      "execution_count": null,
      "outputs": [
        {
          "output_type": "stream",
          "text": [
            "His name in work location Peter\n",
            "His name in college is Max\n",
            "His name in school is John\n"
          ],
          "name": "stdout"
        }
      ]
    },
    {
      "cell_type": "code",
      "metadata": {
        "id": "vSk3-Y3JiqGq"
      },
      "source": [
        ""
      ],
      "execution_count": null,
      "outputs": []
    },
    {
      "cell_type": "code",
      "metadata": {
        "colab": {
          "base_uri": "https://localhost:8080/"
        },
        "id": "oYh716z3jktu",
        "outputId": "60082074-31ae-4282-cc11-86dc91dabe9d"
      },
      "source": [
        "phone = int()\n",
        "\n",
        "def Ayaz():\n",
        "  global phone\n",
        "  phone = 127162\n",
        "  print(f\"Ayaz\\'s phone number is {phone}\")\n",
        "\n",
        "def Shuaib():\n",
        "  global phone\n",
        "  phone = 439860\n",
        "  print(f\"Shuaib\\'s phone number is {phone}\")\n",
        "\n",
        "def Shuheb():\n",
        "  global phone\n",
        "  phone = 218698\n",
        "  print(f\"Shuheb\\'s phone number is {phone}\")\n",
        "\n",
        "name = input(\"Enter a/b/c:\")\n",
        "\n",
        "if name == 'a':\n",
        "  Ayaz()\n",
        "elif name == 'b':\n",
        "  Shuaib()\n",
        "else:\n",
        "  Shuheb()"
      ],
      "execution_count": null,
      "outputs": [
        {
          "output_type": "stream",
          "text": [
            "Enter a/b/c:c\n",
            "Shuheb's phone number is 218698\n"
          ],
          "name": "stdout"
        }
      ]
    },
    {
      "cell_type": "code",
      "metadata": {
        "id": "bGK2jcmPk_4y"
      },
      "source": [
        ""
      ],
      "execution_count": null,
      "outputs": []
    },
    {
      "cell_type": "code",
      "metadata": {
        "colab": {
          "base_uri": "https://localhost:8080/"
        },
        "id": "X-Kl8egklYT-",
        "outputId": "c7aee1cc-c5a4-4490-f946-fa5394fd6a7f"
      },
      "source": [
        "balance = 0\n",
        "\n",
        "def user_A():\n",
        "  global balance\n",
        "  x = int(input())\n",
        "  balance = balance + x\n",
        "\n",
        "def user_B(X):\n",
        "  global balance\n",
        "  balance = balance + X\n",
        "\n",
        "user_A()\n",
        "user_B(600)\n",
        "print(balance)"
      ],
      "execution_count": null,
      "outputs": [
        {
          "output_type": "stream",
          "text": [
            "1000\n",
            "1600\n"
          ],
          "name": "stdout"
        }
      ]
    },
    {
      "cell_type": "code",
      "metadata": {
        "id": "IRzLnJDtl4Ke"
      },
      "source": [
        ""
      ],
      "execution_count": null,
      "outputs": []
    },
    {
      "cell_type": "code",
      "metadata": {
        "colab": {
          "base_uri": "https://localhost:8080/"
        },
        "id": "LvvHyn8zngcA",
        "outputId": "f8971b92-c898-4d98-a068-39f8de5297a1"
      },
      "source": [
        "n = int(input())\n",
        "l1 = [197,999,893,289,367,10,859,718,405,673]\n",
        "if n > 1000:\n",
        "  print('Invalid')\n",
        "else:\n",
        "  if n%2==1 and n in l1:\n",
        "    print('Great')\n",
        "  elif n%2==1 and n not in l1:\n",
        "    print('Not Great')\n",
        "  elif n%2==0 and n in l1:\n",
        "    print('Great')\n",
        "  #elif n%2==0 and n not in l1:\n",
        "    #  print('Not Great')\n",
        "  else:\n",
        "    print('Not Great')"
      ],
      "execution_count": null,
      "outputs": [
        {
          "output_type": "stream",
          "text": [
            "64\n",
            "Not Great\n"
          ],
          "name": "stdout"
        }
      ]
    },
    {
      "cell_type": "code",
      "metadata": {
        "colab": {
          "base_uri": "https://localhost:8080/"
        },
        "id": "dleUXMumngeU",
        "outputId": "239e1435-af21-4f6b-c9d9-9ba2503ac495"
      },
      "source": [
        "marks = {'John':78,\n",
        "         'Smith':35,\n",
        "         'AB': 99,\n",
        "         'Humpty':12,\n",
        "         'Dumpty':65}\n",
        "failed_Students = []\n",
        "top_Students = []\n",
        "def identifier(marks):\n",
        "  for k, v in marks.items():\n",
        "    if v<35:\n",
        "      failed_Students.append(k)\n",
        "    elif v>35 and v>90:\n",
        "      top_Students.append(k)\n",
        "  return top_Students,failed_Students\n",
        "\n",
        "top, failed = identifier(marks)\n",
        "print('The top student is ',top)\n",
        "print('The faield student is ',failed)"
      ],
      "execution_count": null,
      "outputs": [
        {
          "output_type": "stream",
          "text": [
            "The top student is  ['AB']\n",
            "The faield student is  ['Humpty']\n"
          ],
          "name": "stdout"
        }
      ]
    },
    {
      "cell_type": "code",
      "metadata": {
        "colab": {
          "base_uri": "https://localhost:8080/"
        },
        "id": "0DtNe-2Nngi0",
        "outputId": "7a103e77-9a84-4fc1-80ea-ab7280e7e25e"
      },
      "source": [
        "view,edit,create = 1, 1, 1\n",
        "class User:\n",
        "  def __init__(self,rights):\n",
        "    self.rights = rights\n",
        "  def can_view(self):\n",
        "    return view & self.rights\n",
        "  def can_edit(self):\n",
        "    return edit & self.rights\n",
        "  def can_create(self):\n",
        "    return create & self.rights\n",
        "\n",
        "viewer = User(view)\n",
        "editor = User(view|edit)\n",
        "creator = User(view|edit|create)\n",
        "\n",
        "if creator.can_create():\n",
        "  print('Yes, creator can view, edit and create the file')\n",
        "else:\n",
        "  print('No')\n",
        "\n",
        "if editor.can_edit():\n",
        "  print('Yes, editor can view and edit the file')\n",
        "else:\n",
        "  print('No')\n",
        "\n",
        "if viewer.can_view():\n",
        "  print('Yes, viewer can view the file')\n",
        "else:\n",
        "  print('No')"
      ],
      "execution_count": null,
      "outputs": [
        {
          "output_type": "stream",
          "text": [
            "Yes, creator can view, edit and create the file\n",
            "Yes, editor can view and edit the file\n",
            "Yes, viewer can view the file\n"
          ],
          "name": "stdout"
        }
      ]
    },
    {
      "cell_type": "code",
      "metadata": {
        "colab": {
          "base_uri": "https://localhost:8080/"
        },
        "id": "hULVC0ZsnTwP",
        "outputId": "3a89b2e0-1877-4a58-a3a0-411c6c5b1b10"
      },
      "source": [
        "l1 = [1,2,3,4]\n",
        "l2 = [5,6,7,8]\n",
        "for i in l1:\n",
        "  if i in l2:\n",
        "    print('Overlapping')\n",
        "else:\n",
        "  print('Not Overlapping')"
      ],
      "execution_count": null,
      "outputs": [
        {
          "output_type": "stream",
          "text": [
            "Not Overlapping\n"
          ],
          "name": "stdout"
        }
      ]
    },
    {
      "cell_type": "code",
      "metadata": {
        "colab": {
          "base_uri": "https://localhost:8080/"
        },
        "id": "1OySI-F4uM1-",
        "outputId": "464c2491-60e8-467c-c43f-e8f435931287"
      },
      "source": [
        "ayaz = 1\n",
        "shuheb = 1\n",
        "candies = [8,2,1,5,3]\n",
        "\n",
        "total = ayaz+shuheb\n",
        "\n",
        "if total not in candies:\n",
        "  print(f'candies not available for {total} rupees')\n",
        "else:\n",
        "  print(f'Candies available for {total} rupees')"
      ],
      "execution_count": null,
      "outputs": [
        {
          "output_type": "stream",
          "text": [
            "Candies available for 2 rupees\n"
          ],
          "name": "stdout"
        }
      ]
    },
    {
      "cell_type": "code",
      "metadata": {
        "colab": {
          "base_uri": "https://localhost:8080/"
        },
        "id": "OIzuuY3sxJkM",
        "outputId": "48fe65ba-fc98-4337-8c01-5bd19bd9f1d0"
      },
      "source": [
        "ans = int(input('Enter the year of numpy release: '))\n",
        "real_ans = 1991\n",
        "\n",
        "if ans is real_ans:\n",
        "  print('wrong answer')\n",
        "else:\n",
        "  print('correct answer')"
      ],
      "execution_count": null,
      "outputs": [
        {
          "output_type": "stream",
          "text": [
            "Enter the year of numpy release: 1991\n",
            "correct answer\n"
          ],
          "name": "stdout"
        }
      ]
    },
    {
      "cell_type": "code",
      "metadata": {
        "id": "1Pwel5kTxs_n"
      },
      "source": [
        "def my_function(a,b):\n",
        "  return a+b"
      ],
      "execution_count": null,
      "outputs": []
    },
    {
      "cell_type": "code",
      "metadata": {
        "colab": {
          "base_uri": "https://localhost:8080/"
        },
        "id": "ZQFD_iZ80sN8",
        "outputId": "fbf628a5-6525-4cc0-e851-df85e48c0f84"
      },
      "source": [
        "my_function(5,8.15)"
      ],
      "execution_count": null,
      "outputs": [
        {
          "output_type": "execute_result",
          "data": {
            "text/plain": [
              "13.15"
            ]
          },
          "metadata": {
            "tags": []
          },
          "execution_count": 29
        }
      ]
    },
    {
      "cell_type": "code",
      "metadata": {
        "id": "3eSCG1cm0uzr"
      },
      "source": [
        "def my_function(a,b=4):  # Default parameter\n",
        "  return a*b"
      ],
      "execution_count": null,
      "outputs": []
    },
    {
      "cell_type": "code",
      "metadata": {
        "colab": {
          "base_uri": "https://localhost:8080/"
        },
        "id": "YUyTEtex0vct",
        "outputId": "3c2a5141-ad51-4a03-fe39-8629215f755e"
      },
      "source": [
        "my_function(5)"
      ],
      "execution_count": null,
      "outputs": [
        {
          "output_type": "execute_result",
          "data": {
            "text/plain": [
              "20"
            ]
          },
          "metadata": {
            "tags": []
          },
          "execution_count": 31
        }
      ]
    },
    {
      "cell_type": "code",
      "metadata": {
        "id": "DSvzskyo1FgU"
      },
      "source": [
        "def my_function(a,b=4,c): # we have to se Default value to every parameter after a default parameter is set to one variable\n",
        "  return a+b+c  # we get an error as \"non-default argument follows default argument\""
      ],
      "execution_count": null,
      "outputs": []
    },
    {
      "cell_type": "code",
      "metadata": {
        "id": "BgCeyrmJ1ug0"
      },
      "source": [
        "def my_function(a,b=4,c=5): # To overcome we modified the function\n",
        "  return a+b+c"
      ],
      "execution_count": null,
      "outputs": []
    },
    {
      "cell_type": "code",
      "metadata": {
        "colab": {
          "base_uri": "https://localhost:8080/"
        },
        "id": "OwQx_HA12DyS",
        "outputId": "72bb44cb-bbf5-4ff8-f990-0c7fd962111b"
      },
      "source": [
        "my_function(1)"
      ],
      "execution_count": null,
      "outputs": [
        {
          "output_type": "execute_result",
          "data": {
            "text/plain": [
              "10"
            ]
          },
          "metadata": {
            "tags": []
          },
          "execution_count": 34
        }
      ]
    },
    {
      "cell_type": "code",
      "metadata": {
        "colab": {
          "base_uri": "https://localhost:8080/"
        },
        "id": "OMAqN7Mi2GoW",
        "outputId": "0e927cca-09d0-42cf-dc2b-432f402cb61c"
      },
      "source": [
        "my_function(2,3) # we can modify values in sequence only if we have multiple parameters.\n",
        "# here b is followed by a so a takes 2 and b takes 3 and c takes default value assigned during function call."
      ],
      "execution_count": null,
      "outputs": [
        {
          "output_type": "execute_result",
          "data": {
            "text/plain": [
              "10"
            ]
          },
          "metadata": {
            "tags": []
          },
          "execution_count": 36
        }
      ]
    },
    {
      "cell_type": "code",
      "metadata": {
        "colab": {
          "base_uri": "https://localhost:8080/"
        },
        "id": "ynJWLbEU2O3A",
        "outputId": "c9079691-038c-4d2d-9197-ff87f3a16497"
      },
      "source": [
        "# we can use keyword argument to shuffle the parameter with different values like\n",
        "def func(m,s,e):\n",
        "  return m+s+e\n",
        "\n",
        "func(98,99,98)\n",
        "# or\n",
        "func(m=98,s=99,e=98)\n",
        "# or\n",
        "func(s=99,e=98,m=98)"
      ],
      "execution_count": null,
      "outputs": [
        {
          "output_type": "execute_result",
          "data": {
            "text/plain": [
              "295"
            ]
          },
          "metadata": {
            "tags": []
          },
          "execution_count": 37
        }
      ]
    },
    {
      "cell_type": "code",
      "metadata": {
        "colab": {
          "base_uri": "https://localhost:8080/"
        },
        "id": "L0JpB3_64Ri1",
        "outputId": "ea2ec65f-03d3-4f63-ca89-04681c98e883"
      },
      "source": [
        "def marks(**score):\n",
        "  print(\"Marks in Maths:\", score['Maths'])\n",
        "\n",
        "marks(Science=98,Maths=99,English=98)"
      ],
      "execution_count": null,
      "outputs": [
        {
          "output_type": "stream",
          "text": [
            "Marks in Maths: 99\n"
          ],
          "name": "stdout"
        }
      ]
    },
    {
      "cell_type": "code",
      "metadata": {
        "colab": {
          "base_uri": "https://localhost:8080/"
        },
        "id": "cG1_3aqp46Pf",
        "outputId": "7472a8dc-fcd8-462c-f521-9765cfeadec3"
      },
      "source": [
        "def cube(i):\n",
        "  return i**3\n",
        "\n",
        "cube(3)"
      ],
      "execution_count": null,
      "outputs": [
        {
          "output_type": "execute_result",
          "data": {
            "text/plain": [
              "27"
            ]
          },
          "metadata": {
            "tags": []
          },
          "execution_count": 43
        }
      ]
    },
    {
      "cell_type": "code",
      "metadata": {
        "colab": {
          "base_uri": "https://localhost:8080/",
          "height": 35
        },
        "id": "LmatEiXc66rn",
        "outputId": "ddc8492d-1fa5-47ea-8dcc-fe508105db54"
      },
      "source": [
        "def cube_or_not(i):\n",
        "  if i%3==0:\n",
        "    return i**3\n",
        "  else:\n",
        "    return f'{i} in not divisible by 3'\n",
        "\n",
        "cube_or_not(5)"
      ],
      "execution_count": null,
      "outputs": [
        {
          "output_type": "execute_result",
          "data": {
            "application/vnd.google.colaboratory.intrinsic+json": {
              "type": "string"
            },
            "text/plain": [
              "'5 in not divisible by 3'"
            ]
          },
          "metadata": {
            "tags": []
          },
          "execution_count": 50
        }
      ]
    },
    {
      "cell_type": "code",
      "metadata": {
        "id": "CpD3vrIAiyrH"
      },
      "source": [
        ""
      ],
      "execution_count": null,
      "outputs": []
    },
    {
      "cell_type": "markdown",
      "metadata": {
        "id": "oKXHpSPfizow"
      },
      "source": [
        "Classes"
      ]
    },
    {
      "cell_type": "code",
      "metadata": {
        "id": "kSG3cGsG7T8a",
        "colab": {
          "base_uri": "https://localhost:8080/"
        },
        "outputId": "d30395b4-7259-48e7-e6e2-2e13477942ca"
      },
      "source": [
        "class person:\n",
        "  def __init__(self,Name,Age):\n",
        "    self.Name, self.Age = Name, Age\n",
        "  def display(self):\n",
        "    print('Name:',self.Name,'\\nAge:',self.Age)\n",
        "  \n",
        "p1 = person('Shuaib', 28)\n",
        "p1.display()"
      ],
      "execution_count": null,
      "outputs": [
        {
          "output_type": "stream",
          "text": [
            "Name: Shuaib \n",
            "Age: 28\n"
          ],
          "name": "stdout"
        }
      ]
    },
    {
      "cell_type": "markdown",
      "metadata": {
        "id": "RGajv389i3EA"
      },
      "source": [
        "Inheritance of a class"
      ]
    },
    {
      "cell_type": "code",
      "metadata": {
        "colab": {
          "base_uri": "https://localhost:8080/"
        },
        "id": "wXaCj4Q1hT44",
        "outputId": "84f71c1c-49bf-4978-f465-258f9148d3f7"
      },
      "source": [
        "# Here student is child class and person is parent class.\n",
        "# Inheritance can be done by two ways:\n",
        "# 1st Method:\n",
        "class student(person):\n",
        "  def __init__(self,Name,Age):\n",
        "    self.Name, self.Age = Name, Age\n",
        "    #super().__init__(Name,Age)\n",
        "\n",
        "s1 = student('Ayaz', 18)\n",
        "s1.display()"
      ],
      "execution_count": null,
      "outputs": [
        {
          "output_type": "stream",
          "text": [
            "Name: Ayaz \n",
            "Age: 18\n"
          ],
          "name": "stdout"
        }
      ]
    },
    {
      "cell_type": "markdown",
      "metadata": {
        "id": "NbWvv2xrisx6"
      },
      "source": [
        "Or"
      ]
    },
    {
      "cell_type": "code",
      "metadata": {
        "colab": {
          "base_uri": "https://localhost:8080/"
        },
        "id": "QrzAc4jNiEHu",
        "outputId": "d92650fe-f215-4ba2-85dd-b0b00e615b6c"
      },
      "source": [
        "# II Method:\n",
        "class student1(person):\n",
        "  def __init__(self,Name,Age):\n",
        "    #self.Name, self.Age = Name, Age\n",
        "    super().__init__(Name,Age)\n",
        "\n",
        "s2 = student1('Shahbaz', 10)\n",
        "s2.display()"
      ],
      "execution_count": null,
      "outputs": [
        {
          "output_type": "stream",
          "text": [
            "Name: Shahbaz \n",
            "Age: 10\n"
          ],
          "name": "stdout"
        }
      ]
    },
    {
      "cell_type": "code",
      "metadata": {
        "colab": {
          "base_uri": "https://localhost:8080/"
        },
        "id": "caP3fCE1imwy",
        "outputId": "99a1358f-8940-4ce3-c5c9-d559ee1919db"
      },
      "source": [
        "class vehicle:\n",
        "  def __init__(self,passenger):\n",
        "    self.passenger = passenger\n",
        "  def collection(self):\n",
        "    return self.passenger * 79\n",
        "  \n",
        "class Bus(vehicle):\n",
        "  pass\n",
        "\n",
        "n = int(input('Enter the number of passenger:'))\n",
        "bus = Bus(n)\n",
        "print('Total collection is:',bus.collection())"
      ],
      "execution_count": null,
      "outputs": [
        {
          "output_type": "stream",
          "text": [
            "Enter the number of passenger:10\n",
            "Total collection is: 790\n"
          ],
          "name": "stdout"
        }
      ]
    },
    {
      "cell_type": "code",
      "metadata": {
        "colab": {
          "base_uri": "https://localhost:8080/"
        },
        "id": "kWAGzTXh4z0d",
        "outputId": "01d2746e-1764-4dd2-ed00-c73644a2213d"
      },
      "source": [
        "class vehicle:\n",
        "  def __init__(self,fuel,mileage):\n",
        "    self.fuel = fuel\n",
        "    self.mileage = mileage\n",
        "  def calc(self):\n",
        "    return self.fuel *85, self.mileage * self.fuel\n",
        "  \n",
        "class Bike(vehicle):\n",
        "  pass\n",
        "\n",
        "total_kms = int(input('Enter the distance to be travelled:'))\n",
        "mileage = 35\n",
        "fuel = int(input('Enter the fuel to be filled:'))\n",
        "bike = Bike(fuel,mileage)\n",
        "\n",
        "fuel_price, total_mileage = bike.calc()\n",
        "print(f'Fuel filled for Rs.{fuel_price}')\n",
        "print(f'Total mileage of bike {total_mileage}')\n",
        "can_travel = abs(total_kms - total_mileage)\n",
        "print(can_travel)\n",
        "\n",
        "if total_kms > total_mileage:\n",
        "  #print(n)\n",
        "  print(f'fuel is not enough to reach destination, please fill the fuel again after {total_kms-can_travel} kms')\n",
        "else:\n",
        "  print('fuel is enough to reach the destination')"
      ],
      "execution_count": null,
      "outputs": [
        {
          "output_type": "stream",
          "text": [
            "Enter the distance to be travelled:358\n",
            "Enter the fuel to be filled:11\n",
            "Fuel filled for Rs.935\n",
            "Total mileage of bike 385\n",
            "27\n",
            "fuel is enough to reach the destination\n"
          ],
          "name": "stdout"
        }
      ]
    },
    {
      "cell_type": "code",
      "metadata": {
        "colab": {
          "base_uri": "https://localhost:8080/"
        },
        "id": "_bLLvPNeT3hl",
        "outputId": "939ef3f0-4281-4808-9f56-2d8ae5d06ed4"
      },
      "source": [
        "class vehicle:\n",
        "  def __init__(self,name):\n",
        "    self.name = name\n",
        "  def max_speed(self,speed):\n",
        "    return f'Max speed of vehicle {self.name} is {speed}'\n",
        "\n",
        "class x(vehicle):\n",
        "  def max_speed(self,speed='184kmph'):\n",
        "    return super().max_speed(speed='184kmph')\n",
        "class y(vehicle):\n",
        "  def max_speed(self,speed='234kmph'):\n",
        "    return super().max_speed(speed='234kmph')\n",
        "class z(vehicle):\n",
        "  def max_speed(self,speed='293kmph'):\n",
        "    return super().max_speed(speed='293kmph')\n",
        "\n",
        "vehicle_type = input('Enter vehicle type x/y/z: ')\n",
        "\n",
        "if vehicle_type == 'x':\n",
        "  vehicle_type = x(vehicle_type)\n",
        "elif vehicle_type == 'y':\n",
        "  vehicle_type = y(vehicle_type)\n",
        "elif vehicle_type == 'z':\n",
        "  vehicle_type = z(vehicle_type)\n",
        "\n",
        "print(vehicle_type.max_speed())"
      ],
      "execution_count": null,
      "outputs": [
        {
          "output_type": "stream",
          "text": [
            "Enter vehicle type x/y/z: x\n",
            "Max speed of vehicle x is 184kmph\n"
          ],
          "name": "stdout"
        }
      ]
    },
    {
      "cell_type": "code",
      "metadata": {
        "colab": {
          "base_uri": "https://localhost:8080/"
        },
        "id": "0FO-fM2oao0z",
        "outputId": "cfea375b-dc38-408c-ebfd-e37d2c0bb078"
      },
      "source": [
        "import datetime\n",
        "tday=datetime.date.today()\n",
        "print(tday)\n",
        "bday=datetime.date(2017,9,18)\n",
        "print(bday)\n",
        "t_day=bday-tday\n",
        "t_day"
      ],
      "execution_count": null,
      "outputs": [
        {
          "output_type": "stream",
          "text": [
            "2021-07-09\n",
            "2017-09-18\n"
          ],
          "name": "stdout"
        },
        {
          "output_type": "execute_result",
          "data": {
            "text/plain": [
              "datetime.timedelta(days=-1390)"
            ]
          },
          "metadata": {
            "tags": []
          },
          "execution_count": 46
        }
      ]
    },
    {
      "cell_type": "code",
      "metadata": {
        "colab": {
          "base_uri": "https://localhost:8080/"
        },
        "id": "z2vbJUZhhfMo",
        "outputId": "2a864dc8-d565-4106-f5e1-0652d5626f39"
      },
      "source": [
        "bday=datetime.date(2021,7,11)\n",
        "bday.weekday()"
      ],
      "execution_count": null,
      "outputs": [
        {
          "output_type": "execute_result",
          "data": {
            "text/plain": [
              "0"
            ]
          },
          "metadata": {
            "tags": []
          },
          "execution_count": 74
        }
      ]
    },
    {
      "cell_type": "code",
      "metadata": {
        "colab": {
          "base_uri": "https://localhost:8080/"
        },
        "id": "P-5aPZN9ifX0",
        "outputId": "4c1074b8-ae98-4dbb-8b5d-c49ff4217772"
      },
      "source": [
        "from datetime import date\n",
        "\n",
        "def birthday(birth):\n",
        "  tday1 = date.today()\n",
        "  return tday1.year - birth.year - ((tday1.month, tday1.day) < (birth.month, birth.day))\n",
        "\n",
        "year = int(input('Enter year of birth:'))\n",
        "month = int(input('Enter month of birth:'))\n",
        "date_ = int(input('Enter day of birth:'))\n",
        "birth = date(year,month,date_)\n",
        "\n",
        "age_now = birthday(birth)\n",
        "print(\"Employee's age is: \",age_now)"
      ],
      "execution_count": null,
      "outputs": [
        {
          "output_type": "stream",
          "text": [
            "Enter year of birth:1992\n",
            "Enter month of birth:11\n",
            "Enter day of birth:6\n",
            "Employee's age is:  28\n"
          ],
          "name": "stdout"
        }
      ]
    },
    {
      "cell_type": "code",
      "metadata": {
        "colab": {
          "base_uri": "https://localhost:8080/"
        },
        "id": "oI-bivV1kM8I",
        "outputId": "b9edba19-5453-4053-bac4-e5074efd8bf8"
      },
      "source": [
        "from datetime import date, timedelta\n",
        "\n",
        "def allsundays(year):\n",
        "  d = date(2022,1,1)\n",
        "  d += timedelta(days = 6 - d.weekday())\n",
        "  print(d)\n",
        "  while d.year == year:\n",
        "    yield d\n",
        "    d += timedelta(days = 7)\n",
        "\n",
        "sunday_counts = [] \n",
        "for d in allsundays(2022):\n",
        "  sunday_counts.append(d)\n",
        "\n",
        "money = 100 * len(sunday_counts)\n",
        "print(f'Money from sunday coaching {money} rupees')"
      ],
      "execution_count": null,
      "outputs": [
        {
          "output_type": "stream",
          "text": [
            "2022-01-02\n",
            "Money from sunday coaching 5200 rupees\n"
          ],
          "name": "stdout"
        }
      ]
    },
    {
      "cell_type": "code",
      "metadata": {
        "colab": {
          "base_uri": "https://localhost:8080/"
        },
        "id": "SlUxJcLBpl5c",
        "outputId": "8ff6c17e-a093-4f70-cf50-d79d0073720e"
      },
      "source": [
        "d = date(2022,1,1)\n",
        "d += timedelta(days = 6 - d.weekday())\n",
        "print(d)"
      ],
      "execution_count": null,
      "outputs": [
        {
          "output_type": "stream",
          "text": [
            "2022-01-02\n"
          ],
          "name": "stdout"
        }
      ]
    },
    {
      "cell_type": "code",
      "metadata": {
        "colab": {
          "base_uri": "https://localhost:8080/"
        },
        "id": "uul47Y3mqd-K",
        "outputId": "458d2e1f-6b57-4a54-9cab-ab0ad6517c48"
      },
      "source": [
        "from datetime import datetime, timedelta\n",
        "\n",
        "now = datetime.now()\n",
        "print(\"Today's date is \", str(now))\n",
        "\n",
        "deadline = now + timedelta(days = 38)\n",
        "print(f'Deadline is {deadline}')\n",
        "\n",
        "appraisal = now + timedelta(weeks = 6)\n",
        "print(f'Appraisal meeting is {appraisal}')\n",
        "\n",
        "if appraisal < deadline:\n",
        "  print('Appraisal meet before deadline task')\n",
        "else:\n",
        "  print('Appraisal meet after deadline task')"
      ],
      "execution_count": null,
      "outputs": [
        {
          "output_type": "stream",
          "text": [
            "Today's date is  2021-07-09 10:00:05.934027\n",
            "Deadline is 2021-08-16 10:00:05.934027\n",
            "Appraisal meeting is 2021-08-20 10:00:05.934027\n",
            "Appraisal meet after deadline task\n"
          ],
          "name": "stdout"
        }
      ]
    },
    {
      "cell_type": "code",
      "metadata": {
        "colab": {
          "base_uri": "https://localhost:8080/"
        },
        "id": "BsF_pYE8sDO7",
        "outputId": "556860c4-a644-45d2-a9ab-467c92d7e4e4"
      },
      "source": [
        "import numpy as np\n",
        "a = np.array([1,2,3,4,0,6])\n",
        "list(a)"
      ],
      "execution_count": null,
      "outputs": [
        {
          "output_type": "execute_result",
          "data": {
            "text/plain": [
              "[1, 2, 3, 4, 0, 6]"
            ]
          },
          "metadata": {
            "tags": []
          },
          "execution_count": 7
        }
      ]
    },
    {
      "cell_type": "code",
      "metadata": {
        "id": "zIgCTzoJPRMY"
      },
      "source": [
        "import pandas as pd\n",
        "df = pd.DataFrame.from_items()\n"
      ],
      "execution_count": null,
      "outputs": []
    },
    {
      "cell_type": "code",
      "metadata": {
        "id": "EtRY5jvBRI76",
        "colab": {
          "base_uri": "https://localhost:8080/"
        },
        "outputId": "7c510f51-ef17-45c3-fbdf-2aabc2cad807"
      },
      "source": [
        "import numpy as np\n",
        "0 * np.nan"
      ],
      "execution_count": null,
      "outputs": [
        {
          "output_type": "execute_result",
          "data": {
            "text/plain": [
              "nan"
            ]
          },
          "metadata": {
            "tags": []
          },
          "execution_count": 3
        }
      ]
    },
    {
      "cell_type": "code",
      "metadata": {
        "colab": {
          "base_uri": "https://localhost:8080/"
        },
        "id": "enDce8RnVVF3",
        "outputId": "6a7de674-feba-483b-c4d2-8b8dab070d67"
      },
      "source": [
        "np.nan == np.nan"
      ],
      "execution_count": null,
      "outputs": [
        {
          "output_type": "execute_result",
          "data": {
            "text/plain": [
              "False"
            ]
          },
          "metadata": {
            "tags": []
          },
          "execution_count": 15
        }
      ]
    },
    {
      "cell_type": "code",
      "metadata": {
        "colab": {
          "base_uri": "https://localhost:8080/"
        },
        "id": "hgBLL9zVVW2G",
        "outputId": "e506cf6a-aab7-47ca-cbbb-1594d81e13d1"
      },
      "source": [
        "np.inf > np.nan"
      ],
      "execution_count": null,
      "outputs": [
        {
          "output_type": "execute_result",
          "data": {
            "text/plain": [
              "False"
            ]
          },
          "metadata": {
            "tags": []
          },
          "execution_count": 5
        }
      ]
    },
    {
      "cell_type": "code",
      "metadata": {
        "colab": {
          "base_uri": "https://localhost:8080/"
        },
        "id": "12A3MPCVVZPl",
        "outputId": "d627794a-2076-40d7-bbf0-6aa1f0e190a1"
      },
      "source": [
        "np.nan - np.nan"
      ],
      "execution_count": null,
      "outputs": [
        {
          "output_type": "execute_result",
          "data": {
            "text/plain": [
              "nan"
            ]
          },
          "metadata": {
            "tags": []
          },
          "execution_count": 6
        }
      ]
    },
    {
      "cell_type": "code",
      "metadata": {
        "colab": {
          "base_uri": "https://localhost:8080/"
        },
        "id": "9Pmvb6KHVq_R",
        "outputId": "1d97f745-8a2f-4d53-ba6f-54dc0e0777bc"
      },
      "source": [
        "0.3 == 3 * 0.1"
      ],
      "execution_count": null,
      "outputs": [
        {
          "output_type": "execute_result",
          "data": {
            "text/plain": [
              "False"
            ]
          },
          "metadata": {
            "tags": []
          },
          "execution_count": 7
        }
      ]
    },
    {
      "cell_type": "code",
      "metadata": {
        "colab": {
          "base_uri": "https://localhost:8080/"
        },
        "id": "CSVd6zRJVsmj",
        "outputId": "05a89f4b-75a5-4640-e785-589627f257a5"
      },
      "source": [
        "print(0.3) == print(3 * 0.1)"
      ],
      "execution_count": null,
      "outputs": [
        {
          "output_type": "stream",
          "text": [
            "0.3\n",
            "0.30000000000000004\n"
          ],
          "name": "stdout"
        },
        {
          "output_type": "execute_result",
          "data": {
            "text/plain": [
              "True"
            ]
          },
          "metadata": {
            "tags": []
          },
          "execution_count": 10
        }
      ]
    },
    {
      "cell_type": "code",
      "metadata": {
        "colab": {
          "base_uri": "https://localhost:8080/"
        },
        "id": "AAwq-CCKWBUO",
        "outputId": "147a27d2-68fc-47b6-b746-aecf8afd4924"
      },
      "source": [
        "print(type(np.nan)) == print(type(np.nan))"
      ],
      "execution_count": null,
      "outputs": [
        {
          "output_type": "stream",
          "text": [
            "<class 'float'>\n",
            "<class 'float'>\n"
          ],
          "name": "stdout"
        },
        {
          "output_type": "execute_result",
          "data": {
            "text/plain": [
              "True"
            ]
          },
          "metadata": {
            "tags": []
          },
          "execution_count": 14
        }
      ]
    },
    {
      "cell_type": "code",
      "metadata": {
        "id": "Sy3Ekz8sWWLw"
      },
      "source": [
        ""
      ],
      "execution_count": null,
      "outputs": []
    },
    {
      "cell_type": "code",
      "metadata": {
        "id": "gIh-aL8DWv5a"
      },
      "source": [
        ""
      ],
      "execution_count": null,
      "outputs": []
    }
  ]
}