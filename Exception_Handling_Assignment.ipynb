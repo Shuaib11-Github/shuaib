{
  "nbformat": 4,
  "nbformat_minor": 0,
  "metadata": {
    "colab": {
      "name": "Exception Handling Assignment.ipynb",
      "provenance": [],
      "authorship_tag": "ABX9TyPvJdQ6bjDwOFZMiQVQP18K",
      "include_colab_link": true
    },
    "kernelspec": {
      "name": "python3",
      "display_name": "Python 3"
    }
  },
  "cells": [
    {
      "cell_type": "markdown",
      "metadata": {
        "id": "view-in-github",
        "colab_type": "text"
      },
      "source": [
        "<a href=\"https://colab.research.google.com/github/Shuaib11-Github/shuaib/blob/master/Exception_Handling_Assignment.ipynb\" target=\"_parent\"><img src=\"https://colab.research.google.com/assets/colab-badge.svg\" alt=\"Open In Colab\"/></a>"
      ]
    },
    {
      "cell_type": "code",
      "metadata": {
        "colab": {
          "base_uri": "https://localhost:8080/"
        },
        "id": "6rzLmaRLhBz_",
        "outputId": "ae7c4618-4d27-48a7-abe5-43e174cf9dbf"
      },
      "source": [
        "# I Method:\r\n",
        "try:\r\n",
        "  5/0\r\n",
        "except ZeroDivisionError as ze:\r\n",
        "  print(ze)\r\n",
        "  print('Dividing by 0 is not permitted.')"
      ],
      "execution_count": 1,
      "outputs": [
        {
          "output_type": "stream",
          "text": [
            "division by zero\n",
            "Dividing by 0 is not permitted.\n"
          ],
          "name": "stdout"
        }
      ]
    },
    {
      "cell_type": "code",
      "metadata": {
        "colab": {
          "base_uri": "https://localhost:8080/"
        },
        "id": "Qi7i-UD1hDdl",
        "outputId": "d3b0eb49-0b94-4a8d-af57-85eda4d9ebe1"
      },
      "source": [
        "# II Method:\r\n",
        "def divide():\r\n",
        "  return 5/0\r\n",
        "try:\r\n",
        "  divide()\r\n",
        "except ZeroDivisionError as ze:\r\n",
        "  print(ze)\r\n",
        "  print('Dividing by 0 is not permitted.')"
      ],
      "execution_count": 2,
      "outputs": [
        {
          "output_type": "stream",
          "text": [
            "division by zero\n",
            "Dividing by 0 is not permitted.\n"
          ],
          "name": "stdout"
        }
      ]
    },
    {
      "cell_type": "code",
      "metadata": {
        "colab": {
          "base_uri": "https://localhost:8080/"
        },
        "id": "sLGUf1zHhD5e",
        "outputId": "00308edb-1296-4e3f-caf7-669367c90510"
      },
      "source": [
        "# I Method:\r\n",
        "subject = ['Americans','Indians']\r\n",
        "verb = ['Play','Watch']\r\n",
        "object = ['Baseball','Cricket']\r\n",
        "for i in subject:\r\n",
        "  for j in verb:\r\n",
        "    for k in object:\r\n",
        "      print(i,j,k,end='.')\r\n",
        "      print()"
      ],
      "execution_count": 3,
      "outputs": [
        {
          "output_type": "stream",
          "text": [
            "Americans Play Baseball.\n",
            "Americans Play Cricket.\n",
            "Americans Watch Baseball.\n",
            "Americans Watch Cricket.\n",
            "Indians Play Baseball.\n",
            "Indians Play Cricket.\n",
            "Indians Watch Baseball.\n",
            "Indians Watch Cricket.\n"
          ],
          "name": "stdout"
        }
      ]
    },
    {
      "cell_type": "code",
      "metadata": {
        "colab": {
          "base_uri": "https://localhost:8080/"
        },
        "id": "4LWNoHmWhEg4",
        "outputId": "12af60e5-28b9-4561-a832-fc5a3733883f"
      },
      "source": [
        "# II Method:\r\n",
        "subject,verb,objects = ['Americans','Indians'],['Play','Watch'],['Baseball','Cricket']\r\n",
        "All_sentences = [(sub+' '+ver+' '+obj+ '.') for sub in subject for ver in verb for obj in objects] \r\n",
        "for sentences in All_sentences: print(sentences)"
      ],
      "execution_count": 4,
      "outputs": [
        {
          "output_type": "stream",
          "text": [
            "Americans Play Baseball.\n",
            "Americans Play Cricket.\n",
            "Americans Watch Baseball.\n",
            "Americans Watch Cricket.\n",
            "Indians Play Baseball.\n",
            "Indians Play Cricket.\n",
            "Indians Watch Baseball.\n",
            "Indians Watch Cricket.\n"
          ],
          "name": "stdout"
        }
      ]
    },
    {
      "cell_type": "code",
      "metadata": {
        "id": "_y2npi8UhFRz"
      },
      "source": [
        ""
      ],
      "execution_count": null,
      "outputs": []
    }
  ]
}