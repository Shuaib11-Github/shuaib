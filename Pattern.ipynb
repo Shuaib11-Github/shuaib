{
  "nbformat": 4,
  "nbformat_minor": 0,
  "metadata": {
    "colab": {
      "name": "Pattern.ipynb",
      "provenance": [],
      "authorship_tag": "ABX9TyPgBsoOE5eRT73ajEQevpI6",
      "include_colab_link": true
    },
    "kernelspec": {
      "name": "python3",
      "display_name": "Python 3"
    }
  },
  "cells": [
    {
      "cell_type": "markdown",
      "metadata": {
        "id": "view-in-github",
        "colab_type": "text"
      },
      "source": [
        "<a href=\"https://colab.research.google.com/github/Shuaib11-Github/shuaib/blob/master/Pattern.ipynb\" target=\"_parent\"><img src=\"https://colab.research.google.com/assets/colab-badge.svg\" alt=\"Open In Colab\"/></a>"
      ]
    },
    {
      "cell_type": "markdown",
      "metadata": {
        "id": "eUZFxpLWOlx2"
      },
      "source": [
        "Take an input N, a number, Print the pattern as given in output.\r\n",
        "\r\n",
        "Output:\r\n",
        "\r\n",
        "1 2 3 4 5\r\n",
        "\r\n",
        "1 2 3 4 *\r\n",
        "\r\n",
        "1 2 3 * * *\r\n",
        "\r\n",
        "1 2 * * * * *\r\n",
        "\r\n",
        "1 * * * * * * *"
      ]
    },
    {
      "cell_type": "code",
      "metadata": {
        "colab": {
          "base_uri": "https://localhost:8080/"
        },
        "id": "kK4pf7qHOkCZ",
        "outputId": "b71a0dc8-06f8-4cbc-89de-cf3d807a4fc9"
      },
      "source": [
        "print('Input')\r\n",
        "n = int(input())\r\n",
        "print('\\nOutput\\n')\r\n",
        "odd = 1\r\n",
        "for i in range(n+1):\r\n",
        "  if i<=0:\r\n",
        "    for j in range(1,n-i+1):\r\n",
        "      print(j,end=' ')\r\n",
        "  elif i>=1 and i<=4:\r\n",
        "    for j in range(1,n-i+1):\r\n",
        "      print(j,end=' ')\r\n",
        "    for k in range(0,odd):\r\n",
        "      print('*',end=' ')\r\n",
        "    odd += 2\r\n",
        "  else:\r\n",
        "    break\r\n",
        "  print()"
      ],
      "execution_count": 1,
      "outputs": [
        {
          "output_type": "stream",
          "text": [
            "Input\n",
            "5\n",
            "\n",
            "Output\n",
            "\n",
            "1 2 3 4 5 \n",
            "1 2 3 4 * \n",
            "1 2 3 * * * \n",
            "1 2 * * * * * \n",
            "1 * * * * * * * \n"
          ],
          "name": "stdout"
        }
      ]
    },
    {
      "cell_type": "code",
      "metadata": {
        "id": "ngMFsM7_O7gn"
      },
      "source": [
        ""
      ],
      "execution_count": null,
      "outputs": []
    }
  ]
}