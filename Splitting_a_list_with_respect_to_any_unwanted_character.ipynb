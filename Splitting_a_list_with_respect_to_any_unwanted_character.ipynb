{
  "nbformat": 4,
  "nbformat_minor": 0,
  "metadata": {
    "colab": {
      "name": "Splitting a list with respect to any unwanted character.ipynb",
      "provenance": [],
      "authorship_tag": "ABX9TyPPWFoqVM92hYKY3akzLVwo",
      "include_colab_link": true
    },
    "kernelspec": {
      "name": "python3",
      "display_name": "Python 3"
    }
  },
  "cells": [
    {
      "cell_type": "markdown",
      "metadata": {
        "id": "view-in-github",
        "colab_type": "text"
      },
      "source": [
        "<a href=\"https://colab.research.google.com/github/Shuaib11-Github/shuaib/blob/master/Splitting_a_list_with_respect_to_any_unwanted_character.ipynb\" target=\"_parent\"><img src=\"https://colab.research.google.com/assets/colab-badge.svg\" alt=\"Open In Colab\"/></a>"
      ]
    },
    {
      "cell_type": "code",
      "metadata": {
        "colab": {
          "base_uri": "https://localhost:8080/"
        },
        "id": "EnD_DFcUd5zW",
        "outputId": "bf0bfdf7-29ec-4049-9ae9-9db7c98c690a"
      },
      "source": [
        "# Splitting a list with respect to '+', ' ', '*' character:\r\n",
        "\r\n",
        "l = ['computer+program', 'new delhi', 'artificial*intelligence', 'sea+facing', 'bungalow+society',\r\n",
        "\t\t'software+engineer', 'highspeed+internet', 'slow+coach+train', 'high+density', 'clear+weather']\r\n",
        "l1 = []\r\n",
        "for i in l:\r\n",
        "  if '+' in i:\r\n",
        "    i = i.replace('+', ' ', 2).title()\r\n",
        "    l1.append(i)\r\n",
        "  elif '*' in i:\r\n",
        "    i = i.replace('*', ' ').title()\r\n",
        "    l1.append(i)\r\n",
        "  else:\r\n",
        "    i = i.title()\r\n",
        "    l1.append(i)\r\n",
        "print(l, end='\\n')\r\n",
        "l = l1\r\n",
        "print(l, end='')"
      ],
      "execution_count": 1,
      "outputs": [
        {
          "output_type": "stream",
          "text": [
            "['computer+program', 'new delhi', 'artificial*intelligence', 'sea+facing', 'bungalow+society', 'software+engineer', 'highspeed+internet', 'slow+coach+train', 'high+density', 'clear+weather']\n",
            "['Computer Program', 'New Delhi', 'Artificial Intelligence', 'Sea Facing', 'Bungalow Society', 'Software Engineer', 'Highspeed Internet', 'Slow Coach Train', 'High Density', 'Clear Weather']"
          ],
          "name": "stdout"
        }
      ]
    },
    {
      "cell_type": "code",
      "metadata": {
        "id": "mLmn5_mheSU6"
      },
      "source": [
        ""
      ],
      "execution_count": null,
      "outputs": []
    }
  ]
}