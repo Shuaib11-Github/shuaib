{
  "nbformat": 4,
  "nbformat_minor": 0,
  "metadata": {
    "colab": {
      "name": "Pair of (a,b).ipynb",
      "provenance": [],
      "authorship_tag": "ABX9TyMwU06rUHDEkqFRzHnCumMY",
      "include_colab_link": true
    },
    "kernelspec": {
      "name": "python3",
      "display_name": "Python 3"
    }
  },
  "cells": [
    {
      "cell_type": "markdown",
      "metadata": {
        "id": "view-in-github",
        "colab_type": "text"
      },
      "source": [
        "<a href=\"https://colab.research.google.com/github/Shuaib11-Github/shuaib/blob/master/Pair_of_(a%2Cb).ipynb\" target=\"_parent\"><img src=\"https://colab.research.google.com/assets/colab-badge.svg\" alt=\"Open In Colab\"/></a>"
      ]
    },
    {
      "cell_type": "markdown",
      "metadata": {
        "id": "7-8XntmIRVQt"
      },
      "source": [
        "Input:\r\n",
        "\r\n",
        "First line contains of T, the number of test cases. Next T lines contain a single integer A each.\r\n",
        "\r\n",
        "Output:\r\n",
        "\r\n",
        "T lines each containing a pair (a,b) in sorted order."
      ]
    },
    {
      "cell_type": "code",
      "metadata": {
        "colab": {
          "base_uri": "https://localhost:8080/"
        },
        "id": "UISvN6WfRUJD",
        "outputId": "0e2ae72e-b0a9-40f6-a109-b83a687eb9c0"
      },
      "source": [
        "num = int(input('Enter a number: '))\r\n",
        "print('Input: ')\r\n",
        "l = []\r\n",
        "j = 0\r\n",
        "k = 0\r\n",
        "for i in range(num):\r\n",
        "  n = int(input())\r\n",
        "  l.append(n)\r\n",
        "print('Output: ')\r\n",
        "nl = list(range(1,n+1))\r\n",
        "while j < len(l) and k < len(nl):\r\n",
        "  if l[j] == nl[k]:\r\n",
        "    for a in range(6):\r\n",
        "      for b in range(6):\r\n",
        "        if a**2 + b**2 == l[j] and a < b:\r\n",
        "          print((a,b), end='')\r\n",
        "    print()\r\n",
        "    j += 1\r\n",
        "    k += 1\r\n",
        "  else:\r\n",
        "    k += 1"
      ],
      "execution_count": 1,
      "outputs": [
        {
          "output_type": "stream",
          "text": [
            "Enter a number: 3\n",
            "Input: \n",
            "1\n",
            "9\n",
            "25\n",
            "Output: \n",
            "(0, 1)\n",
            "(0, 3)\n",
            "(0, 5)(3, 4)\n"
          ],
          "name": "stdout"
        }
      ]
    },
    {
      "cell_type": "code",
      "metadata": {
        "id": "r1dAa5BTXgxL"
      },
      "source": [
        ""
      ],
      "execution_count": null,
      "outputs": []
    }
  ]
}