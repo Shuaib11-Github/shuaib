{
  "nbformat": 4,
  "nbformat_minor": 0,
  "metadata": {
    "colab": {
      "name": "Prime number generator.ipynb",
      "provenance": [],
      "authorship_tag": "ABX9TyNlu4MrTLJAIj1bjZFYf17N",
      "include_colab_link": true
    },
    "kernelspec": {
      "name": "python3",
      "display_name": "Python 3"
    }
  },
  "cells": [
    {
      "cell_type": "markdown",
      "metadata": {
        "id": "view-in-github",
        "colab_type": "text"
      },
      "source": [
        "<a href=\"https://colab.research.google.com/github/Shuaib11-Github/shuaib/blob/master/Prime_number_generator.ipynb\" target=\"_parent\"><img src=\"https://colab.research.google.com/assets/colab-badge.svg\" alt=\"Open In Colab\"/></a>"
      ]
    },
    {
      "cell_type": "code",
      "metadata": {
        "colab": {
          "base_uri": "https://localhost:8080/",
          "height": 248
        },
        "id": "bURJQ4LKECp_",
        "outputId": "139c2952-5144-4fbe-d54f-7db0916dffd7"
      },
      "source": [
        "# Prime number generator:\r\n",
        "\r\n",
        "x = input()\r\n",
        "\r\n",
        "for i in range(int(x)):\r\n",
        "  a = list(map(int, input().split()))\r\n",
        "  if a[0] == 1:\r\n",
        "    a[0] = 2\r\n",
        "  for num in range(a[0], a[1]+1):\r\n",
        "    if num == 2:\r\n",
        "      print(num)\r\n",
        "    for j in range(2, num):\r\n",
        "      if num % j == 0:\r\n",
        "        break\r\n",
        "      elif j == num - 1:\r\n",
        "        print(num)\r\n",
        "  print()\r\n",
        "  i += 1\r\n",
        "\r\n",
        "# we get value error for entering anything other than integer.\r\n",
        "# ValueError: invalid literal for int() with base 10: 'dsb'."
      ],
      "execution_count": 1,
      "outputs": [
        {
          "output_type": "stream",
          "text": [
            "dsb\n"
          ],
          "name": "stdout"
        },
        {
          "output_type": "error",
          "ename": "ValueError",
          "evalue": "ignored",
          "traceback": [
            "\u001b[0;31m---------------------------------------------------------------------------\u001b[0m",
            "\u001b[0;31mValueError\u001b[0m                                Traceback (most recent call last)",
            "\u001b[0;32m<ipython-input-1-513bd0f3e044>\u001b[0m in \u001b[0;36m<module>\u001b[0;34m()\u001b[0m\n\u001b[1;32m      3\u001b[0m \u001b[0mx\u001b[0m \u001b[0;34m=\u001b[0m \u001b[0minput\u001b[0m\u001b[0;34m(\u001b[0m\u001b[0;34m)\u001b[0m\u001b[0;34m\u001b[0m\u001b[0;34m\u001b[0m\u001b[0m\n\u001b[1;32m      4\u001b[0m \u001b[0;34m\u001b[0m\u001b[0m\n\u001b[0;32m----> 5\u001b[0;31m \u001b[0;32mfor\u001b[0m \u001b[0mi\u001b[0m \u001b[0;32min\u001b[0m \u001b[0mrange\u001b[0m\u001b[0;34m(\u001b[0m\u001b[0mint\u001b[0m\u001b[0;34m(\u001b[0m\u001b[0mx\u001b[0m\u001b[0;34m)\u001b[0m\u001b[0;34m)\u001b[0m\u001b[0;34m:\u001b[0m\u001b[0;34m\u001b[0m\u001b[0;34m\u001b[0m\u001b[0m\n\u001b[0m\u001b[1;32m      6\u001b[0m   \u001b[0ma\u001b[0m \u001b[0;34m=\u001b[0m \u001b[0mlist\u001b[0m\u001b[0;34m(\u001b[0m\u001b[0mmap\u001b[0m\u001b[0;34m(\u001b[0m\u001b[0mint\u001b[0m\u001b[0;34m,\u001b[0m \u001b[0minput\u001b[0m\u001b[0;34m(\u001b[0m\u001b[0;34m)\u001b[0m\u001b[0;34m.\u001b[0m\u001b[0msplit\u001b[0m\u001b[0;34m(\u001b[0m\u001b[0;34m)\u001b[0m\u001b[0;34m)\u001b[0m\u001b[0;34m)\u001b[0m\u001b[0;34m\u001b[0m\u001b[0;34m\u001b[0m\u001b[0m\n\u001b[1;32m      7\u001b[0m   \u001b[0;32mif\u001b[0m \u001b[0ma\u001b[0m\u001b[0;34m[\u001b[0m\u001b[0;36m0\u001b[0m\u001b[0;34m]\u001b[0m \u001b[0;34m==\u001b[0m \u001b[0;36m1\u001b[0m\u001b[0;34m:\u001b[0m\u001b[0;34m\u001b[0m\u001b[0;34m\u001b[0m\u001b[0m\n",
            "\u001b[0;31mValueError\u001b[0m: invalid literal for int() with base 10: 'dsb'"
          ]
        }
      ]
    },
    {
      "cell_type": "code",
      "metadata": {
        "colab": {
          "base_uri": "https://localhost:8080/"
        },
        "id": "Vz3bteX6EQGr",
        "outputId": "2c7e6597-66ab-4f06-aa71-00120c92e503"
      },
      "source": [
        "# Prime number generator:\r\n",
        "# Handling all the exceptions.\r\n",
        "\r\n",
        "while True:\r\n",
        "  x = input()\r\n",
        "  if not x.isdigit():\r\n",
        "    print('Please Enter an Integer: ')\r\n",
        "    continue\r\n",
        "  break\r\n",
        "\r\n",
        "for i in range(int(x)):\r\n",
        "  a = list(map(int, input().split()))\r\n",
        "  if a[0] == 1:\r\n",
        "    a[0] = 2\r\n",
        "  for num in range(a[0], a[1]+1):\r\n",
        "    if num == 2:\r\n",
        "      print(num)\r\n",
        "    for j in range(2, num):\r\n",
        "      if num % j == 0:\r\n",
        "        break\r\n",
        "      elif j == num - 1:\r\n",
        "        print(num)\r\n",
        "  print()\r\n",
        "  i += 1"
      ],
      "execution_count": 3,
      "outputs": [
        {
          "output_type": "stream",
          "text": [
            "dsdf\n",
            "Please Enter an Integer: \n",
            "2\n",
            "1 10\n",
            "2\n",
            "3\n",
            "5\n",
            "7\n",
            "\n",
            "23 1\n",
            "\n"
          ],
          "name": "stdout"
        }
      ]
    },
    {
      "cell_type": "code",
      "metadata": {
        "id": "N_DOOwxWE2gd",
        "colab": {
          "base_uri": "https://localhost:8080/"
        },
        "outputId": "6fc652d7-9622-4728-bb84-0515fe3f4d3a"
      },
      "source": [
        "# Prime number generator:\r\n",
        "# Handling all the exceptions.\r\n",
        "\r\n",
        "while True:\r\n",
        "  x = input()\r\n",
        "  if not x.isdigit():\r\n",
        "    print('Please Enter an Integer: ')\r\n",
        "    continue\r\n",
        "  break\r\n",
        "\r\n",
        "for i in range(int(x)):\r\n",
        "    a = list(map(int, input().split()))\r\n",
        "    for k in range(len(a)-1):\r\n",
        "      if a[k] > a[k+1]:\r\n",
        "        a[k],a[k+1] = a[k+1],a[k]\r\n",
        "    else:\r\n",
        "      if a[k] == 1:\r\n",
        "        a[k] = 2\r\n",
        "    for num in range(a[k], a[k+1]+1):\r\n",
        "        if num == 2:\r\n",
        "            print(num)\r\n",
        "        for j in range(2, num):\r\n",
        "            if num % j == 0:\r\n",
        "                break\r\n",
        "            elif j == num - (num//2):\r\n",
        "                print(num)\r\n",
        "    print()\r\n",
        "    i += 1"
      ],
      "execution_count": 4,
      "outputs": [
        {
          "output_type": "stream",
          "text": [
            "esf\n",
            "Please Enter an Integer: \n",
            "2\n",
            "1 10\n",
            "2\n",
            "3\n",
            "5\n",
            "7\n",
            "\n",
            "23 1\n",
            "2\n",
            "3\n",
            "5\n",
            "7\n",
            "11\n",
            "13\n",
            "17\n",
            "19\n",
            "23\n",
            "\n"
          ],
          "name": "stdout"
        }
      ]
    },
    {
      "cell_type": "code",
      "metadata": {
        "id": "gL8gskIpl9T3"
      },
      "source": [
        ""
      ],
      "execution_count": null,
      "outputs": []
    }
  ]
}