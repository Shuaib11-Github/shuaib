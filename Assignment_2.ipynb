{
  "nbformat": 4,
  "nbformat_minor": 0,
  "metadata": {
    "colab": {
      "name": "Assignment 2.ipynb",
      "provenance": [],
      "authorship_tag": "ABX9TyN76t/FfqjggLWYZi1yEJEe",
      "include_colab_link": true
    },
    "kernelspec": {
      "name": "python3",
      "display_name": "Python 3"
    }
  },
  "cells": [
    {
      "cell_type": "markdown",
      "metadata": {
        "id": "view-in-github",
        "colab_type": "text"
      },
      "source": [
        "<a href=\"https://colab.research.google.com/github/Shuaib11-Github/shuaib/blob/master/Assignment_2.ipynb\" target=\"_parent\"><img src=\"https://colab.research.google.com/assets/colab-badge.svg\" alt=\"Open In Colab\"/></a>"
      ]
    },
    {
      "cell_type": "code",
      "metadata": {
        "colab": {
          "base_uri": "https://localhost:8080/"
        },
        "id": "qF5Gx4YGlCBt",
        "outputId": "850f3ce7-39cf-4248-ffe6-e0e642aaf79d"
      },
      "source": [
        "n = 5\r\n",
        "for i in range(n):\r\n",
        "  for j in range(i):\r\n",
        "    print('*',end=' ')\r\n",
        "  print(' ')\r\n",
        "\r\n",
        "for i in range(n,0,-1):\r\n",
        "  for j in range(i):\r\n",
        "    print('*',end=' ')\r\n",
        "  print(' ')"
      ],
      "execution_count": 1,
      "outputs": [
        {
          "output_type": "stream",
          "text": [
            " \n",
            "*  \n",
            "* *  \n",
            "* * *  \n",
            "* * * *  \n",
            "* * * * *  \n",
            "* * * *  \n",
            "* * *  \n",
            "* *  \n",
            "*  \n"
          ],
          "name": "stdout"
        }
      ]
    },
    {
      "cell_type": "code",
      "metadata": {
        "colab": {
          "base_uri": "https://localhost:8080/"
        },
        "id": "g9_uRDU0lNUr",
        "outputId": "1a1b5397-05de-42f4-b5f1-d807d37ef650"
      },
      "source": [
        "word = input('Enter a word: ')\r\n",
        "reverse_word = word[::-1]\r\n",
        "print(reverse_word)"
      ],
      "execution_count": 2,
      "outputs": [
        {
          "output_type": "stream",
          "text": [
            "Enter a word: Ineuron\n",
            "noruenI\n"
          ],
          "name": "stdout"
        }
      ]
    },
    {
      "cell_type": "code",
      "metadata": {
        "id": "iJsgEjEolZrl"
      },
      "source": [
        ""
      ],
      "execution_count": null,
      "outputs": []
    }
  ]
}