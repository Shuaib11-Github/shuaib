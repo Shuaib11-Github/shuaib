{
  "nbformat": 4,
  "nbformat_minor": 0,
  "metadata": {
    "colab": {
      "name": "Smallest difference.ipynb",
      "provenance": [],
      "authorship_tag": "ABX9TyMInPC5UMFLDyeRttd+OZl6",
      "include_colab_link": true
    },
    "kernelspec": {
      "name": "python3",
      "display_name": "Python 3"
    }
  },
  "cells": [
    {
      "cell_type": "markdown",
      "metadata": {
        "id": "view-in-github",
        "colab_type": "text"
      },
      "source": [
        "<a href=\"https://colab.research.google.com/github/Shuaib11-Github/shuaib/blob/master/Smallest_difference.ipynb\" target=\"_parent\"><img src=\"https://colab.research.google.com/assets/colab-badge.svg\" alt=\"Open In Colab\"/></a>"
      ]
    },
    {
      "cell_type": "code",
      "metadata": {
        "colab": {
          "base_uri": "https://localhost:8080/"
        },
        "id": "O9Mt3SHce4t_",
        "outputId": "cc1710f5-0c29-4ce0-c422-bfa55aa55a8b"
      },
      "source": [
        "# O(nlog(n)+mlog(m)) Time | O(1) Space:\r\n",
        "def smallestdifference(arr1,arr2):\r\n",
        "  arr1.sort()\r\n",
        "  arr2.sort()\r\n",
        "  idxone = 0\r\n",
        "  idxTwo = 0\r\n",
        "  smallest = float('inf')\r\n",
        "  current = float('inf')\r\n",
        "  smallestpair = []\r\n",
        "  while idxone <  len(arr1) and idxTwo < len(arr2):\r\n",
        "    firstnum = arr1[idxone]\r\n",
        "    secondnum = arr2[idxTwo]\r\n",
        "    if firstnum < secondnum:\r\n",
        "      current = secondnum - firstnum\r\n",
        "      idxone += 1\r\n",
        "    elif secondnum < firstnum:\r\n",
        "      current = firstnum - secondnum\r\n",
        "      idxTwo += 1\r\n",
        "    else:\r\n",
        "      return [firstnum,secondnum]\r\n",
        "    if smallest > current:\r\n",
        "      smallest = current\r\n",
        "      smallestpair = [firstnum,secondnum]\r\n",
        "  return smallestpair\r\n",
        "\r\n",
        "smallestdifference([-1,5,10,20,28,3],[26,134,135,15,17])"
      ],
      "execution_count": 1,
      "outputs": [
        {
          "output_type": "execute_result",
          "data": {
            "text/plain": [
              "[28, 26]"
            ]
          },
          "metadata": {
            "tags": []
          },
          "execution_count": 1
        }
      ]
    },
    {
      "cell_type": "code",
      "metadata": {
        "id": "F4dPIoQufNgd"
      },
      "source": [
        ""
      ],
      "execution_count": null,
      "outputs": []
    }
  ]
}