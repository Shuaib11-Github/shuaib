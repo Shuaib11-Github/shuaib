{
  "nbformat": 4,
  "nbformat_minor": 0,
  "metadata": {
    "colab": {
      "name": "Move Element To End.ipynb",
      "provenance": [],
      "authorship_tag": "ABX9TyOJc6n6NK8/HezHWWOK3MrF",
      "include_colab_link": true
    },
    "kernelspec": {
      "name": "python3",
      "display_name": "Python 3"
    }
  },
  "cells": [
    {
      "cell_type": "markdown",
      "metadata": {
        "id": "view-in-github",
        "colab_type": "text"
      },
      "source": [
        "<a href=\"https://colab.research.google.com/github/Shuaib11-Github/shuaib/blob/master/Move_Element_To_End.ipynb\" target=\"_parent\"><img src=\"https://colab.research.google.com/assets/colab-badge.svg\" alt=\"Open In Colab\"/></a>"
      ]
    },
    {
      "cell_type": "code",
      "metadata": {
        "colab": {
          "base_uri": "https://localhost:8080/"
        },
        "id": "divct599R6T_",
        "outputId": "3594440c-3c02-40fe-bbda-07b5a2e626bb"
      },
      "source": [
        "# O(n) Time | O(1) Space:\r\n",
        "def move(arr,n):\r\n",
        "  i = 0\r\n",
        "  j = len(arr) - 1\r\n",
        "  while i < j:\r\n",
        "    while i < j and arr[j] == n:\r\n",
        "      j -= 1\r\n",
        "    if arr[i] == n:\r\n",
        "      arr[i],arr[j] = arr[j],arr[i]\r\n",
        "    i += 1\r\n",
        "  return arr\r\n",
        "  \r\n",
        "move([2,1,2,2,2,3,4,2,6,5,2,7,2,9,2,8],2)"
      ],
      "execution_count": 1,
      "outputs": [
        {
          "output_type": "execute_result",
          "data": {
            "text/plain": [
              "[8, 1, 9, 7, 5, 3, 4, 6, 2, 2, 2, 2, 2, 2, 2, 2]"
            ]
          },
          "metadata": {
            "tags": []
          },
          "execution_count": 1
        }
      ]
    },
    {
      "cell_type": "code",
      "metadata": {
        "colab": {
          "base_uri": "https://localhost:8080/"
        },
        "id": "cqIsxourR_i-",
        "outputId": "f033ffdf-f10b-493a-b739-dee2fd7e1c3b"
      },
      "source": [
        "# O(n) Time | O(1) Space:\r\n",
        "def move(arr,n):\r\n",
        "  #arr.sort()\r\n",
        "  first = 0\r\n",
        "  second = 1\r\n",
        "  sep = first - 1\r\n",
        "  while first < second < len(arr):\r\n",
        "      if arr[second] != n:\r\n",
        "        arr[first],arr[second] = arr[second],arr[first]\r\n",
        "        first += 1\r\n",
        "        second = first + 1\r\n",
        "        if arr[sep] > arr[first]:\r\n",
        "          arr[sep],arr[first] = arr[first],arr[sep]\r\n",
        "      elif arr[second] == n:\r\n",
        "        second += 1\r\n",
        "  return arr\r\n",
        "move([2,1,2,2,2,3,4,2,6,5,2,7,2,9,2,8],2)"
      ],
      "execution_count": 2,
      "outputs": [
        {
          "output_type": "execute_result",
          "data": {
            "text/plain": [
              "[1, 3, 8, 4, 6, 5, 7, 9, 2, 2, 2, 2, 2, 2, 2, 2]"
            ]
          },
          "metadata": {
            "tags": []
          },
          "execution_count": 2
        }
      ]
    },
    {
      "cell_type": "code",
      "metadata": {
        "id": "engTYix3SQ1W"
      },
      "source": [
        ""
      ],
      "execution_count": null,
      "outputs": []
    }
  ]
}