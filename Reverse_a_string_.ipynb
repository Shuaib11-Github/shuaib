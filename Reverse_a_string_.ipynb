{
  "nbformat": 4,
  "nbformat_minor": 0,
  "metadata": {
    "colab": {
      "name": "Reverse a string .ipynb",
      "provenance": [],
      "authorship_tag": "ABX9TyOZYsCeXpsrQ/BUQuIL6GZW",
      "include_colab_link": true
    },
    "kernelspec": {
      "name": "python3",
      "display_name": "Python 3"
    }
  },
  "cells": [
    {
      "cell_type": "markdown",
      "metadata": {
        "id": "view-in-github",
        "colab_type": "text"
      },
      "source": [
        "<a href=\"https://colab.research.google.com/github/Shuaib11-Github/shuaib/blob/master/Reverse_a_string_.ipynb\" target=\"_parent\"><img src=\"https://colab.research.google.com/assets/colab-badge.svg\" alt=\"Open In Colab\"/></a>"
      ]
    },
    {
      "cell_type": "code",
      "metadata": {
        "colab": {
          "base_uri": "https://localhost:8080/"
        },
        "id": "nUxUwX8sXqlw",
        "outputId": "18f7fe8e-c33c-4c2f-ece1-bb3ec915f28c"
      },
      "source": [
        "# Reverse a list of string characters:\r\n",
        "def string(l):\r\n",
        "  s = 0\r\n",
        "  e = len(l)-1\r\n",
        "  while(s<=e):\r\n",
        "    l[s],l[e] = l[e],l[s]\r\n",
        "    s += 1\r\n",
        "    e -= 1\r\n",
        "  return l\r\n",
        "l = ['h','e','l','l','o']\r\n",
        "string(l)"
      ],
      "execution_count": 1,
      "outputs": [
        {
          "output_type": "execute_result",
          "data": {
            "text/plain": [
              "['o', 'l', 'l', 'e', 'h']"
            ]
          },
          "metadata": {
            "tags": []
          },
          "execution_count": 1
        }
      ]
    },
    {
      "cell_type": "code",
      "metadata": {
        "colab": {
          "base_uri": "https://localhost:8080/"
        },
        "id": "oXqm446VXx_x",
        "outputId": "0a8d4372-22f7-43d5-9f8d-1eb44b5366c6"
      },
      "source": [
        "s = 'hello'\r\n",
        "for i in range(1,len(s)+1):\r\n",
        "  print(s[-i],end=' ')"
      ],
      "execution_count": 2,
      "outputs": [
        {
          "output_type": "stream",
          "text": [
            "o l l e h "
          ],
          "name": "stdout"
        }
      ]
    },
    {
      "cell_type": "code",
      "metadata": {
        "colab": {
          "base_uri": "https://localhost:8080/"
        },
        "id": "eoZfGn6VX16v",
        "outputId": "45364cef-7b68-4626-c318-fc6b2f9aa398"
      },
      "source": [
        "s = 'hello'\r\n",
        "s1 = list(reversed(s))\r\n",
        "s1\r\n",
        "#print(tuple(reversed(s)))"
      ],
      "execution_count": 3,
      "outputs": [
        {
          "output_type": "execute_result",
          "data": {
            "text/plain": [
              "['o', 'l', 'l', 'e', 'h']"
            ]
          },
          "metadata": {
            "tags": []
          },
          "execution_count": 3
        }
      ]
    },
    {
      "cell_type": "code",
      "metadata": {
        "id": "EEN5WHBpYAbe"
      },
      "source": [
        ""
      ],
      "execution_count": null,
      "outputs": []
    }
  ]
}