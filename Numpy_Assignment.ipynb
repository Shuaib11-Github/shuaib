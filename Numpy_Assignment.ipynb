{
  "nbformat": 4,
  "nbformat_minor": 0,
  "metadata": {
    "colab": {
      "name": "Numpy Assignment.ipynb",
      "provenance": [],
      "authorship_tag": "ABX9TyNXD+LXTQF8wsqyA7pYNXl+",
      "include_colab_link": true
    },
    "kernelspec": {
      "name": "python3",
      "display_name": "Python 3"
    }
  },
  "cells": [
    {
      "cell_type": "markdown",
      "metadata": {
        "id": "view-in-github",
        "colab_type": "text"
      },
      "source": [
        "<a href=\"https://colab.research.google.com/github/Shuaib11-Github/shuaib/blob/master/Numpy_Assignment.ipynb\" target=\"_parent\"><img src=\"https://colab.research.google.com/assets/colab-badge.svg\" alt=\"Open In Colab\"/></a>"
      ]
    },
    {
      "cell_type": "markdown",
      "metadata": {
        "id": "WJtMf9Et-ztF"
      },
      "source": [
        "Write a function so that the columns of the output matrix are powers of the input\r\n",
        "vector.\r\n",
        "\r\n",
        "The order of the powers is determined by the increasing boolean argument. Specifically, when\r\n",
        "increasing is False, the i-th output column is the input vector raised element-wise to the power\r\n",
        "of N - i - 1.\r\n",
        "\r\n",
        "HINT: Such a matrix with a geometric progression in each row is named for Alexandre-\r\n",
        "Theophile Vandermonde."
      ]
    },
    {
      "cell_type": "code",
      "metadata": {
        "colab": {
          "base_uri": "https://localhost:8080/"
        },
        "id": "o3DpiJ1I-yYS",
        "outputId": "a3fd9be7-f4e0-45d3-dd3e-8e0130d69a6b"
      },
      "source": [
        "import numpy as np\r\n",
        "\r\n",
        "x = np.array([1,2,3,4,5])\r\n",
        "N = 5\r\n",
        "matrix = np.column_stack([x**(N-i-1) for i in range(N)])\r\n",
        "matrix"
      ],
      "execution_count": 1,
      "outputs": [
        {
          "output_type": "execute_result",
          "data": {
            "text/plain": [
              "array([[  1,   1,   1,   1,   1],\n",
              "       [ 16,   8,   4,   2,   1],\n",
              "       [ 81,  27,   9,   3,   1],\n",
              "       [256,  64,  16,   4,   1],\n",
              "       [625, 125,  25,   5,   1]])"
            ]
          },
          "metadata": {
            "tags": []
          },
          "execution_count": 1
        }
      ]
    },
    {
      "cell_type": "code",
      "metadata": {
        "colab": {
          "base_uri": "https://localhost:8080/"
        },
        "id": "xbBmRJd3-wTY",
        "outputId": "de10affd-bca6-4892-b91e-535496fb2069"
      },
      "source": [
        "import numpy as np\r\n",
        "\r\n",
        "x = np.array([1,2,3,4,5])\r\n",
        "N = 5\r\n",
        "matrix1 = np.vander(x,N)\r\n",
        "matrix1"
      ],
      "execution_count": 2,
      "outputs": [
        {
          "output_type": "execute_result",
          "data": {
            "text/plain": [
              "array([[  1,   1,   1,   1,   1],\n",
              "       [ 16,   8,   4,   2,   1],\n",
              "       [ 81,  27,   9,   3,   1],\n",
              "       [256,  64,  16,   4,   1],\n",
              "       [625, 125,  25,   5,   1]])"
            ]
          },
          "metadata": {
            "tags": []
          },
          "execution_count": 2
        }
      ]
    },
    {
      "cell_type": "markdown",
      "metadata": {
        "id": "pd9RmV_EEF1x"
      },
      "source": [
        "# Or"
      ]
    },
    {
      "cell_type": "code",
      "metadata": {
        "colab": {
          "base_uri": "https://localhost:8080/"
        },
        "id": "2z60llU1EG7J",
        "outputId": "9ebb341c-476c-4ecd-b264-fa8e24b28c10"
      },
      "source": [
        "import numpy as np\r\n",
        "\r\n",
        "x = np.array([1,2,3,4,5])\r\n",
        "matrix2 = np.vander(x)  # returns a square matrix.\r\n",
        "matrix2"
      ],
      "execution_count": 3,
      "outputs": [
        {
          "output_type": "execute_result",
          "data": {
            "text/plain": [
              "array([[  1,   1,   1,   1,   1],\n",
              "       [ 16,   8,   4,   2,   1],\n",
              "       [ 81,  27,   9,   3,   1],\n",
              "       [256,  64,  16,   4,   1],\n",
              "       [625, 125,  25,   5,   1]])"
            ]
          },
          "metadata": {
            "tags": []
          },
          "execution_count": 3
        }
      ]
    },
    {
      "cell_type": "code",
      "metadata": {
        "id": "pzb4K5qkEx9_"
      },
      "source": [
        ""
      ],
      "execution_count": 3,
      "outputs": []
    },
    {
      "cell_type": "code",
      "metadata": {
        "id": "x_-h9ZIPEz2K"
      },
      "source": [
        ""
      ],
      "execution_count": 3,
      "outputs": []
    },
    {
      "cell_type": "code",
      "metadata": {
        "id": "YBobQSzfE0Bu"
      },
      "source": [
        ""
      ],
      "execution_count": 3,
      "outputs": []
    },
    {
      "cell_type": "markdown",
      "metadata": {
        "id": "Znbnk69b_Gqy"
      },
      "source": [
        "Given a sequence of n values x1, x2, ..., xn and a window size k>0, the k-th moving average of\r\n",
        "the given sequence is defined as follows:\r\n",
        "\r\n",
        "The moving average sequence has n-k+1 elements as shown below.\r\n",
        "\r\n",
        "The moving averages with k=4 of a ten-value sequence (n=10) is shown below\r\n",
        "\r\n",
        "i 1 2 3 4 5 6 7 8 9 10\r\n",
        "\r\n",
        "===== == == == == == == == == == ==\r\n",
        "\r\n",
        "Input 10 20 30 40 50 60 70 80 90 100\r\n",
        "\r\n",
        "y1 25 = (10+20+30+40)/4\r\n",
        "\r\n",
        "y2 35 = (20+30+40+50)/4\r\n",
        "\r\n",
        "y3 45 = (30+40+50+60)/4\r\n",
        "\r\n",
        "y4 55 = (40+50+60+70)/4\r\n",
        "\r\n",
        "y5 65 = (50+60+70+80)/4\r\n",
        "\r\n",
        "y6 75 = (60+70+80+90)/4\r\n",
        "\r\n",
        "y7 85 = (70+80+90+100)/4\r\n",
        "\r\n",
        "Thus, the moving average sequence has n-k+1=10-4+1=7 values."
      ]
    },
    {
      "cell_type": "code",
      "metadata": {
        "colab": {
          "base_uri": "https://localhost:8080/"
        },
        "id": "vS5CQw2U3Itw",
        "outputId": "bc4cb90d-0048-4f4e-9507-af2b9fcf5db2"
      },
      "source": [
        "def Moving_Window_Average(arr,n,k):\r\n",
        "  values = n-k+1\r\n",
        "  idx = 0\r\n",
        "  i = 0\r\n",
        "  while idx < values and i < len(arr)-3:\r\n",
        "    sum = 0\r\n",
        "    for j in range(i,i+4):\r\n",
        "      sum += arr[j]\r\n",
        "    y = round(sum//k,2)\r\n",
        "    print(y,end = '\\n')\r\n",
        "    idx += 1\r\n",
        "    i += 1\r\n",
        "\r\n",
        "arr = [10,20,30,40,50,60,70,80,90,100]\r\n",
        "n = len(arr)\r\n",
        "k = 4\r\n",
        "print('In Integer format\\n')\r\n",
        "Moving_Window_Average(arr,n,k)"
      ],
      "execution_count": 4,
      "outputs": [
        {
          "output_type": "stream",
          "text": [
            "In Integer format\n",
            "\n",
            "25\n",
            "35\n",
            "45\n",
            "55\n",
            "65\n",
            "75\n",
            "85\n"
          ],
          "name": "stdout"
        }
      ]
    },
    {
      "cell_type": "code",
      "metadata": {
        "colab": {
          "base_uri": "https://localhost:8080/"
        },
        "id": "1otgPN2F3Kut",
        "outputId": "b8a4cc76-3b5d-45cb-d0d9-51de125494e9"
      },
      "source": [
        "def Moving_Window_Average(arr,n,k):\r\n",
        "  values = n-k+1\r\n",
        "  idx = 0\r\n",
        "  i = 0\r\n",
        "  while idx < values and i < len(arr)-3:\r\n",
        "    sum = 0\r\n",
        "    for j in range(i,i+4):\r\n",
        "      sum += arr[j]\r\n",
        "    y = round(sum/k,2)\r\n",
        "    print(y,end = '\\n')\r\n",
        "    idx += 1\r\n",
        "    i += 1\r\n",
        "\r\n",
        "arr = [10,20,30,40,50,60,70,80,90,100]\r\n",
        "n = len(arr)\r\n",
        "k = 4\r\n",
        "print('In Float format\\n')\r\n",
        "Moving_Window_Average(arr,n,k)"
      ],
      "execution_count": 5,
      "outputs": [
        {
          "output_type": "stream",
          "text": [
            "In Float format\n",
            "\n",
            "25.0\n",
            "35.0\n",
            "45.0\n",
            "55.0\n",
            "65.0\n",
            "75.0\n",
            "85.0\n"
          ],
          "name": "stdout"
        }
      ]
    },
    {
      "cell_type": "markdown",
      "metadata": {
        "id": "E6x_J59Y_gvn"
      },
      "source": [
        "Write a function to find moving average in an array over a window:\r\n",
        "\r\n",
        "Test it over [3, 5, 7, 2, 8, 10, 11, 65, 72, 81, 99, 100, 150] and window of 3."
      ]
    },
    {
      "cell_type": "code",
      "metadata": {
        "colab": {
          "base_uri": "https://localhost:8080/"
        },
        "id": "tSIi-YRh3RV5",
        "outputId": "e341952d-fd08-46e2-888f-caa14c87c292"
      },
      "source": [
        "def Moving_Window_Average(arr,n,k):\r\n",
        "  values = n-k+1\r\n",
        "  idx = 0\r\n",
        "  i = 0\r\n",
        "  while idx < values and i < len(arr)-2:\r\n",
        "    sum = 0\r\n",
        "    for j in range(i,i+3):\r\n",
        "      sum += arr[j]\r\n",
        "    y = round(sum//k,2)\r\n",
        "    print(y,end = '\\n')\r\n",
        "    idx += 1\r\n",
        "    i += 1\r\n",
        "\r\n",
        "arr = [3, 5, 7, 2, 8, 10, 11, 65, 72, 81, 99, 100, 150]\r\n",
        "n = len(arr)\r\n",
        "k = 3\r\n",
        "print('In Integer format\\n')\r\n",
        "Moving_Window_Average(arr,n,k)"
      ],
      "execution_count": 6,
      "outputs": [
        {
          "output_type": "stream",
          "text": [
            "In Integer format\n",
            "\n",
            "5\n",
            "4\n",
            "5\n",
            "6\n",
            "9\n",
            "28\n",
            "49\n",
            "72\n",
            "84\n",
            "93\n",
            "116\n"
          ],
          "name": "stdout"
        }
      ]
    },
    {
      "cell_type": "code",
      "metadata": {
        "colab": {
          "base_uri": "https://localhost:8080/"
        },
        "id": "9kzrLUiO3Wex",
        "outputId": "e7914a63-a7d1-4c63-e349-34ada0d0214e"
      },
      "source": [
        "def Moving_Window_Average(arr,n,k):\r\n",
        "  values = n-k+1\r\n",
        "  idx = 0\r\n",
        "  i = 0\r\n",
        "  while idx < values and i < len(arr)-2:\r\n",
        "    sum = 0\r\n",
        "    for j in range(i,i+3):\r\n",
        "      sum += arr[j]\r\n",
        "    y = round(sum/k,2)\r\n",
        "    print(y,end = '\\n')\r\n",
        "    idx += 1\r\n",
        "    i += 1\r\n",
        "\r\n",
        "arr = [3, 5, 7, 2, 8, 10, 11, 65, 72, 81, 99, 100, 150]\r\n",
        "n = len(arr)\r\n",
        "k = 3\r\n",
        "print('In Float format\\n')\r\n",
        "Moving_Window_Average(arr,n,k)"
      ],
      "execution_count": 7,
      "outputs": [
        {
          "output_type": "stream",
          "text": [
            "In Float format\n",
            "\n",
            "5.0\n",
            "4.67\n",
            "5.67\n",
            "6.67\n",
            "9.67\n",
            "28.67\n",
            "49.33\n",
            "72.67\n",
            "84.0\n",
            "93.33\n",
            "116.33\n"
          ],
          "name": "stdout"
        }
      ]
    },
    {
      "cell_type": "code",
      "metadata": {
        "colab": {
          "base_uri": "https://localhost:8080/"
        },
        "id": "jJqpapy634SV",
        "outputId": "8e6841de-d584-4ff8-e0c4-06b27ecc7e8f"
      },
      "source": [
        "# Using the concept of cumulative sum:\r\n",
        "import numpy as np\r\n",
        "\r\n",
        "def moving_avg(arr,n):\r\n",
        "  asum = np.cumsum(arr,dtype =float)  # asum has cumsum of all the elements.\r\n",
        "\r\n",
        "  asum[n:] = asum[n:] - asum[:-n]  # asum[3:] and asum[:-3] will give us the cumsum \r\n",
        "                                    # from second three elements till last three elements.\r\n",
        "\r\n",
        "  return asum[n-1:]/n    # as index starts at zero and n being 3 which is the window size,\r\n",
        "                         # asum[n-1] gives the cumsum of first three elements and asum[n-1:]\r\n",
        "                         # gives the cumsum of the given array and dividing by n gives an \r\n",
        "                         # moving_avg array.\r\n",
        "\r\n",
        "arr = [10,20,30,40,50,60,70,80,90,100]\r\n",
        "n = 3\r\n",
        "moving_avg(arr,n).round(2)"
      ],
      "execution_count": 8,
      "outputs": [
        {
          "output_type": "execute_result",
          "data": {
            "text/plain": [
              "array([20., 30., 40., 50., 60., 70., 80., 90.])"
            ]
          },
          "metadata": {
            "tags": []
          },
          "execution_count": 8
        }
      ]
    },
    {
      "cell_type": "code",
      "metadata": {
        "colab": {
          "base_uri": "https://localhost:8080/"
        },
        "id": "Jc-j-TwP3nNl",
        "outputId": "5451a39c-1a9c-41e6-e7f9-8583e4e0b93f"
      },
      "source": [
        "# Using the concept of cumulative sum:\r\n",
        "import numpy as np\r\n",
        "\r\n",
        "def moving_avg(arr,n):\r\n",
        "  asum = np.cumsum(arr,dtype =float)  # asum has cumsum of all the elements.\r\n",
        "\r\n",
        "  asum[n:] = asum[n:] - asum[:-n]  # asum[3:] and asum[:-3] will give us the cumsum \r\n",
        "                                    # from second three elements till last three elements.\r\n",
        "\r\n",
        "  return asum[n-1:]/n    # as index starts at zero and n being 3 which is the window size,\r\n",
        "                         # asum[n-1] gives the cumsum of first three elements and asum[n-1:]\r\n",
        "                         # gives the cumsum of the given array and dividing by n gives an \r\n",
        "                         # moving_avg array.\r\n",
        "\r\n",
        "arr = [3, 5, 7, 2, 8, 10, 11, 65, 72, 81, 99, 100, 150]\r\n",
        "n = 3\r\n",
        "moving_avg(arr,n).round(2)"
      ],
      "execution_count": 9,
      "outputs": [
        {
          "output_type": "execute_result",
          "data": {
            "text/plain": [
              "array([  5.  ,   4.67,   5.67,   6.67,   9.67,  28.67,  49.33,  72.67,\n",
              "        84.  ,  93.33, 116.33])"
            ]
          },
          "metadata": {
            "tags": []
          },
          "execution_count": 9
        }
      ]
    },
    {
      "cell_type": "code",
      "metadata": {
        "id": "5vH8sbDy4LZE"
      },
      "source": [
        ""
      ],
      "execution_count": 9,
      "outputs": []
    }
  ]
}