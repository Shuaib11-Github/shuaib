{
  "nbformat": 4,
  "nbformat_minor": 0,
  "metadata": {
    "kernelspec": {
      "display_name": "Python 3",
      "language": "python",
      "name": "python3"
    },
    "language_info": {
      "codemirror_mode": {
        "name": "ipython",
        "version": 3
      },
      "file_extension": ".py",
      "mimetype": "text/x-python",
      "name": "python",
      "nbconvert_exporter": "python",
      "pygments_lexer": "ipython3",
      "version": "3.6.4"
    },
    "colab": {
      "name": "ridge_regression.ipynb",
      "provenance": [],
      "include_colab_link": true
    }
  },
  "cells": [
    {
      "cell_type": "markdown",
      "metadata": {
        "id": "view-in-github",
        "colab_type": "text"
      },
      "source": [
        "<a href=\"https://colab.research.google.com/github/Shuaib11-Github/shuaib/blob/master/Linear%2C%20Ridge%2C%20Lasso%20analysis%20with%20and%20without%20outliers.ipynb\" target=\"_parent\"><img src=\"https://colab.research.google.com/assets/colab-badge.svg\" alt=\"Open In Colab\"/></a>"
      ]
    },
    {
      "cell_type": "markdown",
      "metadata": {
        "id": "Gbnrck0hxEJQ"
      },
      "source": [
        "### Analysis of Linear, Ridge, Lasso without outliers:"
      ]
    },
    {
      "cell_type": "code",
      "metadata": {
        "id": "ouXwumKqt6CV",
        "outputId": "1281d1c9-275e-44f5-c90c-e49a187944b8",
        "colab": {
          "base_uri": "https://localhost:8080/",
          "height": 279
        }
      },
      "source": [
        "import pandas as pd\r\n",
        "import numpy as np\r\n",
        "import matplotlib.pyplot as plt\r\n",
        "\r\n",
        "train = [ [4.0,50],[4.2,55],[4.4,60],[4.6,65], [4.8,70], [5,75]]\r\n",
        "test = [[5,68], [4.3,53], [4.7,69], [4,55], [4.5,58]]\r\n",
        "X_train = [4.0, 4.2, 4.4, 4.6, 4.8, 5]\r\n",
        "y_train = [50, 55, 60, 65, 70, 75]\r\n",
        "X_test = [5, 4.3, 4.7, 4, 4.5]\r\n",
        "y_test = [68, 53, 69, 55, 58]\r\n",
        "plt.scatter(np.array(X_train),y_train,color='blue')\r\n",
        "plt.scatter(np.array(X_test),y_test,color='red')\r\n",
        "plt.plot([min(X_train), max(X_train)], [min(y_train), max(y_train)], color='green') # predicted\r\n",
        "plt.xlabel('Height in ft')\r\n",
        "plt.ylabel('Weight in kgs')\r\n",
        "plt.show()"
      ],
      "execution_count": 34,
      "outputs": [
        {
          "output_type": "display_data",
          "data": {
            "image/png": "[encoded data removed]",
            "text/plain": [
              "<Figure size 432x288 with 1 Axes>"
            ]
          },
          "metadata": {
            "tags": [],
            "needs_background": "light"
          }
        }
      ]
    },
    {
      "cell_type": "code",
      "metadata": {
        "id": "XHBvZCVSt6Fd",
        "outputId": "3dba03fe-a0d9-454d-af86-a25edb7960f2",
        "colab": {
          "base_uri": "https://localhost:8080/",
          "height": 265
        }
      },
      "source": [
        "X_train = np.array(X_train).reshape(-1, 1)\r\n",
        "X_test = np.array(X_test).reshape(-1, 1)\r\n",
        "from sklearn.linear_model import LinearRegression\r\n",
        "from sklearn.linear_model import Lasso\r\n",
        "from sklearn.linear_model import Ridge\r\n",
        "model_ridge = Ridge(alpha=1)\r\n",
        "model_ridge.fit(X_train,y_train)\r\n",
        "model_lasso = Lasso(alpha=1)\r\n",
        "model_lasso.fit(X_train,y_train)\r\n",
        "model_lnr = LinearRegression()\r\n",
        "model_lnr.fit(X_train,y_train)\r\n",
        "\r\n",
        "x_gen = np.linspace(4,5.1,50)\r\n",
        "x_gen = x_gen.reshape(-1,1)\r\n",
        "y_las= model_lasso.predict(x_gen)\r\n",
        "y_lnr = model_lnr.predict(x_gen)\r\n",
        "y_rid = model_ridge.predict(x_gen)\r\n",
        "\r\n",
        "plt.scatter(np.array(X_train),y_train,color='blue')\r\n",
        "plt.scatter(np.array(X_test),y_test,color='red')\r\n",
        "plt.plot(x_gen,y_lnr,color='black')\r\n",
        "plt.plot(x_gen,y_las,color='red')\r\n",
        "plt.plot(x_gen,y_rid,color='blue')\r\n",
        "plt.show()"
      ],
      "execution_count": 35,
      "outputs": [
        {
          "output_type": "display_data",
          "data": {
            "image/png": "[encoded data removed]",
            "text/plain": [
              "<Figure size 432x288 with 1 Axes>"
            ]
          },
          "metadata": {
            "tags": [],
            "needs_background": "light"
          }
        }
      ]
    },
    {
      "cell_type": "markdown",
      "metadata": {
        "id": "HqFEimdhxrAw"
      },
      "source": [
        "### Accuracy with respect to Test data:"
      ]
    },
    {
      "cell_type": "code",
      "metadata": {
        "id": "Gghy3Tr0xedu",
        "outputId": "b66dd9ae-f6bf-4f2a-e3c6-4901f0d55e7d",
        "colab": {
          "base_uri": "https://localhost:8080/"
        }
      },
      "source": [
        "lnr_score = model_lnr.score(X_test, y_test)\r\n",
        "rid_score = model_ridge.score(X_test, y_test)\r\n",
        "lasso_score = model_lasso.score(X_test, y_test)\r\n",
        "\r\n",
        "print(lnr_score)\r\n",
        "print(rid_score)\r\n",
        "print(lasso_score)"
      ],
      "execution_count": 36,
      "outputs": [
        {
          "output_type": "stream",
          "text": [
            "0.47219710669077686\n",
            "0.5433722632761219\n",
            "0.6515527549175185\n"
          ],
          "name": "stdout"
        }
      ]
    },
    {
      "cell_type": "markdown",
      "metadata": {
        "id": "AgBJ0ulgxRmO"
      },
      "source": [
        "### Accuracy with respect to Training data:"
      ]
    },
    {
      "cell_type": "code",
      "metadata": {
        "id": "KjPXyetMuZ5W",
        "outputId": "6e5ad3ed-9428-4cc4-c65a-386fedc769ae",
        "colab": {
          "base_uri": "https://localhost:8080/"
        }
      },
      "source": [
        "lnr_score = model_lnr.score(X_train, y_train)\r\n",
        "rid_score = model_ridge.score(X_train, y_train)\r\n",
        "lasso_score = model_lasso.score(X_train, y_train)\r\n",
        "\r\n",
        "print(lnr_score)\r\n",
        "print(rid_score)\r\n",
        "print(lasso_score)"
      ],
      "execution_count": 37,
      "outputs": [
        {
          "output_type": "stream",
          "text": [
            "1.0\n",
            "0.6539792387543252\n",
            "0.8824489795918363\n"
          ],
          "name": "stdout"
        }
      ]
    },
    {
      "cell_type": "markdown",
      "metadata": {
        "id": "h2i6YBhTwvyg"
      },
      "source": [
        "### Predicting for a new data point"
      ]
    },
    {
      "cell_type": "code",
      "metadata": {
        "id": "bxNWHxOavYoj",
        "outputId": "690334d5-2747-4230-d69b-9902fdbfd2e4",
        "colab": {
          "base_uri": "https://localhost:8080/"
        }
      },
      "source": [
        "lnr1 = model_lnr.predict([[5.2]])\r\n",
        "rid1 = model_ridge.predict([[5.2]])\r\n",
        "las1 = model_lasso.predict([[5.2]])\r\n",
        "\r\n",
        "print(lnr1)\r\n",
        "print(rid1)\r\n",
        "print(las1)"
      ],
      "execution_count": 38,
      "outputs": [
        {
          "output_type": "stream",
          "text": [
            "[80.]\n",
            "[69.70588235]\n",
            "[74.]\n"
          ],
          "name": "stdout"
        }
      ]
    },
    {
      "cell_type": "code",
      "metadata": {
        "id": "_FlShWVgx2ha"
      },
      "source": [
        ""
      ],
      "execution_count": null,
      "outputs": []
    },
    {
      "cell_type": "markdown",
      "metadata": {
        "id": "V9UZW1V1x4WK"
      },
      "source": [
        "### Analysis of Linear, Ridge, Lasso with outliers:"
      ]
    },
    {
      "cell_type": "code",
      "metadata": {
        "id": "DuPGu_Avx2kn",
        "outputId": "741dee58-0006-435a-e06b-530c0df54345",
        "colab": {
          "base_uri": "https://localhost:8080/",
          "height": 279
        }
      },
      "source": [
        "import pandas as pd\r\n",
        "import numpy as np\r\n",
        "import matplotlib.pyplot as plt\r\n",
        "\r\n",
        "train = [ [4.0,50],[4.2,55],[4.4,60],[4.6,65], [4.8,70], [5,75], [6, 90]]\r\n",
        "test = [[5,68], [4.3,53], [4.7,69], [4,55], [4.5,58]]\r\n",
        "X_train = [4.0, 4.2, 4.4, 4.6, 4.8, 5, 6]\r\n",
        "y_train = [50, 55, 60, 65, 70, 75, 90]\r\n",
        "X_test = [4, 4.3, 4.5, 4.7, 5]\r\n",
        "y_test = [55, 53, 58, 69, 68]\r\n",
        "plt.scatter(np.array(X_train),y_train,color='blue')\r\n",
        "plt.scatter(np.array(X_test),y_test,color='red')\r\n",
        "plt.plot([min(X_train), max(X_train)], [min(y_train), max(y_train)], color='green') # predicted\r\n",
        "plt.xlabel('Height in ft')\r\n",
        "plt.ylabel('Weight in kgs')\r\n",
        "plt.show()"
      ],
      "execution_count": 73,
      "outputs": [
        {
          "output_type": "display_data",
          "data": {
            "image/png": "[encoded data removed]",
            "text/plain": [
              "<Figure size 432x288 with 1 Axes>"
            ]
          },
          "metadata": {
            "tags": [],
            "needs_background": "light"
          }
        }
      ]
    },
    {
      "cell_type": "code",
      "metadata": {
        "id": "Lv14pp4Fx2n3",
        "outputId": "366b8028-8cdd-4f3c-85f8-33aa477fa2a0",
        "colab": {
          "base_uri": "https://localhost:8080/",
          "height": 265
        }
      },
      "source": [
        "X_train = np.array(X_train).reshape(-1, 1)\r\n",
        "X_test = np.array(X_test).reshape(-1, 1)\r\n",
        "from sklearn.linear_model import LinearRegression\r\n",
        "from sklearn.linear_model import Lasso\r\n",
        "from sklearn.linear_model import Ridge\r\n",
        "model_ridge = Ridge(alpha=1)\r\n",
        "model_ridge.fit(X_train,y_train)\r\n",
        "model_lasso = Lasso(alpha=1)\r\n",
        "model_lasso.fit(X_train,y_train)\r\n",
        "model_lnr = LinearRegression()\r\n",
        "model_lnr.fit(X_train,y_train)\r\n",
        "\r\n",
        "x_gen = np.linspace(4,6.1,50)\r\n",
        "x_gen = x_gen.reshape(-1,1)\r\n",
        "y_las= model_lasso.predict(x_gen)\r\n",
        "y_lnr = model_lnr.predict(x_gen)\r\n",
        "y_rid = model_ridge.predict(x_gen)\r\n",
        "\r\n",
        "plt.scatter(np.array(X_train),y_train,color='blue')\r\n",
        "plt.scatter(np.array(X_test),y_test,color='red')\r\n",
        "plt.plot(x_gen,y_lnr,color='black')\r\n",
        "plt.plot(x_gen,y_las,color='red')\r\n",
        "plt.plot(x_gen,y_rid,color='blue')\r\n",
        "plt.show()"
      ],
      "execution_count": 74,
      "outputs": [
        {
          "output_type": "display_data",
          "data": {
            "image/png": "[encoded data removed]",
            "text/plain": [
              "<Figure size 432x288 with 1 Axes>"
            ]
          },
          "metadata": {
            "tags": [],
            "needs_background": "light"
          }
        }
      ]
    },
    {
      "cell_type": "markdown",
      "metadata": {
        "id": "OwQVL_0qyoTc"
      },
      "source": [
        "### Accuracy with respect to Test data with outlier:"
      ]
    },
    {
      "cell_type": "code",
      "metadata": {
        "id": "p1Hz8_JUx2sQ",
        "outputId": "2345736d-c45c-461f-c86e-8ca8a23201f9",
        "colab": {
          "base_uri": "https://localhost:8080/"
        }
      },
      "source": [
        "lnr_score = model_lnr.score(X_test, y_test)\r\n",
        "rid_score = model_ridge.score(X_test, y_test)\r\n",
        "lasso_score = model_lasso.score(X_test, y_test)\r\n",
        "\r\n",
        "print(lnr_score)\r\n",
        "print(rid_score)\r\n",
        "print(lasso_score)"
      ],
      "execution_count": 75,
      "outputs": [
        {
          "output_type": "stream",
          "text": [
            "0.6511514996393614\n",
            "0.5555311454203375\n",
            "0.6332601997781482\n"
          ],
          "name": "stdout"
        }
      ]
    },
    {
      "cell_type": "markdown",
      "metadata": {
        "id": "U7sOJUzMy5YG"
      },
      "source": [
        "### Accuracy with respect to Training data with outlier:"
      ]
    },
    {
      "cell_type": "code",
      "metadata": {
        "id": "KOzBCVkdx2wv",
        "outputId": "4a799cae-0e58-4d69-da0d-6f955007dd8c",
        "colab": {
          "base_uri": "https://localhost:8080/"
        }
      },
      "source": [
        "lnr_score = model_lnr.score(X_train, y_train)\r\n",
        "rid_score = model_ridge.score(X_train, y_train)\r\n",
        "lasso_score = model_lasso.score(X_train, y_train)\r\n",
        "\r\n",
        "print(lnr_score)\r\n",
        "print(rid_score)\r\n",
        "print(lasso_score)"
      ],
      "execution_count": 76,
      "outputs": [
        {
          "output_type": "stream",
          "text": [
            "0.9789759725400458\n",
            "0.9046225987188817\n",
            "0.9618063501144165\n"
          ],
          "name": "stdout"
        }
      ]
    },
    {
      "cell_type": "markdown",
      "metadata": {
        "id": "b8ufdW73zr4w"
      },
      "source": [
        "### Predicting for a new data point:"
      ]
    },
    {
      "cell_type": "code",
      "metadata": {
        "id": "M4-1FfMDzEvI",
        "outputId": "3482d98f-424e-4e87-e95a-0a1d3bf91538",
        "colab": {
          "base_uri": "https://localhost:8080/"
        }
      },
      "source": [
        "lnr1 = model_lnr.predict([[5.4]])\r\n",
        "rid1 = model_ridge.predict([[5.4]])\r\n",
        "las1 = model_lasso.predict([[5.4]])\r\n",
        "\r\n",
        "print(lnr1)\r\n",
        "print(rid1)\r\n",
        "print(las1)"
      ],
      "execution_count": 78,
      "outputs": [
        {
          "output_type": "stream",
          "text": [
            "[80.2173913]\n",
            "[76.41732283]\n",
            "[78.39130435]\n"
          ],
          "name": "stdout"
        }
      ]
    },
    {
      "cell_type": "code",
      "metadata": {
        "id": "nvpHd3vIzqaA"
      },
      "source": [
        ""
      ],
      "execution_count": null,
      "outputs": []
    },
    {
      "cell_type": "code",
      "metadata": {
        "id": "_lfxDi10zqeZ"
      },
      "source": [
        ""
      ],
      "execution_count": null,
      "outputs": []
    },
    {
      "cell_type": "code",
      "metadata": {
        "id": "yp1f4l75zqhc"
      },
      "source": [
        ""
      ],
      "execution_count": null,
      "outputs": []
    },
    {
      "cell_type": "code",
      "metadata": {
        "id": "vYUFUU9izqlW"
      },
      "source": [
        ""
      ],
      "execution_count": null,
      "outputs": []
    },
    {
      "cell_type": "code",
      "metadata": {
        "id": "kn0UhJxazqqO"
      },
      "source": [
        ""
      ],
      "execution_count": null,
      "outputs": []
    }
  ]
}