{
  "nbformat": 4,
  "nbformat_minor": 0,
  "metadata": {
    "colab": {
      "name": "Two number sum.ipynb",
      "provenance": [],
      "authorship_tag": "ABX9TyM45tSfYBWG2qyH2RPzNjV1",
      "include_colab_link": true
    },
    "kernelspec": {
      "name": "python3",
      "display_name": "Python 3"
    }
  },
  "cells": [
    {
      "cell_type": "markdown",
      "metadata": {
        "id": "view-in-github",
        "colab_type": "text"
      },
      "source": [
        "<a href=\"https://colab.research.google.com/github/Shuaib11-Github/shuaib/blob/master/Two_number_sum.ipynb\" target=\"_parent\"><img src=\"https://colab.research.google.com/assets/colab-badge.svg\" alt=\"Open In Colab\"/></a>"
      ]
    },
    {
      "cell_type": "code",
      "metadata": {
        "colab": {
          "base_uri": "https://localhost:8080/"
        },
        "id": "qpJN6xO_nPRO",
        "outputId": "21c04813-1f8e-49d2-f734-964182a6cae7"
      },
      "source": [
        "#O(n^2) Time | O(1) Space\r\n",
        "# Two number sum:\r\n",
        "def twonumsum(arr,targetsum):\r\n",
        "  for i in range(len(arr)-1):\r\n",
        "    firstnum = arr[i]\r\n",
        "    for j in range(i+1,len(arr)):\r\n",
        "      secondnum = arr[j]\r\n",
        "      if firstnum + secondnum == targetsum:\r\n",
        "        return [firstnum,secondnum]\r\n",
        "  return []\r\n",
        "\r\n",
        "twonumsum([3,5,-4,8,11,1,-1,6],13)"
      ],
      "execution_count": 1,
      "outputs": [
        {
          "output_type": "execute_result",
          "data": {
            "text/plain": [
              "[5, 8]"
            ]
          },
          "metadata": {
            "tags": []
          },
          "execution_count": 1
        }
      ]
    },
    {
      "cell_type": "code",
      "metadata": {
        "colab": {
          "base_uri": "https://localhost:8080/"
        },
        "id": "I9X6xi45nQ4Q",
        "outputId": "03c7b4e6-73b6-404d-94a0-4e8e3d13e299"
      },
      "source": [
        "#O(n) Time | O(n) Space\r\n",
        "# Two number sum:\r\n",
        "def twonumsum(arr,targetsum):\r\n",
        "  nums = {}\r\n",
        "  for num in arr:\r\n",
        "    PotentialMatch = targetsum - num\r\n",
        "    if PotentialMatch in nums:\r\n",
        "      return [PotentialMatch,num]\r\n",
        "    else:\r\n",
        "      nums[num] = True\r\n",
        "  return []\r\n",
        "\r\n",
        "twonumsum([3,5,-4,8,11,1,-1,6],13)"
      ],
      "execution_count": 2,
      "outputs": [
        {
          "output_type": "execute_result",
          "data": {
            "text/plain": [
              "[5, 8]"
            ]
          },
          "metadata": {
            "tags": []
          },
          "execution_count": 2
        }
      ]
    },
    {
      "cell_type": "code",
      "metadata": {
        "colab": {
          "base_uri": "https://localhost:8080/"
        },
        "id": "mNtawwZGnRDl",
        "outputId": "e44da23a-4ba2-4227-ba02-58c902c0eba0"
      },
      "source": [
        "# O(nLog(n)) Time | O(1) Space\r\n",
        "# Two number sum:\r\n",
        "def twonumsum(arr,targetsum):\r\n",
        "  arr.sort()\r\n",
        "  left = 0\r\n",
        "  right = len(arr) - 1\r\n",
        "  while left < right:\r\n",
        "    currentsum = arr[left] + arr[right]\r\n",
        "    if currentsum == targetsum:\r\n",
        "      return [arr[left],arr[right]]\r\n",
        "    elif currentsum < targetsum:\r\n",
        "      left += 1\r\n",
        "    elif currentsum > targetsum:\r\n",
        "      right -= 1\r\n",
        "  return []\r\n",
        "twonumsum([3,5,-4,8,11,1,-1,6],13)"
      ],
      "execution_count": 3,
      "outputs": [
        {
          "output_type": "execute_result",
          "data": {
            "text/plain": [
              "[5, 8]"
            ]
          },
          "metadata": {
            "tags": []
          },
          "execution_count": 3
        }
      ]
    },
    {
      "cell_type": "code",
      "metadata": {
        "id": "Um49KBcZp8rr"
      },
      "source": [
        ""
      ],
      "execution_count": null,
      "outputs": []
    }
  ]
}