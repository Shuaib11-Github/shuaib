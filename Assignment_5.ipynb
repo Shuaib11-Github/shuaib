{
  "nbformat": 4,
  "nbformat_minor": 0,
  "metadata": {
    "colab": {
      "name": "Assignment 5.ipynb",
      "provenance": [],
      "authorship_tag": "ABX9TyPvJdQ6bjDwOFZMiQVQP18K",
      "include_colab_link": true
    },
    "kernelspec": {
      "name": "python3",
      "display_name": "Python 3"
    }
  },
  "cells": [
    {
      "cell_type": "markdown",
      "metadata": {
        "id": "view-in-github",
        "colab_type": "text"
      },
      "source": [
        "<a href=\"https://colab.research.google.com/github/Shuaib11-Github/shuaib/blob/master/Assignment_5.ipynb\" target=\"_parent\"><img src=\"https://colab.research.google.com/assets/colab-badge.svg\" alt=\"Open In Colab\"/></a>"
      ]
    },
    {
      "cell_type": "code",
      "metadata": {
        "colab": {
          "base_uri": "https://localhost:8080/"
        },
        "id": "jFJadddlSdcY",
        "outputId": "c97c09f8-2115-407b-95f2-b49a0071db03"
      },
      "source": [
        "# I Method:\r\n",
        "try:\r\n",
        "  5/0\r\n",
        "except ZeroDivisionError as ze:\r\n",
        "  print(ze)\r\n",
        "  print('Dividing by 0 is not permitted.')"
      ],
      "execution_count": 1,
      "outputs": [
        {
          "output_type": "stream",
          "text": [
            "division by zero\n",
            "Dividing by 0 is not permitted.\n"
          ],
          "name": "stdout"
        }
      ]
    },
    {
      "cell_type": "code",
      "metadata": {
        "colab": {
          "base_uri": "https://localhost:8080/"
        },
        "id": "jixbG9qVSmLR",
        "outputId": "0ea76ace-84b1-4388-eac3-814dbbd20cb3"
      },
      "source": [
        "# II Method:\r\n",
        "def divide():\r\n",
        "  return 5/0\r\n",
        "try:\r\n",
        "  divide()\r\n",
        "except ZeroDivisionError as ze:\r\n",
        "  print(ze)\r\n",
        "  print('Dividing by 0 is not permitted.')"
      ],
      "execution_count": 2,
      "outputs": [
        {
          "output_type": "stream",
          "text": [
            "division by zero\n",
            "Dividing by 0 is not permitted.\n"
          ],
          "name": "stdout"
        }
      ]
    },
    {
      "cell_type": "code",
      "metadata": {
        "colab": {
          "base_uri": "https://localhost:8080/"
        },
        "id": "qgOIWHmTSpU5",
        "outputId": "edc668da-4986-4b60-d427-cf227b1164a6"
      },
      "source": [
        "# I Method:\r\n",
        "subject = ['Americans','Indians']\r\n",
        "verb = ['Play','Watch']\r\n",
        "object = ['Baseball','Cricket']\r\n",
        "for i in subject:\r\n",
        "  for j in verb:\r\n",
        "    for k in object:\r\n",
        "      print(i,j,k,end='.')\r\n",
        "      print()"
      ],
      "execution_count": 3,
      "outputs": [
        {
          "output_type": "stream",
          "text": [
            "Americans Play Baseball.\n",
            "Americans Play Cricket.\n",
            "Americans Watch Baseball.\n",
            "Americans Watch Cricket.\n",
            "Indians Play Baseball.\n",
            "Indians Play Cricket.\n",
            "Indians Watch Baseball.\n",
            "Indians Watch Cricket.\n"
          ],
          "name": "stdout"
        }
      ]
    },
    {
      "cell_type": "code",
      "metadata": {
        "colab": {
          "base_uri": "https://localhost:8080/"
        },
        "id": "a2HdN39fS3N-",
        "outputId": "3a95ec19-ba1b-42ff-8a7a-e8c6be10bd39"
      },
      "source": [
        "# II Method:\r\n",
        "subject,verb,objects = ['Americans','Indians'],['Play','Watch'],['Baseball','Cricket']\r\n",
        "All_sentences = [(sub+' '+ver+' '+obj+ '.') for sub in subject for ver in verb for obj in objects] \r\n",
        "for sentences in All_sentences: print(sentences)"
      ],
      "execution_count": 4,
      "outputs": [
        {
          "output_type": "stream",
          "text": [
            "Americans Play Baseball.\n",
            "Americans Play Cricket.\n",
            "Americans Watch Baseball.\n",
            "Americans Watch Cricket.\n",
            "Indians Play Baseball.\n",
            "Indians Play Cricket.\n",
            "Indians Watch Baseball.\n",
            "Indians Watch Cricket.\n"
          ],
          "name": "stdout"
        }
      ]
    },
    {
      "cell_type": "code",
      "metadata": {
        "id": "cfj95TuFS4rU"
      },
      "source": [
        ""
      ],
      "execution_count": null,
      "outputs": []
    }
  ]
}