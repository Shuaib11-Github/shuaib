{
  "nbformat": 4,
  "nbformat_minor": 0,
  "metadata": {
    "colab": {
      "name": "Three num sum.ipynb",
      "provenance": [],
      "authorship_tag": "ABX9TyNO+8jd0JaUUn2urbiS6LF9",
      "include_colab_link": true
    },
    "kernelspec": {
      "name": "python3",
      "display_name": "Python 3"
    }
  },
  "cells": [
    {
      "cell_type": "markdown",
      "metadata": {
        "id": "view-in-github",
        "colab_type": "text"
      },
      "source": [
        "<a href=\"https://colab.research.google.com/github/Shuaib11-Github/shuaib/blob/master/Three_num_sum.ipynb\" target=\"_parent\"><img src=\"https://colab.research.google.com/assets/colab-badge.svg\" alt=\"Open In Colab\"/></a>"
      ]
    },
    {
      "cell_type": "code",
      "metadata": {
        "colab": {
          "base_uri": "https://localhost:8080/"
        },
        "id": "B9TVBvEKwypX",
        "outputId": "f8915e14-57d3-4273-f215-c91b9a17047f"
      },
      "source": [
        "# O(n^2) time | O(n) Space:\r\n",
        "def three_num_sum(arr,targetsum):\r\n",
        "  arr.sort()\r\n",
        "  triplets = []\r\n",
        "  for i in range(len(arr) - 2):\r\n",
        "    left = i + 1\r\n",
        "    right = len(arr) - 1\r\n",
        "    while left < right:\r\n",
        "      currentsum = arr[i] + arr[left] + arr[right]\r\n",
        "      if currentsum == targetsum:\r\n",
        "        triplets.append([arr[i],arr[left],arr[right]])\r\n",
        "        left += 1\r\n",
        "        right -= 1\r\n",
        "      elif currentsum < targetsum:\r\n",
        "        left += 1\r\n",
        "      elif currentsum > targetsum:\r\n",
        "        right -= 1\r\n",
        "  return triplets\r\n",
        "\r\n",
        "print(three_num_sum([12,3,1,2,-6,5,-8,6],0),end='\\n')\r\n",
        "print(three_num_sum([10,2,3,6,9,1,7,4,8,5],15),end='')"
      ],
      "execution_count": 1,
      "outputs": [
        {
          "output_type": "stream",
          "text": [
            "[[-8, 2, 6], [-8, 3, 5], [-6, 1, 5]]\n",
            "[[1, 4, 10], [1, 5, 9], [1, 6, 8], [2, 3, 10], [2, 4, 9], [2, 5, 8], [2, 6, 7], [3, 4, 8], [3, 5, 7], [4, 5, 6]]"
          ],
          "name": "stdout"
        }
      ]
    },
    {
      "cell_type": "code",
      "metadata": {
        "colab": {
          "base_uri": "https://localhost:8080/"
        },
        "id": "Q6vPIWTxxBL8",
        "outputId": "99f7cac3-fe1e-4d52-dfa2-d5612dbcd000"
      },
      "source": [
        "# O(n^2) time | O(n) Space:\r\n",
        "def threenumsum(arr,targetsum):\r\n",
        "  arr.sort()\r\n",
        "  left = 0\r\n",
        "  right = len(arr) - 1\r\n",
        "  mid = 1\r\n",
        "  a = []\r\n",
        "  while left < mid < right:\r\n",
        "    while mid < right:\r\n",
        "      currentsum = arr[left] + arr[mid] + arr[right]\r\n",
        "      if currentsum == targetsum:\r\n",
        "        b = [arr[left],arr[mid],arr[right]]\r\n",
        "        a.append(b)\r\n",
        "        mid += 1\r\n",
        "      elif currentsum < targetsum:\r\n",
        "        mid += 1\r\n",
        "      elif currentsum > targetsum:\r\n",
        "        right -= 1\r\n",
        "    left += 1\r\n",
        "    mid = left + 1\r\n",
        "    right = len(arr) - 1\r\n",
        "  return a\r\n",
        "print(threenumsum([10,2,3,6,9,1,7,4,8,5],15),end='\\n')\r\n",
        "print(threenumsum([12,3,1,2,-6,5,-8,6],0),end='')"
      ],
      "execution_count": 2,
      "outputs": [
        {
          "output_type": "stream",
          "text": [
            "[[1, 4, 10], [1, 5, 9], [1, 6, 8], [2, 3, 10], [2, 4, 9], [2, 5, 8], [2, 6, 7], [3, 4, 8], [3, 5, 7], [4, 5, 6]]\n",
            "[[-8, 2, 6], [-8, 3, 5], [-6, 1, 5]]"
          ],
          "name": "stdout"
        }
      ]
    },
    {
      "cell_type": "code",
      "metadata": {
        "id": "CfJ9OpTAxon_"
      },
      "source": [
        ""
      ],
      "execution_count": null,
      "outputs": []
    }
  ]
}